{
 "cells": [
  {
   "cell_type": "markdown",
   "metadata": {},
   "source": [
    "# Detecting Fraudulent Transactions"
   ]
  },
  {
   "cell_type": "markdown",
   "metadata": {},
   "source": [
    "## Setting a custom display style"
   ]
  },
  {
   "cell_type": "code",
   "execution_count": 1,
   "metadata": {
    "ExecuteTime": {
     "end_time": "2020-11-09T04:10:53.107045Z",
     "start_time": "2020-11-09T04:10:53.063317Z"
    }
   },
   "outputs": [
    {
     "data": {
      "text/html": [
       "<style>\n",
       "    @font-face {\n",
       "        font-family: \"Computer Modern\";\n",
       "        src: url('http://mirrors.ctan.org/fonts/cm-unicode/fonts/otf/cmunss.otf');\n",
       "    }\n",
       "    div.cell{\n",
       "        width:800px;\n",
       "        margin-left:auto;\n",
       "        margin-right:auto;\n",
       "    }\n",
       "    h1 {\n",
       "        font-family: \"Charis SIL\", Palatino, serif;\n",
       "    }\n",
       "    h4{\n",
       "        margin-top:12px;\n",
       "        margin-bottom: 3px;\n",
       "       }\n",
       "    div.text_cell_render{\n",
       "        font-family: Computer Modern, \"Helvetica Neue\", Arial, Helvetica, Geneva, sans-serif;\n",
       "        line-height: 145%;\n",
       "        font-size: 120%;\n",
       "        width:800px;\n",
       "        margin-left:auto;\n",
       "        margin-right:auto;\n",
       "    }\n",
       "    .CodeMirror{\n",
       "            font-family: \"Source Code Pro\", source-code-pro,Consolas, monospace;\n",
       "    }\n",
       "    .prompt{\n",
       "        display: None;\n",
       "    }\n",
       "    .text_cell_render h5 {\n",
       "        font-weight: 300;\n",
       "        font-size: 16pt;\n",
       "        color: #4057A1;\n",
       "        font-style: italic;\n",
       "        margin-bottom: .5em;\n",
       "        margin-top: 0.5em;\n",
       "        display: block;\n",
       "    }\n",
       "    \n",
       "    .warning{\n",
       "        color: rgb( 240, 20, 20 )\n",
       "        }\n",
       "</style>\n",
       "<script>\n",
       "    MathJax.Hub.Config({\n",
       "                        TeX: {\n",
       "                           extensions: [\"AMSmath.js\"]\n",
       "                           },\n",
       "                tex2jax: {\n",
       "                    inlineMath: [ ['$','$'], [\"\\\\(\",\"\\\\)\"] ],\n",
       "                    displayMath: [ ['$$','$$'], [\"\\\\[\",\"\\\\]\"] ]\n",
       "                },\n",
       "                displayAlign: 'center', // Change this to 'center' to center equations.\n",
       "                \"HTML-CSS\": {\n",
       "                    styles: {'.MathJax_Display': {\"margin\": 4}}\n",
       "                }\n",
       "        });\n",
       "</script>"
      ],
      "text/plain": [
       "<IPython.core.display.HTML object>"
      ]
     },
     "execution_count": 1,
     "metadata": {},
     "output_type": "execute_result"
    }
   ],
   "source": [
    "from IPython.core.display import HTML\n",
    "\n",
    "def css_styling():\n",
    "    styles = open(\"../styles/custom.css\", \"r\").read()\n",
    "    return HTML(styles)\n",
    "\n",
    "css_styling()"
   ]
  },
  {
   "cell_type": "markdown",
   "metadata": {},
   "source": [
    "## Importing the Libraries"
   ]
  },
  {
   "cell_type": "code",
   "execution_count": 2,
   "metadata": {
    "ExecuteTime": {
     "end_time": "2020-11-09T04:10:59.372215Z",
     "start_time": "2020-11-09T04:10:53.184400Z"
    }
   },
   "outputs": [],
   "source": [
    "import os\n",
    "import json\n",
    "import time\n",
    "import numpy as np\n",
    "import pandas as pd\n",
    "import missingno as msno\n",
    "import matplotlib.pyplot as plt\n",
    "from sklearn.preprocessing import OneHotEncoder\n",
    "from sklearn.preprocessing import LabelEncoder\n",
    "from sklearn.compose import ColumnTransformer\n",
    "from sklearn.preprocessing import StandardScaler\n",
    "from sklearn.model_selection import train_test_split\n",
    "\n",
    "pd.set_option(\"display.max_rows\", 100)\n",
    "pd.set_option(\"display.max_columns\", None)\n",
    "pd.set_option('precision', 4)\n",
    "pd.set_option('max_colwidth', 20)\n",
    "pd.options.display.float_format = '{:20,.2f}'.format"
   ]
  },
  {
   "cell_type": "markdown",
   "metadata": {},
   "source": [
    "## Importing the Dataset"
   ]
  },
  {
   "cell_type": "code",
   "execution_count": 3,
   "metadata": {
    "ExecuteTime": {
     "end_time": "2020-11-09T04:10:59.387946Z",
     "start_time": "2020-11-09T04:10:59.376194Z"
    }
   },
   "outputs": [],
   "source": [
    "os.chdir('..')"
   ]
  },
  {
   "cell_type": "code",
   "execution_count": 4,
   "metadata": {
    "ExecuteTime": {
     "end_time": "2020-11-09T04:10:59.403930Z",
     "start_time": "2020-11-09T04:10:59.394023Z"
    }
   },
   "outputs": [],
   "source": [
    "DATA_PATH = os.getcwd() + '//data//raw//'\n",
    "fname = 'transactions.txt'"
   ]
  },
  {
   "cell_type": "code",
   "execution_count": 5,
   "metadata": {
    "ExecuteTime": {
     "end_time": "2020-11-09T04:10:59.419435Z",
     "start_time": "2020-11-09T04:10:59.407978Z"
    }
   },
   "outputs": [],
   "source": [
    "def read_file(file_name):\n",
    "    \n",
    "    '''\n",
    "    Parameters\n",
    "    ----------\n",
    "    file_name: file path to jsonlines txt\n",
    "    \n",
    "    Returns\n",
    "    Pandas dataframe containing the transaction data\n",
    "    '''\n",
    "    \n",
    "    data = []\n",
    "    with open(DATA_PATH + fname) as input_file:\n",
    "        for line in input_file:\n",
    "            data.append(json.loads(line))\n",
    "        return pd.DataFrame(data)"
   ]
  },
  {
   "cell_type": "code",
   "execution_count": 6,
   "metadata": {
    "ExecuteTime": {
     "end_time": "2020-11-09T04:11:37.142520Z",
     "start_time": "2020-11-09T04:10:59.423394Z"
    }
   },
   "outputs": [
    {
     "name": "stdout",
     "output_type": "stream",
     "text": [
      "Time Elapsed ->37.69 seconds\n"
     ]
    }
   ],
   "source": [
    "start = time.time()\n",
    "df = read_file(DATA_PATH + fname)\n",
    "stop = time.time()\n",
    "print(\"Time Elapsed ->{} seconds\".format(round(stop - start, 2)))"
   ]
  },
  {
   "cell_type": "markdown",
   "metadata": {},
   "source": [
    "### Saving the `df` to `csv`"
   ]
  },
  {
   "cell_type": "code",
   "execution_count": 7,
   "metadata": {
    "ExecuteTime": {
     "end_time": "2020-11-09T04:12:05.003723Z",
     "start_time": "2020-11-09T04:11:37.151015Z"
    }
   },
   "outputs": [],
   "source": [
    "df.to_csv(os.getcwd() + '//data//interim//transactions.csv', index=False)"
   ]
  },
  {
   "cell_type": "markdown",
   "metadata": {},
   "source": [
    "## EDA"
   ]
  },
  {
   "cell_type": "code",
   "execution_count": 8,
   "metadata": {
    "ExecuteTime": {
     "end_time": "2020-11-09T04:12:05.098504Z",
     "start_time": "2020-11-09T04:12:05.009500Z"
    }
   },
   "outputs": [
    {
     "data": {
      "text/html": [
       "<div>\n",
       "<style scoped>\n",
       "    .dataframe tbody tr th:only-of-type {\n",
       "        vertical-align: middle;\n",
       "    }\n",
       "\n",
       "    .dataframe tbody tr th {\n",
       "        vertical-align: top;\n",
       "    }\n",
       "\n",
       "    .dataframe thead th {\n",
       "        text-align: right;\n",
       "    }\n",
       "</style>\n",
       "<table border=\"1\" class=\"dataframe\">\n",
       "  <thead>\n",
       "    <tr style=\"text-align: right;\">\n",
       "      <th></th>\n",
       "      <th>accountNumber</th>\n",
       "      <th>customerId</th>\n",
       "      <th>creditLimit</th>\n",
       "      <th>availableMoney</th>\n",
       "      <th>transactionDateTime</th>\n",
       "      <th>transactionAmount</th>\n",
       "      <th>merchantName</th>\n",
       "      <th>acqCountry</th>\n",
       "      <th>merchantCountryCode</th>\n",
       "      <th>posEntryMode</th>\n",
       "      <th>posConditionCode</th>\n",
       "      <th>merchantCategoryCode</th>\n",
       "      <th>currentExpDate</th>\n",
       "      <th>accountOpenDate</th>\n",
       "      <th>dateOfLastAddressChange</th>\n",
       "      <th>cardCVV</th>\n",
       "      <th>enteredCVV</th>\n",
       "      <th>cardLast4Digits</th>\n",
       "      <th>transactionType</th>\n",
       "      <th>echoBuffer</th>\n",
       "      <th>currentBalance</th>\n",
       "      <th>merchantCity</th>\n",
       "      <th>merchantState</th>\n",
       "      <th>merchantZip</th>\n",
       "      <th>cardPresent</th>\n",
       "      <th>posOnPremises</th>\n",
       "      <th>recurringAuthInd</th>\n",
       "      <th>expirationDateKeyInMatch</th>\n",
       "      <th>isFraud</th>\n",
       "    </tr>\n",
       "  </thead>\n",
       "  <tbody>\n",
       "    <tr>\n",
       "      <th>0</th>\n",
       "      <td>737265056</td>\n",
       "      <td>737265056</td>\n",
       "      <td>5,000.00</td>\n",
       "      <td>5,000.00</td>\n",
       "      <td>2016-08-13T14:27:32</td>\n",
       "      <td>98.55</td>\n",
       "      <td>Uber</td>\n",
       "      <td>US</td>\n",
       "      <td>US</td>\n",
       "      <td>02</td>\n",
       "      <td>01</td>\n",
       "      <td>rideshare</td>\n",
       "      <td>06/2023</td>\n",
       "      <td>2015-03-14</td>\n",
       "      <td>2015-03-14</td>\n",
       "      <td>414</td>\n",
       "      <td>414</td>\n",
       "      <td>1803</td>\n",
       "      <td>PURCHASE</td>\n",
       "      <td></td>\n",
       "      <td>0.00</td>\n",
       "      <td></td>\n",
       "      <td></td>\n",
       "      <td></td>\n",
       "      <td>False</td>\n",
       "      <td></td>\n",
       "      <td></td>\n",
       "      <td>False</td>\n",
       "      <td>False</td>\n",
       "    </tr>\n",
       "    <tr>\n",
       "      <th>1</th>\n",
       "      <td>737265056</td>\n",
       "      <td>737265056</td>\n",
       "      <td>5,000.00</td>\n",
       "      <td>5,000.00</td>\n",
       "      <td>2016-10-11T05:05:54</td>\n",
       "      <td>74.51</td>\n",
       "      <td>AMC #191138</td>\n",
       "      <td>US</td>\n",
       "      <td>US</td>\n",
       "      <td>09</td>\n",
       "      <td>01</td>\n",
       "      <td>entertainment</td>\n",
       "      <td>02/2024</td>\n",
       "      <td>2015-03-14</td>\n",
       "      <td>2015-03-14</td>\n",
       "      <td>486</td>\n",
       "      <td>486</td>\n",
       "      <td>767</td>\n",
       "      <td>PURCHASE</td>\n",
       "      <td></td>\n",
       "      <td>0.00</td>\n",
       "      <td></td>\n",
       "      <td></td>\n",
       "      <td></td>\n",
       "      <td>True</td>\n",
       "      <td></td>\n",
       "      <td></td>\n",
       "      <td>False</td>\n",
       "      <td>False</td>\n",
       "    </tr>\n",
       "    <tr>\n",
       "      <th>2</th>\n",
       "      <td>737265056</td>\n",
       "      <td>737265056</td>\n",
       "      <td>5,000.00</td>\n",
       "      <td>5,000.00</td>\n",
       "      <td>2016-11-08T09:18:39</td>\n",
       "      <td>7.47</td>\n",
       "      <td>Play Store</td>\n",
       "      <td>US</td>\n",
       "      <td>US</td>\n",
       "      <td>09</td>\n",
       "      <td>01</td>\n",
       "      <td>mobileapps</td>\n",
       "      <td>08/2025</td>\n",
       "      <td>2015-03-14</td>\n",
       "      <td>2015-03-14</td>\n",
       "      <td>486</td>\n",
       "      <td>486</td>\n",
       "      <td>767</td>\n",
       "      <td>PURCHASE</td>\n",
       "      <td></td>\n",
       "      <td>0.00</td>\n",
       "      <td></td>\n",
       "      <td></td>\n",
       "      <td></td>\n",
       "      <td>False</td>\n",
       "      <td></td>\n",
       "      <td></td>\n",
       "      <td>False</td>\n",
       "      <td>False</td>\n",
       "    </tr>\n",
       "    <tr>\n",
       "      <th>3</th>\n",
       "      <td>737265056</td>\n",
       "      <td>737265056</td>\n",
       "      <td>5,000.00</td>\n",
       "      <td>5,000.00</td>\n",
       "      <td>2016-12-10T02:14:50</td>\n",
       "      <td>7.47</td>\n",
       "      <td>Play Store</td>\n",
       "      <td>US</td>\n",
       "      <td>US</td>\n",
       "      <td>09</td>\n",
       "      <td>01</td>\n",
       "      <td>mobileapps</td>\n",
       "      <td>08/2025</td>\n",
       "      <td>2015-03-14</td>\n",
       "      <td>2015-03-14</td>\n",
       "      <td>486</td>\n",
       "      <td>486</td>\n",
       "      <td>767</td>\n",
       "      <td>PURCHASE</td>\n",
       "      <td></td>\n",
       "      <td>0.00</td>\n",
       "      <td></td>\n",
       "      <td></td>\n",
       "      <td></td>\n",
       "      <td>False</td>\n",
       "      <td></td>\n",
       "      <td></td>\n",
       "      <td>False</td>\n",
       "      <td>False</td>\n",
       "    </tr>\n",
       "    <tr>\n",
       "      <th>4</th>\n",
       "      <td>830329091</td>\n",
       "      <td>830329091</td>\n",
       "      <td>5,000.00</td>\n",
       "      <td>5,000.00</td>\n",
       "      <td>2016-03-24T21:04:46</td>\n",
       "      <td>71.18</td>\n",
       "      <td>Tim Hortons #947751</td>\n",
       "      <td>US</td>\n",
       "      <td>US</td>\n",
       "      <td>02</td>\n",
       "      <td>01</td>\n",
       "      <td>fastfood</td>\n",
       "      <td>10/2029</td>\n",
       "      <td>2015-08-06</td>\n",
       "      <td>2015-08-06</td>\n",
       "      <td>885</td>\n",
       "      <td>885</td>\n",
       "      <td>3143</td>\n",
       "      <td>PURCHASE</td>\n",
       "      <td></td>\n",
       "      <td>0.00</td>\n",
       "      <td></td>\n",
       "      <td></td>\n",
       "      <td></td>\n",
       "      <td>True</td>\n",
       "      <td></td>\n",
       "      <td></td>\n",
       "      <td>False</td>\n",
       "      <td>False</td>\n",
       "    </tr>\n",
       "  </tbody>\n",
       "</table>\n",
       "</div>"
      ],
      "text/plain": [
       "  accountNumber customerId          creditLimit       availableMoney  \\\n",
       "0     737265056  737265056             5,000.00             5,000.00   \n",
       "1     737265056  737265056             5,000.00             5,000.00   \n",
       "2     737265056  737265056             5,000.00             5,000.00   \n",
       "3     737265056  737265056             5,000.00             5,000.00   \n",
       "4     830329091  830329091             5,000.00             5,000.00   \n",
       "\n",
       "   transactionDateTime    transactionAmount         merchantName acqCountry  \\\n",
       "0  2016-08-13T14:27:32                98.55                 Uber         US   \n",
       "1  2016-10-11T05:05:54                74.51          AMC #191138         US   \n",
       "2  2016-11-08T09:18:39                 7.47           Play Store         US   \n",
       "3  2016-12-10T02:14:50                 7.47           Play Store         US   \n",
       "4  2016-03-24T21:04:46                71.18  Tim Hortons #947751         US   \n",
       "\n",
       "  merchantCountryCode posEntryMode posConditionCode merchantCategoryCode  \\\n",
       "0                  US           02               01            rideshare   \n",
       "1                  US           09               01        entertainment   \n",
       "2                  US           09               01           mobileapps   \n",
       "3                  US           09               01           mobileapps   \n",
       "4                  US           02               01             fastfood   \n",
       "\n",
       "  currentExpDate accountOpenDate dateOfLastAddressChange cardCVV enteredCVV  \\\n",
       "0        06/2023      2015-03-14           2015-03-14        414        414   \n",
       "1        02/2024      2015-03-14           2015-03-14        486        486   \n",
       "2        08/2025      2015-03-14           2015-03-14        486        486   \n",
       "3        08/2025      2015-03-14           2015-03-14        486        486   \n",
       "4        10/2029      2015-08-06           2015-08-06        885        885   \n",
       "\n",
       "  cardLast4Digits transactionType echoBuffer       currentBalance  \\\n",
       "0            1803        PURCHASE                            0.00   \n",
       "1             767        PURCHASE                            0.00   \n",
       "2             767        PURCHASE                            0.00   \n",
       "3             767        PURCHASE                            0.00   \n",
       "4            3143        PURCHASE                            0.00   \n",
       "\n",
       "  merchantCity merchantState merchantZip  cardPresent posOnPremises  \\\n",
       "0                                               False                 \n",
       "1                                                True                 \n",
       "2                                               False                 \n",
       "3                                               False                 \n",
       "4                                                True                 \n",
       "\n",
       "  recurringAuthInd  expirationDateKeyInMatch  isFraud  \n",
       "0                                 False         False  \n",
       "1                                 False         False  \n",
       "2                                 False         False  \n",
       "3                                 False         False  \n",
       "4                                 False         False  "
      ]
     },
     "execution_count": 8,
     "metadata": {},
     "output_type": "execute_result"
    }
   ],
   "source": [
    "df.head()"
   ]
  },
  {
   "cell_type": "code",
   "execution_count": 9,
   "metadata": {
    "ExecuteTime": {
     "end_time": "2020-11-09T04:12:09.056032Z",
     "start_time": "2020-11-09T04:12:05.105499Z"
    }
   },
   "outputs": [
    {
     "name": "stdout",
     "output_type": "stream",
     "text": [
      "<class 'pandas.core.frame.DataFrame'>\n",
      "RangeIndex: 786363 entries, 0 to 786362\n",
      "Data columns (total 29 columns):\n",
      " #   Column                    Non-Null Count   Dtype  \n",
      "---  ------                    --------------   -----  \n",
      " 0   accountNumber             786363 non-null  object \n",
      " 1   customerId                786363 non-null  object \n",
      " 2   creditLimit               786363 non-null  float64\n",
      " 3   availableMoney            786363 non-null  float64\n",
      " 4   transactionDateTime       786363 non-null  object \n",
      " 5   transactionAmount         786363 non-null  float64\n",
      " 6   merchantName              786363 non-null  object \n",
      " 7   acqCountry                786363 non-null  object \n",
      " 8   merchantCountryCode       786363 non-null  object \n",
      " 9   posEntryMode              786363 non-null  object \n",
      " 10  posConditionCode          786363 non-null  object \n",
      " 11  merchantCategoryCode      786363 non-null  object \n",
      " 12  currentExpDate            786363 non-null  object \n",
      " 13  accountOpenDate           786363 non-null  object \n",
      " 14  dateOfLastAddressChange   786363 non-null  object \n",
      " 15  cardCVV                   786363 non-null  object \n",
      " 16  enteredCVV                786363 non-null  object \n",
      " 17  cardLast4Digits           786363 non-null  object \n",
      " 18  transactionType           786363 non-null  object \n",
      " 19  echoBuffer                786363 non-null  object \n",
      " 20  currentBalance            786363 non-null  float64\n",
      " 21  merchantCity              786363 non-null  object \n",
      " 22  merchantState             786363 non-null  object \n",
      " 23  merchantZip               786363 non-null  object \n",
      " 24  cardPresent               786363 non-null  bool   \n",
      " 25  posOnPremises             786363 non-null  object \n",
      " 26  recurringAuthInd          786363 non-null  object \n",
      " 27  expirationDateKeyInMatch  786363 non-null  bool   \n",
      " 28  isFraud                   786363 non-null  bool   \n",
      "dtypes: bool(3), float64(4), object(22)\n",
      "memory usage: 158.2+ MB\n"
     ]
    }
   ],
   "source": [
    "df.info()"
   ]
  },
  {
   "cell_type": "code",
   "execution_count": 10,
   "metadata": {
    "ExecuteTime": {
     "end_time": "2020-11-09T04:12:09.275244Z",
     "start_time": "2020-11-09T04:12:09.062018Z"
    }
   },
   "outputs": [
    {
     "data": {
      "text/html": [
       "<div>\n",
       "<style scoped>\n",
       "    .dataframe tbody tr th:only-of-type {\n",
       "        vertical-align: middle;\n",
       "    }\n",
       "\n",
       "    .dataframe tbody tr th {\n",
       "        vertical-align: top;\n",
       "    }\n",
       "\n",
       "    .dataframe thead th {\n",
       "        text-align: right;\n",
       "    }\n",
       "</style>\n",
       "<table border=\"1\" class=\"dataframe\">\n",
       "  <thead>\n",
       "    <tr style=\"text-align: right;\">\n",
       "      <th></th>\n",
       "      <th>creditLimit</th>\n",
       "      <th>availableMoney</th>\n",
       "      <th>transactionAmount</th>\n",
       "      <th>currentBalance</th>\n",
       "    </tr>\n",
       "  </thead>\n",
       "  <tbody>\n",
       "    <tr>\n",
       "      <th>count</th>\n",
       "      <td>786,363.00</td>\n",
       "      <td>786,363.00</td>\n",
       "      <td>786,363.00</td>\n",
       "      <td>786,363.00</td>\n",
       "    </tr>\n",
       "    <tr>\n",
       "      <th>mean</th>\n",
       "      <td>10,759.46</td>\n",
       "      <td>6,250.73</td>\n",
       "      <td>136.99</td>\n",
       "      <td>4,508.74</td>\n",
       "    </tr>\n",
       "    <tr>\n",
       "      <th>std</th>\n",
       "      <td>11,636.17</td>\n",
       "      <td>8,880.78</td>\n",
       "      <td>147.73</td>\n",
       "      <td>6,457.44</td>\n",
       "    </tr>\n",
       "    <tr>\n",
       "      <th>min</th>\n",
       "      <td>250.00</td>\n",
       "      <td>-1,005.63</td>\n",
       "      <td>0.00</td>\n",
       "      <td>0.00</td>\n",
       "    </tr>\n",
       "    <tr>\n",
       "      <th>25%</th>\n",
       "      <td>5,000.00</td>\n",
       "      <td>1,077.42</td>\n",
       "      <td>33.65</td>\n",
       "      <td>689.91</td>\n",
       "    </tr>\n",
       "    <tr>\n",
       "      <th>50%</th>\n",
       "      <td>7,500.00</td>\n",
       "      <td>3,184.86</td>\n",
       "      <td>87.90</td>\n",
       "      <td>2,451.76</td>\n",
       "    </tr>\n",
       "    <tr>\n",
       "      <th>75%</th>\n",
       "      <td>15,000.00</td>\n",
       "      <td>7,500.00</td>\n",
       "      <td>191.48</td>\n",
       "      <td>5,291.10</td>\n",
       "    </tr>\n",
       "    <tr>\n",
       "      <th>max</th>\n",
       "      <td>50,000.00</td>\n",
       "      <td>50,000.00</td>\n",
       "      <td>2,011.54</td>\n",
       "      <td>47,498.81</td>\n",
       "    </tr>\n",
       "  </tbody>\n",
       "</table>\n",
       "</div>"
      ],
      "text/plain": [
       "               creditLimit       availableMoney    transactionAmount  \\\n",
       "count           786,363.00           786,363.00           786,363.00   \n",
       "mean             10,759.46             6,250.73               136.99   \n",
       "std              11,636.17             8,880.78               147.73   \n",
       "min                 250.00            -1,005.63                 0.00   \n",
       "25%               5,000.00             1,077.42                33.65   \n",
       "50%               7,500.00             3,184.86                87.90   \n",
       "75%              15,000.00             7,500.00               191.48   \n",
       "max              50,000.00            50,000.00             2,011.54   \n",
       "\n",
       "            currentBalance  \n",
       "count           786,363.00  \n",
       "mean              4,508.74  \n",
       "std               6,457.44  \n",
       "min                   0.00  \n",
       "25%                 689.91  \n",
       "50%               2,451.76  \n",
       "75%               5,291.10  \n",
       "max              47,498.81  "
      ]
     },
     "execution_count": 10,
     "metadata": {},
     "output_type": "execute_result"
    }
   ],
   "source": [
    "df.describe()"
   ]
  },
  {
   "cell_type": "markdown",
   "metadata": {},
   "source": [
    "### Coding whitespaces as `NaN`s"
   ]
  },
  {
   "cell_type": "code",
   "execution_count": 11,
   "metadata": {
    "ExecuteTime": {
     "end_time": "2020-11-09T04:13:21.075268Z",
     "start_time": "2020-11-09T04:12:09.279577Z"
    }
   },
   "outputs": [
    {
     "data": {
      "text/html": [
       "<div>\n",
       "<style scoped>\n",
       "    .dataframe tbody tr th:only-of-type {\n",
       "        vertical-align: middle;\n",
       "    }\n",
       "\n",
       "    .dataframe tbody tr th {\n",
       "        vertical-align: top;\n",
       "    }\n",
       "\n",
       "    .dataframe thead th {\n",
       "        text-align: right;\n",
       "    }\n",
       "</style>\n",
       "<table border=\"1\" class=\"dataframe\">\n",
       "  <thead>\n",
       "    <tr style=\"text-align: right;\">\n",
       "      <th></th>\n",
       "      <th>accountNumber</th>\n",
       "      <th>customerId</th>\n",
       "      <th>creditLimit</th>\n",
       "      <th>availableMoney</th>\n",
       "      <th>transactionDateTime</th>\n",
       "      <th>transactionAmount</th>\n",
       "      <th>merchantName</th>\n",
       "      <th>acqCountry</th>\n",
       "      <th>merchantCountryCode</th>\n",
       "      <th>posEntryMode</th>\n",
       "      <th>posConditionCode</th>\n",
       "      <th>merchantCategoryCode</th>\n",
       "      <th>currentExpDate</th>\n",
       "      <th>accountOpenDate</th>\n",
       "      <th>dateOfLastAddressChange</th>\n",
       "      <th>cardCVV</th>\n",
       "      <th>enteredCVV</th>\n",
       "      <th>cardLast4Digits</th>\n",
       "      <th>transactionType</th>\n",
       "      <th>echoBuffer</th>\n",
       "      <th>currentBalance</th>\n",
       "      <th>merchantCity</th>\n",
       "      <th>merchantState</th>\n",
       "      <th>merchantZip</th>\n",
       "      <th>cardPresent</th>\n",
       "      <th>posOnPremises</th>\n",
       "      <th>recurringAuthInd</th>\n",
       "      <th>expirationDateKeyInMatch</th>\n",
       "      <th>isFraud</th>\n",
       "    </tr>\n",
       "  </thead>\n",
       "  <tbody>\n",
       "    <tr>\n",
       "      <th>0</th>\n",
       "      <td>737265056</td>\n",
       "      <td>737265056</td>\n",
       "      <td>5,000.00</td>\n",
       "      <td>5,000.00</td>\n",
       "      <td>2016-08-13T14:27:32</td>\n",
       "      <td>98.55</td>\n",
       "      <td>Uber</td>\n",
       "      <td>US</td>\n",
       "      <td>US</td>\n",
       "      <td>02</td>\n",
       "      <td>01</td>\n",
       "      <td>rideshare</td>\n",
       "      <td>06/2023</td>\n",
       "      <td>2015-03-14</td>\n",
       "      <td>2015-03-14</td>\n",
       "      <td>414</td>\n",
       "      <td>414</td>\n",
       "      <td>1803</td>\n",
       "      <td>PURCHASE</td>\n",
       "      <td>nan</td>\n",
       "      <td>0.00</td>\n",
       "      <td>nan</td>\n",
       "      <td>nan</td>\n",
       "      <td>nan</td>\n",
       "      <td>False</td>\n",
       "      <td>nan</td>\n",
       "      <td>nan</td>\n",
       "      <td>False</td>\n",
       "      <td>False</td>\n",
       "    </tr>\n",
       "    <tr>\n",
       "      <th>1</th>\n",
       "      <td>737265056</td>\n",
       "      <td>737265056</td>\n",
       "      <td>5,000.00</td>\n",
       "      <td>5,000.00</td>\n",
       "      <td>2016-10-11T05:05:54</td>\n",
       "      <td>74.51</td>\n",
       "      <td>AMC #191138</td>\n",
       "      <td>US</td>\n",
       "      <td>US</td>\n",
       "      <td>09</td>\n",
       "      <td>01</td>\n",
       "      <td>entertainment</td>\n",
       "      <td>02/2024</td>\n",
       "      <td>2015-03-14</td>\n",
       "      <td>2015-03-14</td>\n",
       "      <td>486</td>\n",
       "      <td>486</td>\n",
       "      <td>767</td>\n",
       "      <td>PURCHASE</td>\n",
       "      <td>nan</td>\n",
       "      <td>0.00</td>\n",
       "      <td>nan</td>\n",
       "      <td>nan</td>\n",
       "      <td>nan</td>\n",
       "      <td>True</td>\n",
       "      <td>nan</td>\n",
       "      <td>nan</td>\n",
       "      <td>False</td>\n",
       "      <td>False</td>\n",
       "    </tr>\n",
       "    <tr>\n",
       "      <th>2</th>\n",
       "      <td>737265056</td>\n",
       "      <td>737265056</td>\n",
       "      <td>5,000.00</td>\n",
       "      <td>5,000.00</td>\n",
       "      <td>2016-11-08T09:18:39</td>\n",
       "      <td>7.47</td>\n",
       "      <td>Play Store</td>\n",
       "      <td>US</td>\n",
       "      <td>US</td>\n",
       "      <td>09</td>\n",
       "      <td>01</td>\n",
       "      <td>mobileapps</td>\n",
       "      <td>08/2025</td>\n",
       "      <td>2015-03-14</td>\n",
       "      <td>2015-03-14</td>\n",
       "      <td>486</td>\n",
       "      <td>486</td>\n",
       "      <td>767</td>\n",
       "      <td>PURCHASE</td>\n",
       "      <td>nan</td>\n",
       "      <td>0.00</td>\n",
       "      <td>nan</td>\n",
       "      <td>nan</td>\n",
       "      <td>nan</td>\n",
       "      <td>False</td>\n",
       "      <td>nan</td>\n",
       "      <td>nan</td>\n",
       "      <td>False</td>\n",
       "      <td>False</td>\n",
       "    </tr>\n",
       "    <tr>\n",
       "      <th>3</th>\n",
       "      <td>737265056</td>\n",
       "      <td>737265056</td>\n",
       "      <td>5,000.00</td>\n",
       "      <td>5,000.00</td>\n",
       "      <td>2016-12-10T02:14:50</td>\n",
       "      <td>7.47</td>\n",
       "      <td>Play Store</td>\n",
       "      <td>US</td>\n",
       "      <td>US</td>\n",
       "      <td>09</td>\n",
       "      <td>01</td>\n",
       "      <td>mobileapps</td>\n",
       "      <td>08/2025</td>\n",
       "      <td>2015-03-14</td>\n",
       "      <td>2015-03-14</td>\n",
       "      <td>486</td>\n",
       "      <td>486</td>\n",
       "      <td>767</td>\n",
       "      <td>PURCHASE</td>\n",
       "      <td>nan</td>\n",
       "      <td>0.00</td>\n",
       "      <td>nan</td>\n",
       "      <td>nan</td>\n",
       "      <td>nan</td>\n",
       "      <td>False</td>\n",
       "      <td>nan</td>\n",
       "      <td>nan</td>\n",
       "      <td>False</td>\n",
       "      <td>False</td>\n",
       "    </tr>\n",
       "    <tr>\n",
       "      <th>4</th>\n",
       "      <td>830329091</td>\n",
       "      <td>830329091</td>\n",
       "      <td>5,000.00</td>\n",
       "      <td>5,000.00</td>\n",
       "      <td>2016-03-24T21:04:46</td>\n",
       "      <td>71.18</td>\n",
       "      <td>Tim Hortons #947751</td>\n",
       "      <td>US</td>\n",
       "      <td>US</td>\n",
       "      <td>02</td>\n",
       "      <td>01</td>\n",
       "      <td>fastfood</td>\n",
       "      <td>10/2029</td>\n",
       "      <td>2015-08-06</td>\n",
       "      <td>2015-08-06</td>\n",
       "      <td>885</td>\n",
       "      <td>885</td>\n",
       "      <td>3143</td>\n",
       "      <td>PURCHASE</td>\n",
       "      <td>nan</td>\n",
       "      <td>0.00</td>\n",
       "      <td>nan</td>\n",
       "      <td>nan</td>\n",
       "      <td>nan</td>\n",
       "      <td>True</td>\n",
       "      <td>nan</td>\n",
       "      <td>nan</td>\n",
       "      <td>False</td>\n",
       "      <td>False</td>\n",
       "    </tr>\n",
       "  </tbody>\n",
       "</table>\n",
       "</div>"
      ],
      "text/plain": [
       "  accountNumber customerId          creditLimit       availableMoney  \\\n",
       "0     737265056  737265056             5,000.00             5,000.00   \n",
       "1     737265056  737265056             5,000.00             5,000.00   \n",
       "2     737265056  737265056             5,000.00             5,000.00   \n",
       "3     737265056  737265056             5,000.00             5,000.00   \n",
       "4     830329091  830329091             5,000.00             5,000.00   \n",
       "\n",
       "   transactionDateTime    transactionAmount         merchantName acqCountry  \\\n",
       "0  2016-08-13T14:27:32                98.55                 Uber         US   \n",
       "1  2016-10-11T05:05:54                74.51          AMC #191138         US   \n",
       "2  2016-11-08T09:18:39                 7.47           Play Store         US   \n",
       "3  2016-12-10T02:14:50                 7.47           Play Store         US   \n",
       "4  2016-03-24T21:04:46                71.18  Tim Hortons #947751         US   \n",
       "\n",
       "  merchantCountryCode posEntryMode posConditionCode merchantCategoryCode  \\\n",
       "0                  US           02               01            rideshare   \n",
       "1                  US           09               01        entertainment   \n",
       "2                  US           09               01           mobileapps   \n",
       "3                  US           09               01           mobileapps   \n",
       "4                  US           02               01             fastfood   \n",
       "\n",
       "  currentExpDate accountOpenDate dateOfLastAddressChange cardCVV enteredCVV  \\\n",
       "0        06/2023      2015-03-14           2015-03-14        414        414   \n",
       "1        02/2024      2015-03-14           2015-03-14        486        486   \n",
       "2        08/2025      2015-03-14           2015-03-14        486        486   \n",
       "3        08/2025      2015-03-14           2015-03-14        486        486   \n",
       "4        10/2029      2015-08-06           2015-08-06        885        885   \n",
       "\n",
       "  cardLast4Digits transactionType           echoBuffer       currentBalance  \\\n",
       "0            1803        PURCHASE                  nan                 0.00   \n",
       "1             767        PURCHASE                  nan                 0.00   \n",
       "2             767        PURCHASE                  nan                 0.00   \n",
       "3             767        PURCHASE                  nan                 0.00   \n",
       "4            3143        PURCHASE                  nan                 0.00   \n",
       "\n",
       "          merchantCity        merchantState          merchantZip  cardPresent  \\\n",
       "0                  nan                  nan                  nan        False   \n",
       "1                  nan                  nan                  nan         True   \n",
       "2                  nan                  nan                  nan        False   \n",
       "3                  nan                  nan                  nan        False   \n",
       "4                  nan                  nan                  nan         True   \n",
       "\n",
       "         posOnPremises     recurringAuthInd  expirationDateKeyInMatch  isFraud  \n",
       "0                  nan                  nan                False         False  \n",
       "1                  nan                  nan                False         False  \n",
       "2                  nan                  nan                False         False  \n",
       "3                  nan                  nan                False         False  \n",
       "4                  nan                  nan                False         False  "
      ]
     },
     "execution_count": 11,
     "metadata": {},
     "output_type": "execute_result"
    }
   ],
   "source": [
    "df_temp = df.replace(r'^\\s*$', np.nan, regex=True)\n",
    "df_temp.head()"
   ]
  },
  {
   "cell_type": "markdown",
   "metadata": {},
   "source": [
    "### Removing columns containing only `NaN`s"
   ]
  },
  {
   "cell_type": "code",
   "execution_count": 12,
   "metadata": {
    "ExecuteTime": {
     "end_time": "2020-11-09T04:13:26.260938Z",
     "start_time": "2020-11-09T04:13:21.077259Z"
    }
   },
   "outputs": [
    {
     "name": "stdout",
     "output_type": "stream",
     "text": [
      "Previous # of Columns ->29\n",
      "Latest # of Columns ->23\n"
     ]
    }
   ],
   "source": [
    "print(\"Previous # of Columns ->{}\".format(df_temp.shape[1]))\n",
    "df_temp = df_temp.dropna(axis=1, how='all')\n",
    "print(\"Latest # of Columns ->{}\".format(df_temp.shape[1]))"
   ]
  },
  {
   "cell_type": "markdown",
   "metadata": {},
   "source": [
    "### Missing Data"
   ]
  },
  {
   "cell_type": "code",
   "execution_count": 13,
   "metadata": {
    "ExecuteTime": {
     "end_time": "2020-11-09T04:13:26.276190Z",
     "start_time": "2020-11-09T04:13:26.264142Z"
    }
   },
   "outputs": [],
   "source": [
    "# msno.matrix(df_temp, figsize=(28, 20), color=(.33, .33, .34));"
   ]
  },
  {
   "cell_type": "code",
   "execution_count": 14,
   "metadata": {
    "ExecuteTime": {
     "end_time": "2020-11-09T04:13:28.485475Z",
     "start_time": "2020-11-09T04:13:26.284605Z"
    }
   },
   "outputs": [],
   "source": [
    "df_temp['acqCountry'] = df_temp['acqCountry'].fillna(df_temp['acqCountry'].mode()[0])\n",
    "df_temp['merchantCountryCode'] = df_temp['merchantCountryCode'].fillna(df_temp['merchantCountryCode'].mode()[0])\n",
    "df_temp['posEntryMode'] = df_temp['posEntryMode'].fillna(df_temp['posEntryMode'].mode()[0])\n",
    "df_temp['transactionType'] = df_temp['transactionType'].fillna(df_temp['transactionType'].mode()[0])"
   ]
  },
  {
   "cell_type": "code",
   "execution_count": 15,
   "metadata": {
    "ExecuteTime": {
     "end_time": "2020-11-09T04:13:28.501371Z",
     "start_time": "2020-11-09T04:13:28.489372Z"
    }
   },
   "outputs": [],
   "source": [
    "# msno.matrix(df_temp, figsize=(28, 20), color=(.33, .33, .34));"
   ]
  },
  {
   "cell_type": "code",
   "execution_count": 16,
   "metadata": {
    "ExecuteTime": {
     "end_time": "2020-11-09T04:13:31.250081Z",
     "start_time": "2020-11-09T04:13:28.504370Z"
    }
   },
   "outputs": [
    {
     "data": {
      "text/plain": [
       "accountNumber               False\n",
       "customerId                  False\n",
       "creditLimit                 False\n",
       "availableMoney              False\n",
       "transactionDateTime         False\n",
       "transactionAmount           False\n",
       "merchantName                False\n",
       "acqCountry                  False\n",
       "merchantCountryCode         False\n",
       "posEntryMode                False\n",
       "posConditionCode             True\n",
       "merchantCategoryCode        False\n",
       "currentExpDate              False\n",
       "accountOpenDate             False\n",
       "dateOfLastAddressChange     False\n",
       "cardCVV                     False\n",
       "enteredCVV                  False\n",
       "cardLast4Digits             False\n",
       "transactionType             False\n",
       "currentBalance              False\n",
       "cardPresent                 False\n",
       "expirationDateKeyInMatch    False\n",
       "isFraud                     False\n",
       "dtype: bool"
      ]
     },
     "execution_count": 16,
     "metadata": {},
     "output_type": "execute_result"
    }
   ],
   "source": [
    "df_temp.isnull().any()"
   ]
  },
  {
   "cell_type": "markdown",
   "metadata": {},
   "source": [
    "### Column Data Types"
   ]
  },
  {
   "cell_type": "code",
   "execution_count": 17,
   "metadata": {
    "ExecuteTime": {
     "end_time": "2020-11-09T04:13:31.265240Z",
     "start_time": "2020-11-09T04:13:31.252195Z"
    }
   },
   "outputs": [
    {
     "data": {
      "text/plain": [
       "accountNumber                object\n",
       "customerId                   object\n",
       "creditLimit                 float64\n",
       "availableMoney              float64\n",
       "transactionDateTime          object\n",
       "transactionAmount           float64\n",
       "merchantName                 object\n",
       "acqCountry                   object\n",
       "merchantCountryCode          object\n",
       "posEntryMode                 object\n",
       "posConditionCode             object\n",
       "merchantCategoryCode         object\n",
       "currentExpDate               object\n",
       "accountOpenDate              object\n",
       "dateOfLastAddressChange      object\n",
       "cardCVV                      object\n",
       "enteredCVV                   object\n",
       "cardLast4Digits              object\n",
       "transactionType              object\n",
       "currentBalance              float64\n",
       "cardPresent                    bool\n",
       "expirationDateKeyInMatch       bool\n",
       "isFraud                        bool\n",
       "dtype: object"
      ]
     },
     "execution_count": 17,
     "metadata": {},
     "output_type": "execute_result"
    }
   ],
   "source": [
    "df_temp.dtypes"
   ]
  },
  {
   "cell_type": "code",
   "execution_count": 18,
   "metadata": {
    "ExecuteTime": {
     "end_time": "2020-11-09T04:13:31.311875Z",
     "start_time": "2020-11-09T04:13:31.267851Z"
    }
   },
   "outputs": [],
   "source": [
    "target = 'isFraud'\n",
    "num_dtypes = [i for i in df_temp.select_dtypes(include = np.number).columns]\n",
    "obj_dtypes = [i for i in df_temp.columns if i not in num_dtypes and i != target]"
   ]
  },
  {
   "cell_type": "code",
   "execution_count": 19,
   "metadata": {
    "ExecuteTime": {
     "end_time": "2020-11-09T04:13:31.327507Z",
     "start_time": "2020-11-09T04:13:31.316514Z"
    }
   },
   "outputs": [
    {
     "data": {
      "text/plain": [
       "['creditLimit', 'availableMoney', 'transactionAmount', 'currentBalance']"
      ]
     },
     "execution_count": 19,
     "metadata": {},
     "output_type": "execute_result"
    }
   ],
   "source": [
    "num_dtypes"
   ]
  },
  {
   "cell_type": "code",
   "execution_count": 20,
   "metadata": {
    "ExecuteTime": {
     "end_time": "2020-11-09T04:13:31.343068Z",
     "start_time": "2020-11-09T04:13:31.331649Z"
    }
   },
   "outputs": [
    {
     "data": {
      "text/plain": [
       "['accountNumber',\n",
       " 'customerId',\n",
       " 'transactionDateTime',\n",
       " 'merchantName',\n",
       " 'acqCountry',\n",
       " 'merchantCountryCode',\n",
       " 'posEntryMode',\n",
       " 'posConditionCode',\n",
       " 'merchantCategoryCode',\n",
       " 'currentExpDate',\n",
       " 'accountOpenDate',\n",
       " 'dateOfLastAddressChange',\n",
       " 'cardCVV',\n",
       " 'enteredCVV',\n",
       " 'cardLast4Digits',\n",
       " 'transactionType',\n",
       " 'cardPresent',\n",
       " 'expirationDateKeyInMatch']"
      ]
     },
     "execution_count": 20,
     "metadata": {},
     "output_type": "execute_result"
    }
   ],
   "source": [
    "obj_dtypes"
   ]
  },
  {
   "cell_type": "code",
   "execution_count": 21,
   "metadata": {
    "ExecuteTime": {
     "end_time": "2020-11-09T04:13:31.358324Z",
     "start_time": "2020-11-09T04:13:31.345352Z"
    }
   },
   "outputs": [
    {
     "data": {
      "text/plain": [
       "True"
      ]
     },
     "execution_count": 21,
     "metadata": {},
     "output_type": "execute_result"
    }
   ],
   "source": [
    "len(num_dtypes) + len(obj_dtypes) == df_temp.shape[1] - 1"
   ]
  },
  {
   "cell_type": "markdown",
   "metadata": {},
   "source": [
    "## Buiding a Classifier"
   ]
  },
  {
   "cell_type": "markdown",
   "metadata": {
    "ExecuteTime": {
     "end_time": "2020-11-08T00:21:26.815735Z",
     "start_time": "2020-11-08T00:21:26.789129Z"
    }
   },
   "source": [
    "### Split into $X$ and $y$"
   ]
  },
  {
   "cell_type": "code",
   "execution_count": 22,
   "metadata": {
    "ExecuteTime": {
     "end_time": "2020-11-09T04:13:31.925037Z",
     "start_time": "2020-11-09T04:13:31.360324Z"
    }
   },
   "outputs": [],
   "source": [
    "X = df_temp.filter(items=num_dtypes + obj_dtypes)\n",
    "y = df_temp.filter(items=[target])"
   ]
  },
  {
   "cell_type": "code",
   "execution_count": 23,
   "metadata": {
    "ExecuteTime": {
     "end_time": "2020-11-09T04:13:31.973122Z",
     "start_time": "2020-11-09T04:13:31.929041Z"
    }
   },
   "outputs": [
    {
     "data": {
      "text/html": [
       "<div>\n",
       "<style scoped>\n",
       "    .dataframe tbody tr th:only-of-type {\n",
       "        vertical-align: middle;\n",
       "    }\n",
       "\n",
       "    .dataframe tbody tr th {\n",
       "        vertical-align: top;\n",
       "    }\n",
       "\n",
       "    .dataframe thead th {\n",
       "        text-align: right;\n",
       "    }\n",
       "</style>\n",
       "<table border=\"1\" class=\"dataframe\">\n",
       "  <thead>\n",
       "    <tr style=\"text-align: right;\">\n",
       "      <th></th>\n",
       "      <th>creditLimit</th>\n",
       "      <th>availableMoney</th>\n",
       "      <th>transactionAmount</th>\n",
       "      <th>currentBalance</th>\n",
       "      <th>accountNumber</th>\n",
       "      <th>customerId</th>\n",
       "      <th>transactionDateTime</th>\n",
       "      <th>merchantName</th>\n",
       "      <th>acqCountry</th>\n",
       "      <th>merchantCountryCode</th>\n",
       "      <th>posEntryMode</th>\n",
       "      <th>posConditionCode</th>\n",
       "      <th>merchantCategoryCode</th>\n",
       "      <th>currentExpDate</th>\n",
       "      <th>accountOpenDate</th>\n",
       "      <th>dateOfLastAddressChange</th>\n",
       "      <th>cardCVV</th>\n",
       "      <th>enteredCVV</th>\n",
       "      <th>cardLast4Digits</th>\n",
       "      <th>transactionType</th>\n",
       "      <th>cardPresent</th>\n",
       "      <th>expirationDateKeyInMatch</th>\n",
       "    </tr>\n",
       "  </thead>\n",
       "  <tbody>\n",
       "    <tr>\n",
       "      <th>0</th>\n",
       "      <td>5,000.00</td>\n",
       "      <td>5,000.00</td>\n",
       "      <td>98.55</td>\n",
       "      <td>0.00</td>\n",
       "      <td>737265056</td>\n",
       "      <td>737265056</td>\n",
       "      <td>2016-08-13T14:27:32</td>\n",
       "      <td>Uber</td>\n",
       "      <td>US</td>\n",
       "      <td>US</td>\n",
       "      <td>02</td>\n",
       "      <td>01</td>\n",
       "      <td>rideshare</td>\n",
       "      <td>06/2023</td>\n",
       "      <td>2015-03-14</td>\n",
       "      <td>2015-03-14</td>\n",
       "      <td>414</td>\n",
       "      <td>414</td>\n",
       "      <td>1803</td>\n",
       "      <td>PURCHASE</td>\n",
       "      <td>False</td>\n",
       "      <td>False</td>\n",
       "    </tr>\n",
       "    <tr>\n",
       "      <th>1</th>\n",
       "      <td>5,000.00</td>\n",
       "      <td>5,000.00</td>\n",
       "      <td>74.51</td>\n",
       "      <td>0.00</td>\n",
       "      <td>737265056</td>\n",
       "      <td>737265056</td>\n",
       "      <td>2016-10-11T05:05:54</td>\n",
       "      <td>AMC #191138</td>\n",
       "      <td>US</td>\n",
       "      <td>US</td>\n",
       "      <td>09</td>\n",
       "      <td>01</td>\n",
       "      <td>entertainment</td>\n",
       "      <td>02/2024</td>\n",
       "      <td>2015-03-14</td>\n",
       "      <td>2015-03-14</td>\n",
       "      <td>486</td>\n",
       "      <td>486</td>\n",
       "      <td>767</td>\n",
       "      <td>PURCHASE</td>\n",
       "      <td>True</td>\n",
       "      <td>False</td>\n",
       "    </tr>\n",
       "    <tr>\n",
       "      <th>2</th>\n",
       "      <td>5,000.00</td>\n",
       "      <td>5,000.00</td>\n",
       "      <td>7.47</td>\n",
       "      <td>0.00</td>\n",
       "      <td>737265056</td>\n",
       "      <td>737265056</td>\n",
       "      <td>2016-11-08T09:18:39</td>\n",
       "      <td>Play Store</td>\n",
       "      <td>US</td>\n",
       "      <td>US</td>\n",
       "      <td>09</td>\n",
       "      <td>01</td>\n",
       "      <td>mobileapps</td>\n",
       "      <td>08/2025</td>\n",
       "      <td>2015-03-14</td>\n",
       "      <td>2015-03-14</td>\n",
       "      <td>486</td>\n",
       "      <td>486</td>\n",
       "      <td>767</td>\n",
       "      <td>PURCHASE</td>\n",
       "      <td>False</td>\n",
       "      <td>False</td>\n",
       "    </tr>\n",
       "    <tr>\n",
       "      <th>3</th>\n",
       "      <td>5,000.00</td>\n",
       "      <td>5,000.00</td>\n",
       "      <td>7.47</td>\n",
       "      <td>0.00</td>\n",
       "      <td>737265056</td>\n",
       "      <td>737265056</td>\n",
       "      <td>2016-12-10T02:14:50</td>\n",
       "      <td>Play Store</td>\n",
       "      <td>US</td>\n",
       "      <td>US</td>\n",
       "      <td>09</td>\n",
       "      <td>01</td>\n",
       "      <td>mobileapps</td>\n",
       "      <td>08/2025</td>\n",
       "      <td>2015-03-14</td>\n",
       "      <td>2015-03-14</td>\n",
       "      <td>486</td>\n",
       "      <td>486</td>\n",
       "      <td>767</td>\n",
       "      <td>PURCHASE</td>\n",
       "      <td>False</td>\n",
       "      <td>False</td>\n",
       "    </tr>\n",
       "    <tr>\n",
       "      <th>4</th>\n",
       "      <td>5,000.00</td>\n",
       "      <td>5,000.00</td>\n",
       "      <td>71.18</td>\n",
       "      <td>0.00</td>\n",
       "      <td>830329091</td>\n",
       "      <td>830329091</td>\n",
       "      <td>2016-03-24T21:04:46</td>\n",
       "      <td>Tim Hortons #947751</td>\n",
       "      <td>US</td>\n",
       "      <td>US</td>\n",
       "      <td>02</td>\n",
       "      <td>01</td>\n",
       "      <td>fastfood</td>\n",
       "      <td>10/2029</td>\n",
       "      <td>2015-08-06</td>\n",
       "      <td>2015-08-06</td>\n",
       "      <td>885</td>\n",
       "      <td>885</td>\n",
       "      <td>3143</td>\n",
       "      <td>PURCHASE</td>\n",
       "      <td>True</td>\n",
       "      <td>False</td>\n",
       "    </tr>\n",
       "  </tbody>\n",
       "</table>\n",
       "</div>"
      ],
      "text/plain": [
       "           creditLimit       availableMoney    transactionAmount  \\\n",
       "0             5,000.00             5,000.00                98.55   \n",
       "1             5,000.00             5,000.00                74.51   \n",
       "2             5,000.00             5,000.00                 7.47   \n",
       "3             5,000.00             5,000.00                 7.47   \n",
       "4             5,000.00             5,000.00                71.18   \n",
       "\n",
       "        currentBalance accountNumber customerId  transactionDateTime  \\\n",
       "0                 0.00     737265056  737265056  2016-08-13T14:27:32   \n",
       "1                 0.00     737265056  737265056  2016-10-11T05:05:54   \n",
       "2                 0.00     737265056  737265056  2016-11-08T09:18:39   \n",
       "3                 0.00     737265056  737265056  2016-12-10T02:14:50   \n",
       "4                 0.00     830329091  830329091  2016-03-24T21:04:46   \n",
       "\n",
       "          merchantName acqCountry merchantCountryCode posEntryMode  \\\n",
       "0                 Uber         US                  US           02   \n",
       "1          AMC #191138         US                  US           09   \n",
       "2           Play Store         US                  US           09   \n",
       "3           Play Store         US                  US           09   \n",
       "4  Tim Hortons #947751         US                  US           02   \n",
       "\n",
       "  posConditionCode merchantCategoryCode currentExpDate accountOpenDate  \\\n",
       "0               01            rideshare        06/2023      2015-03-14   \n",
       "1               01        entertainment        02/2024      2015-03-14   \n",
       "2               01           mobileapps        08/2025      2015-03-14   \n",
       "3               01           mobileapps        08/2025      2015-03-14   \n",
       "4               01             fastfood        10/2029      2015-08-06   \n",
       "\n",
       "  dateOfLastAddressChange cardCVV enteredCVV cardLast4Digits transactionType  \\\n",
       "0           2015-03-14        414        414            1803        PURCHASE   \n",
       "1           2015-03-14        486        486             767        PURCHASE   \n",
       "2           2015-03-14        486        486             767        PURCHASE   \n",
       "3           2015-03-14        486        486             767        PURCHASE   \n",
       "4           2015-08-06        885        885            3143        PURCHASE   \n",
       "\n",
       "   cardPresent  expirationDateKeyInMatch  \n",
       "0        False                False       \n",
       "1         True                False       \n",
       "2        False                False       \n",
       "3        False                False       \n",
       "4         True                False       "
      ]
     },
     "execution_count": 23,
     "metadata": {},
     "output_type": "execute_result"
    }
   ],
   "source": [
    "X.head()"
   ]
  },
  {
   "cell_type": "code",
   "execution_count": 24,
   "metadata": {
    "ExecuteTime": {
     "end_time": "2020-11-09T04:13:32.005070Z",
     "start_time": "2020-11-09T04:13:31.980200Z"
    }
   },
   "outputs": [
    {
     "data": {
      "text/html": [
       "<div>\n",
       "<style scoped>\n",
       "    .dataframe tbody tr th:only-of-type {\n",
       "        vertical-align: middle;\n",
       "    }\n",
       "\n",
       "    .dataframe tbody tr th {\n",
       "        vertical-align: top;\n",
       "    }\n",
       "\n",
       "    .dataframe thead th {\n",
       "        text-align: right;\n",
       "    }\n",
       "</style>\n",
       "<table border=\"1\" class=\"dataframe\">\n",
       "  <thead>\n",
       "    <tr style=\"text-align: right;\">\n",
       "      <th></th>\n",
       "      <th>isFraud</th>\n",
       "    </tr>\n",
       "  </thead>\n",
       "  <tbody>\n",
       "    <tr>\n",
       "      <th>0</th>\n",
       "      <td>0</td>\n",
       "    </tr>\n",
       "    <tr>\n",
       "      <th>1</th>\n",
       "      <td>0</td>\n",
       "    </tr>\n",
       "    <tr>\n",
       "      <th>2</th>\n",
       "      <td>0</td>\n",
       "    </tr>\n",
       "    <tr>\n",
       "      <th>3</th>\n",
       "      <td>0</td>\n",
       "    </tr>\n",
       "    <tr>\n",
       "      <th>4</th>\n",
       "      <td>0</td>\n",
       "    </tr>\n",
       "  </tbody>\n",
       "</table>\n",
       "</div>"
      ],
      "text/plain": [
       "   isFraud\n",
       "0        0\n",
       "1        0\n",
       "2        0\n",
       "3        0\n",
       "4        0"
      ]
     },
     "execution_count": 24,
     "metadata": {},
     "output_type": "execute_result"
    }
   ],
   "source": [
    "y_new = y * 1\n",
    "y_new.head()"
   ]
  },
  {
   "cell_type": "markdown",
   "metadata": {
    "ExecuteTime": {
     "end_time": "2020-11-08T00:31:48.936088Z",
     "start_time": "2020-11-08T00:31:48.922939Z"
    }
   },
   "source": [
    "### Simplistic model\n",
    "\n",
    "**drop the following columns**\n",
    "\n",
    "``` \n",
    "'accountNumber', 'customerId', 'transactionDateTime'\n",
    "'merchantName', 'acqCountry', 'merchantCountryCode', 'posEntryMode','posConditionCode'\n",
    "'accountOpenDate','dateOfLastAddressChange','cardCVV','enteredCVV','cardLast4Digits'\n",
    "```"
   ]
  },
  {
   "cell_type": "code",
   "execution_count": 25,
   "metadata": {
    "ExecuteTime": {
     "end_time": "2020-11-09T04:13:32.117157Z",
     "start_time": "2020-11-09T04:13:32.009144Z"
    }
   },
   "outputs": [],
   "source": [
    "drop_cols = ['accountNumber','customerId','transactionDateTime','merchantName','acqCountry','merchantCountryCode','posEntryMode','accountOpenDate','dateOfLastAddressChange','cardCVV','enteredCVV', 'cardLast4Digits','posConditionCode','currentExpDate']\n",
    "\n",
    "X_new = X.drop(columns=drop_cols)"
   ]
  },
  {
   "cell_type": "code",
   "execution_count": 26,
   "metadata": {
    "ExecuteTime": {
     "end_time": "2020-11-09T04:13:32.259043Z",
     "start_time": "2020-11-09T04:13:32.122049Z"
    }
   },
   "outputs": [],
   "source": [
    "obj_dtypes = [i for i in X_new.select_dtypes(include = [np.object, np.bool]).columns]"
   ]
  },
  {
   "cell_type": "code",
   "execution_count": 27,
   "metadata": {
    "ExecuteTime": {
     "end_time": "2020-11-09T04:13:32.290041Z",
     "start_time": "2020-11-09T04:13:32.263040Z"
    }
   },
   "outputs": [
    {
     "data": {
      "text/html": [
       "<div>\n",
       "<style scoped>\n",
       "    .dataframe tbody tr th:only-of-type {\n",
       "        vertical-align: middle;\n",
       "    }\n",
       "\n",
       "    .dataframe tbody tr th {\n",
       "        vertical-align: top;\n",
       "    }\n",
       "\n",
       "    .dataframe thead th {\n",
       "        text-align: right;\n",
       "    }\n",
       "</style>\n",
       "<table border=\"1\" class=\"dataframe\">\n",
       "  <thead>\n",
       "    <tr style=\"text-align: right;\">\n",
       "      <th></th>\n",
       "      <th>creditLimit</th>\n",
       "      <th>availableMoney</th>\n",
       "      <th>transactionAmount</th>\n",
       "      <th>currentBalance</th>\n",
       "      <th>merchantCategoryCode</th>\n",
       "      <th>transactionType</th>\n",
       "      <th>cardPresent</th>\n",
       "      <th>expirationDateKeyInMatch</th>\n",
       "    </tr>\n",
       "  </thead>\n",
       "  <tbody>\n",
       "    <tr>\n",
       "      <th>0</th>\n",
       "      <td>5,000.00</td>\n",
       "      <td>5,000.00</td>\n",
       "      <td>98.55</td>\n",
       "      <td>0.00</td>\n",
       "      <td>rideshare</td>\n",
       "      <td>PURCHASE</td>\n",
       "      <td>False</td>\n",
       "      <td>False</td>\n",
       "    </tr>\n",
       "    <tr>\n",
       "      <th>1</th>\n",
       "      <td>5,000.00</td>\n",
       "      <td>5,000.00</td>\n",
       "      <td>74.51</td>\n",
       "      <td>0.00</td>\n",
       "      <td>entertainment</td>\n",
       "      <td>PURCHASE</td>\n",
       "      <td>True</td>\n",
       "      <td>False</td>\n",
       "    </tr>\n",
       "    <tr>\n",
       "      <th>2</th>\n",
       "      <td>5,000.00</td>\n",
       "      <td>5,000.00</td>\n",
       "      <td>7.47</td>\n",
       "      <td>0.00</td>\n",
       "      <td>mobileapps</td>\n",
       "      <td>PURCHASE</td>\n",
       "      <td>False</td>\n",
       "      <td>False</td>\n",
       "    </tr>\n",
       "    <tr>\n",
       "      <th>3</th>\n",
       "      <td>5,000.00</td>\n",
       "      <td>5,000.00</td>\n",
       "      <td>7.47</td>\n",
       "      <td>0.00</td>\n",
       "      <td>mobileapps</td>\n",
       "      <td>PURCHASE</td>\n",
       "      <td>False</td>\n",
       "      <td>False</td>\n",
       "    </tr>\n",
       "    <tr>\n",
       "      <th>4</th>\n",
       "      <td>5,000.00</td>\n",
       "      <td>5,000.00</td>\n",
       "      <td>71.18</td>\n",
       "      <td>0.00</td>\n",
       "      <td>fastfood</td>\n",
       "      <td>PURCHASE</td>\n",
       "      <td>True</td>\n",
       "      <td>False</td>\n",
       "    </tr>\n",
       "  </tbody>\n",
       "</table>\n",
       "</div>"
      ],
      "text/plain": [
       "           creditLimit       availableMoney    transactionAmount  \\\n",
       "0             5,000.00             5,000.00                98.55   \n",
       "1             5,000.00             5,000.00                74.51   \n",
       "2             5,000.00             5,000.00                 7.47   \n",
       "3             5,000.00             5,000.00                 7.47   \n",
       "4             5,000.00             5,000.00                71.18   \n",
       "\n",
       "        currentBalance merchantCategoryCode transactionType  cardPresent  \\\n",
       "0                 0.00            rideshare        PURCHASE        False   \n",
       "1                 0.00        entertainment        PURCHASE         True   \n",
       "2                 0.00           mobileapps        PURCHASE        False   \n",
       "3                 0.00           mobileapps        PURCHASE        False   \n",
       "4                 0.00             fastfood        PURCHASE         True   \n",
       "\n",
       "   expirationDateKeyInMatch  \n",
       "0                False       \n",
       "1                False       \n",
       "2                False       \n",
       "3                False       \n",
       "4                False       "
      ]
     },
     "execution_count": 27,
     "metadata": {},
     "output_type": "execute_result"
    }
   ],
   "source": [
    "X_new.head()"
   ]
  },
  {
   "cell_type": "markdown",
   "metadata": {},
   "source": [
    "### One-Hot Encoding/LabelEncoding"
   ]
  },
  {
   "cell_type": "code",
   "execution_count": 28,
   "metadata": {
    "ExecuteTime": {
     "end_time": "2020-11-09T04:13:35.057183Z",
     "start_time": "2020-11-09T04:13:32.294040Z"
    }
   },
   "outputs": [],
   "source": [
    "# # X_new.isnull().any()\n",
    "columnTransformer = ColumnTransformer([('encoder', \n",
    "                                        OneHotEncoder(drop='first'), \n",
    "                                        obj_dtypes)], \n",
    "                                      remainder='passthrough') \n",
    "  \n",
    "X_data = columnTransformer.fit_transform(X_new)\n",
    "# # drop_enc = OneHotEncoder(drop='first')\n",
    "\n",
    "# # X_enc = drop_enc.fit_transform(X_new)\n",
    "# # X_enc\n",
    "# # X_test_enc = drop_enc.transform(X_test)\n",
    "# # drop_enc.categories_"
   ]
  },
  {
   "cell_type": "code",
   "execution_count": 29,
   "metadata": {
    "ExecuteTime": {
     "end_time": "2020-11-09T04:13:35.089202Z",
     "start_time": "2020-11-09T04:13:35.063184Z"
    }
   },
   "outputs": [
    {
     "data": {
      "text/plain": [
       "('encoder',\n",
       " OneHotEncoder(categories='auto', drop='first', dtype=<class 'numpy.float64'>,\n",
       "               handle_unknown='error', sparse=True),\n",
       " ['merchantCategoryCode',\n",
       "  'transactionType',\n",
       "  'cardPresent',\n",
       "  'expirationDateKeyInMatch'])"
      ]
     },
     "execution_count": 29,
     "metadata": {},
     "output_type": "execute_result"
    }
   ],
   "source": [
    "columnTransformer.transformers[0]"
   ]
  },
  {
   "cell_type": "code",
   "execution_count": 30,
   "metadata": {
    "ExecuteTime": {
     "end_time": "2020-11-09T04:13:36.715756Z",
     "start_time": "2020-11-09T04:13:35.093152Z"
    },
    "code_folding": []
   },
   "outputs": [
    {
     "data": {
      "text/html": [
       "<div>\n",
       "<style scoped>\n",
       "    .dataframe tbody tr th:only-of-type {\n",
       "        vertical-align: middle;\n",
       "    }\n",
       "\n",
       "    .dataframe tbody tr th {\n",
       "        vertical-align: top;\n",
       "    }\n",
       "\n",
       "    .dataframe thead th {\n",
       "        text-align: right;\n",
       "    }\n",
       "</style>\n",
       "<table border=\"1\" class=\"dataframe\">\n",
       "  <thead>\n",
       "    <tr style=\"text-align: right;\">\n",
       "      <th></th>\n",
       "      <th>creditLimit</th>\n",
       "      <th>availableMoney</th>\n",
       "      <th>transactionAmount</th>\n",
       "      <th>currentBalance</th>\n",
       "      <th>merchantCategoryCode_0</th>\n",
       "      <th>merchantCategoryCode_1</th>\n",
       "      <th>merchantCategoryCode_2</th>\n",
       "      <th>merchantCategoryCode_3</th>\n",
       "      <th>merchantCategoryCode_4</th>\n",
       "      <th>merchantCategoryCode_5</th>\n",
       "      <th>merchantCategoryCode_6</th>\n",
       "      <th>merchantCategoryCode_7</th>\n",
       "      <th>merchantCategoryCode_8</th>\n",
       "      <th>merchantCategoryCode_9</th>\n",
       "      <th>merchantCategoryCode_10</th>\n",
       "      <th>merchantCategoryCode_11</th>\n",
       "      <th>merchantCategoryCode_12</th>\n",
       "      <th>merchantCategoryCode_13</th>\n",
       "      <th>merchantCategoryCode_14</th>\n",
       "      <th>merchantCategoryCode_15</th>\n",
       "      <th>merchantCategoryCode_16</th>\n",
       "      <th>merchantCategoryCode_17</th>\n",
       "      <th>merchantCategoryCode_18</th>\n",
       "      <th>transactionType_0</th>\n",
       "      <th>transactionType_1</th>\n",
       "      <th>transactionType_2</th>\n",
       "      <th>cardPresent_0</th>\n",
       "      <th>cardPresent_1</th>\n",
       "      <th>expirationDateKeyInMatch_0</th>\n",
       "      <th>expirationDateKeyInMatch_1</th>\n",
       "    </tr>\n",
       "  </thead>\n",
       "  <tbody>\n",
       "    <tr>\n",
       "      <th>0</th>\n",
       "      <td>5,000.00</td>\n",
       "      <td>5,000.00</td>\n",
       "      <td>98.55</td>\n",
       "      <td>0.00</td>\n",
       "      <td>0</td>\n",
       "      <td>0</td>\n",
       "      <td>0</td>\n",
       "      <td>0</td>\n",
       "      <td>0</td>\n",
       "      <td>0</td>\n",
       "      <td>0</td>\n",
       "      <td>0</td>\n",
       "      <td>0</td>\n",
       "      <td>0</td>\n",
       "      <td>0</td>\n",
       "      <td>0</td>\n",
       "      <td>0</td>\n",
       "      <td>0</td>\n",
       "      <td>0</td>\n",
       "      <td>0</td>\n",
       "      <td>0</td>\n",
       "      <td>1</td>\n",
       "      <td>0</td>\n",
       "      <td>0</td>\n",
       "      <td>1</td>\n",
       "      <td>0</td>\n",
       "      <td>1</td>\n",
       "      <td>0</td>\n",
       "      <td>1</td>\n",
       "      <td>0</td>\n",
       "    </tr>\n",
       "    <tr>\n",
       "      <th>1</th>\n",
       "      <td>5,000.00</td>\n",
       "      <td>5,000.00</td>\n",
       "      <td>74.51</td>\n",
       "      <td>0.00</td>\n",
       "      <td>0</td>\n",
       "      <td>0</td>\n",
       "      <td>0</td>\n",
       "      <td>1</td>\n",
       "      <td>0</td>\n",
       "      <td>0</td>\n",
       "      <td>0</td>\n",
       "      <td>0</td>\n",
       "      <td>0</td>\n",
       "      <td>0</td>\n",
       "      <td>0</td>\n",
       "      <td>0</td>\n",
       "      <td>0</td>\n",
       "      <td>0</td>\n",
       "      <td>0</td>\n",
       "      <td>0</td>\n",
       "      <td>0</td>\n",
       "      <td>0</td>\n",
       "      <td>0</td>\n",
       "      <td>0</td>\n",
       "      <td>1</td>\n",
       "      <td>0</td>\n",
       "      <td>0</td>\n",
       "      <td>1</td>\n",
       "      <td>1</td>\n",
       "      <td>0</td>\n",
       "    </tr>\n",
       "    <tr>\n",
       "      <th>2</th>\n",
       "      <td>5,000.00</td>\n",
       "      <td>5,000.00</td>\n",
       "      <td>7.47</td>\n",
       "      <td>0.00</td>\n",
       "      <td>0</td>\n",
       "      <td>0</td>\n",
       "      <td>0</td>\n",
       "      <td>0</td>\n",
       "      <td>0</td>\n",
       "      <td>0</td>\n",
       "      <td>0</td>\n",
       "      <td>0</td>\n",
       "      <td>0</td>\n",
       "      <td>0</td>\n",
       "      <td>0</td>\n",
       "      <td>0</td>\n",
       "      <td>1</td>\n",
       "      <td>0</td>\n",
       "      <td>0</td>\n",
       "      <td>0</td>\n",
       "      <td>0</td>\n",
       "      <td>0</td>\n",
       "      <td>0</td>\n",
       "      <td>0</td>\n",
       "      <td>1</td>\n",
       "      <td>0</td>\n",
       "      <td>1</td>\n",
       "      <td>0</td>\n",
       "      <td>1</td>\n",
       "      <td>0</td>\n",
       "    </tr>\n",
       "    <tr>\n",
       "      <th>3</th>\n",
       "      <td>5,000.00</td>\n",
       "      <td>5,000.00</td>\n",
       "      <td>7.47</td>\n",
       "      <td>0.00</td>\n",
       "      <td>0</td>\n",
       "      <td>0</td>\n",
       "      <td>0</td>\n",
       "      <td>0</td>\n",
       "      <td>0</td>\n",
       "      <td>0</td>\n",
       "      <td>0</td>\n",
       "      <td>0</td>\n",
       "      <td>0</td>\n",
       "      <td>0</td>\n",
       "      <td>0</td>\n",
       "      <td>0</td>\n",
       "      <td>1</td>\n",
       "      <td>0</td>\n",
       "      <td>0</td>\n",
       "      <td>0</td>\n",
       "      <td>0</td>\n",
       "      <td>0</td>\n",
       "      <td>0</td>\n",
       "      <td>0</td>\n",
       "      <td>1</td>\n",
       "      <td>0</td>\n",
       "      <td>1</td>\n",
       "      <td>0</td>\n",
       "      <td>1</td>\n",
       "      <td>0</td>\n",
       "    </tr>\n",
       "    <tr>\n",
       "      <th>4</th>\n",
       "      <td>5,000.00</td>\n",
       "      <td>5,000.00</td>\n",
       "      <td>71.18</td>\n",
       "      <td>0.00</td>\n",
       "      <td>0</td>\n",
       "      <td>0</td>\n",
       "      <td>0</td>\n",
       "      <td>0</td>\n",
       "      <td>1</td>\n",
       "      <td>0</td>\n",
       "      <td>0</td>\n",
       "      <td>0</td>\n",
       "      <td>0</td>\n",
       "      <td>0</td>\n",
       "      <td>0</td>\n",
       "      <td>0</td>\n",
       "      <td>0</td>\n",
       "      <td>0</td>\n",
       "      <td>0</td>\n",
       "      <td>0</td>\n",
       "      <td>0</td>\n",
       "      <td>0</td>\n",
       "      <td>0</td>\n",
       "      <td>0</td>\n",
       "      <td>1</td>\n",
       "      <td>0</td>\n",
       "      <td>0</td>\n",
       "      <td>1</td>\n",
       "      <td>1</td>\n",
       "      <td>0</td>\n",
       "    </tr>\n",
       "  </tbody>\n",
       "</table>\n",
       "</div>"
      ],
      "text/plain": [
       "           creditLimit       availableMoney    transactionAmount  \\\n",
       "0             5,000.00             5,000.00                98.55   \n",
       "1             5,000.00             5,000.00                74.51   \n",
       "2             5,000.00             5,000.00                 7.47   \n",
       "3             5,000.00             5,000.00                 7.47   \n",
       "4             5,000.00             5,000.00                71.18   \n",
       "\n",
       "        currentBalance  merchantCategoryCode_0  merchantCategoryCode_1  \\\n",
       "0                 0.00                    0                       0      \n",
       "1                 0.00                    0                       0      \n",
       "2                 0.00                    0                       0      \n",
       "3                 0.00                    0                       0      \n",
       "4                 0.00                    0                       0      \n",
       "\n",
       "   merchantCategoryCode_2  merchantCategoryCode_3  merchantCategoryCode_4  \\\n",
       "0                    0                       0                       0      \n",
       "1                    0                       1                       0      \n",
       "2                    0                       0                       0      \n",
       "3                    0                       0                       0      \n",
       "4                    0                       0                       1      \n",
       "\n",
       "   merchantCategoryCode_5  merchantCategoryCode_6  merchantCategoryCode_7  \\\n",
       "0                    0                       0                       0      \n",
       "1                    0                       0                       0      \n",
       "2                    0                       0                       0      \n",
       "3                    0                       0                       0      \n",
       "4                    0                       0                       0      \n",
       "\n",
       "   merchantCategoryCode_8  merchantCategoryCode_9  merchantCategoryCode_10  \\\n",
       "0                    0                       0                       0       \n",
       "1                    0                       0                       0       \n",
       "2                    0                       0                       0       \n",
       "3                    0                       0                       0       \n",
       "4                    0                       0                       0       \n",
       "\n",
       "   merchantCategoryCode_11  merchantCategoryCode_12  merchantCategoryCode_13  \\\n",
       "0                    0                        0                        0       \n",
       "1                    0                        0                        0       \n",
       "2                    0                        1                        0       \n",
       "3                    0                        1                        0       \n",
       "4                    0                        0                        0       \n",
       "\n",
       "   merchantCategoryCode_14  merchantCategoryCode_15  merchantCategoryCode_16  \\\n",
       "0                    0                        0                        0       \n",
       "1                    0                        0                        0       \n",
       "2                    0                        0                        0       \n",
       "3                    0                        0                        0       \n",
       "4                    0                        0                        0       \n",
       "\n",
       "   merchantCategoryCode_17  merchantCategoryCode_18  transactionType_0  \\\n",
       "0                    1                        0                      0   \n",
       "1                    0                        0                      0   \n",
       "2                    0                        0                      0   \n",
       "3                    0                        0                      0   \n",
       "4                    0                        0                      0   \n",
       "\n",
       "   transactionType_1  transactionType_2  cardPresent_0  cardPresent_1  \\\n",
       "0                  1                  0              1              0   \n",
       "1                  1                  0              0              1   \n",
       "2                  1                  0              1              0   \n",
       "3                  1                  0              1              0   \n",
       "4                  1                  0              0              1   \n",
       "\n",
       "   expirationDateKeyInMatch_0  expirationDateKeyInMatch_1  \n",
       "0                    1                           0         \n",
       "1                    1                           0         \n",
       "2                    1                           0         \n",
       "3                    1                           0         \n",
       "4                    1                           0         "
      ]
     },
     "execution_count": 30,
     "metadata": {},
     "output_type": "execute_result"
    }
   ],
   "source": [
    "le = LabelEncoder()\n",
    "\n",
    "for i in obj_dtypes:\n",
    "    X_new[i] = le.fit_transform(X_new[i])\n",
    "\n",
    "X_new = pd.get_dummies(data=X_new, columns=obj_dtypes)\n",
    "X_new.head()"
   ]
  },
  {
   "cell_type": "code",
   "execution_count": 31,
   "metadata": {
    "ExecuteTime": {
     "end_time": "2020-11-09T04:13:36.762356Z",
     "start_time": "2020-11-09T04:13:36.719145Z"
    }
   },
   "outputs": [
    {
     "data": {
      "text/html": [
       "<div>\n",
       "<style scoped>\n",
       "    .dataframe tbody tr th:only-of-type {\n",
       "        vertical-align: middle;\n",
       "    }\n",
       "\n",
       "    .dataframe tbody tr th {\n",
       "        vertical-align: top;\n",
       "    }\n",
       "\n",
       "    .dataframe thead th {\n",
       "        text-align: right;\n",
       "    }\n",
       "</style>\n",
       "<table border=\"1\" class=\"dataframe\">\n",
       "  <thead>\n",
       "    <tr style=\"text-align: right;\">\n",
       "      <th></th>\n",
       "      <th>creditLimit</th>\n",
       "      <th>availableMoney</th>\n",
       "      <th>transactionAmount</th>\n",
       "      <th>currentBalance</th>\n",
       "      <th>merchantCategoryCode_0</th>\n",
       "      <th>merchantCategoryCode_1</th>\n",
       "      <th>merchantCategoryCode_2</th>\n",
       "      <th>merchantCategoryCode_3</th>\n",
       "      <th>merchantCategoryCode_4</th>\n",
       "      <th>merchantCategoryCode_5</th>\n",
       "      <th>merchantCategoryCode_6</th>\n",
       "      <th>merchantCategoryCode_7</th>\n",
       "      <th>merchantCategoryCode_8</th>\n",
       "      <th>merchantCategoryCode_9</th>\n",
       "      <th>merchantCategoryCode_10</th>\n",
       "      <th>merchantCategoryCode_11</th>\n",
       "      <th>merchantCategoryCode_12</th>\n",
       "      <th>merchantCategoryCode_13</th>\n",
       "      <th>merchantCategoryCode_14</th>\n",
       "      <th>merchantCategoryCode_15</th>\n",
       "      <th>merchantCategoryCode_16</th>\n",
       "      <th>merchantCategoryCode_17</th>\n",
       "      <th>merchantCategoryCode_18</th>\n",
       "      <th>transactionType_0</th>\n",
       "      <th>transactionType_1</th>\n",
       "      <th>transactionType_2</th>\n",
       "      <th>cardPresent_0</th>\n",
       "      <th>cardPresent_1</th>\n",
       "      <th>expirationDateKeyInMatch_0</th>\n",
       "      <th>expirationDateKeyInMatch_1</th>\n",
       "    </tr>\n",
       "  </thead>\n",
       "  <tbody>\n",
       "    <tr>\n",
       "      <th>0</th>\n",
       "      <td>5,000.00</td>\n",
       "      <td>5,000.00</td>\n",
       "      <td>98.55</td>\n",
       "      <td>0.00</td>\n",
       "      <td>0</td>\n",
       "      <td>0</td>\n",
       "      <td>0</td>\n",
       "      <td>0</td>\n",
       "      <td>0</td>\n",
       "      <td>0</td>\n",
       "      <td>0</td>\n",
       "      <td>0</td>\n",
       "      <td>0</td>\n",
       "      <td>0</td>\n",
       "      <td>0</td>\n",
       "      <td>0</td>\n",
       "      <td>0</td>\n",
       "      <td>0</td>\n",
       "      <td>0</td>\n",
       "      <td>0</td>\n",
       "      <td>0</td>\n",
       "      <td>1</td>\n",
       "      <td>0</td>\n",
       "      <td>0</td>\n",
       "      <td>1</td>\n",
       "      <td>0</td>\n",
       "      <td>1</td>\n",
       "      <td>0</td>\n",
       "      <td>1</td>\n",
       "      <td>0</td>\n",
       "    </tr>\n",
       "    <tr>\n",
       "      <th>1</th>\n",
       "      <td>5,000.00</td>\n",
       "      <td>5,000.00</td>\n",
       "      <td>74.51</td>\n",
       "      <td>0.00</td>\n",
       "      <td>0</td>\n",
       "      <td>0</td>\n",
       "      <td>0</td>\n",
       "      <td>1</td>\n",
       "      <td>0</td>\n",
       "      <td>0</td>\n",
       "      <td>0</td>\n",
       "      <td>0</td>\n",
       "      <td>0</td>\n",
       "      <td>0</td>\n",
       "      <td>0</td>\n",
       "      <td>0</td>\n",
       "      <td>0</td>\n",
       "      <td>0</td>\n",
       "      <td>0</td>\n",
       "      <td>0</td>\n",
       "      <td>0</td>\n",
       "      <td>0</td>\n",
       "      <td>0</td>\n",
       "      <td>0</td>\n",
       "      <td>1</td>\n",
       "      <td>0</td>\n",
       "      <td>0</td>\n",
       "      <td>1</td>\n",
       "      <td>1</td>\n",
       "      <td>0</td>\n",
       "    </tr>\n",
       "    <tr>\n",
       "      <th>2</th>\n",
       "      <td>5,000.00</td>\n",
       "      <td>5,000.00</td>\n",
       "      <td>7.47</td>\n",
       "      <td>0.00</td>\n",
       "      <td>0</td>\n",
       "      <td>0</td>\n",
       "      <td>0</td>\n",
       "      <td>0</td>\n",
       "      <td>0</td>\n",
       "      <td>0</td>\n",
       "      <td>0</td>\n",
       "      <td>0</td>\n",
       "      <td>0</td>\n",
       "      <td>0</td>\n",
       "      <td>0</td>\n",
       "      <td>0</td>\n",
       "      <td>1</td>\n",
       "      <td>0</td>\n",
       "      <td>0</td>\n",
       "      <td>0</td>\n",
       "      <td>0</td>\n",
       "      <td>0</td>\n",
       "      <td>0</td>\n",
       "      <td>0</td>\n",
       "      <td>1</td>\n",
       "      <td>0</td>\n",
       "      <td>1</td>\n",
       "      <td>0</td>\n",
       "      <td>1</td>\n",
       "      <td>0</td>\n",
       "    </tr>\n",
       "    <tr>\n",
       "      <th>3</th>\n",
       "      <td>5,000.00</td>\n",
       "      <td>5,000.00</td>\n",
       "      <td>7.47</td>\n",
       "      <td>0.00</td>\n",
       "      <td>0</td>\n",
       "      <td>0</td>\n",
       "      <td>0</td>\n",
       "      <td>0</td>\n",
       "      <td>0</td>\n",
       "      <td>0</td>\n",
       "      <td>0</td>\n",
       "      <td>0</td>\n",
       "      <td>0</td>\n",
       "      <td>0</td>\n",
       "      <td>0</td>\n",
       "      <td>0</td>\n",
       "      <td>1</td>\n",
       "      <td>0</td>\n",
       "      <td>0</td>\n",
       "      <td>0</td>\n",
       "      <td>0</td>\n",
       "      <td>0</td>\n",
       "      <td>0</td>\n",
       "      <td>0</td>\n",
       "      <td>1</td>\n",
       "      <td>0</td>\n",
       "      <td>1</td>\n",
       "      <td>0</td>\n",
       "      <td>1</td>\n",
       "      <td>0</td>\n",
       "    </tr>\n",
       "    <tr>\n",
       "      <th>4</th>\n",
       "      <td>5,000.00</td>\n",
       "      <td>5,000.00</td>\n",
       "      <td>71.18</td>\n",
       "      <td>0.00</td>\n",
       "      <td>0</td>\n",
       "      <td>0</td>\n",
       "      <td>0</td>\n",
       "      <td>0</td>\n",
       "      <td>1</td>\n",
       "      <td>0</td>\n",
       "      <td>0</td>\n",
       "      <td>0</td>\n",
       "      <td>0</td>\n",
       "      <td>0</td>\n",
       "      <td>0</td>\n",
       "      <td>0</td>\n",
       "      <td>0</td>\n",
       "      <td>0</td>\n",
       "      <td>0</td>\n",
       "      <td>0</td>\n",
       "      <td>0</td>\n",
       "      <td>0</td>\n",
       "      <td>0</td>\n",
       "      <td>0</td>\n",
       "      <td>1</td>\n",
       "      <td>0</td>\n",
       "      <td>0</td>\n",
       "      <td>1</td>\n",
       "      <td>1</td>\n",
       "      <td>0</td>\n",
       "    </tr>\n",
       "  </tbody>\n",
       "</table>\n",
       "</div>"
      ],
      "text/plain": [
       "           creditLimit       availableMoney    transactionAmount  \\\n",
       "0             5,000.00             5,000.00                98.55   \n",
       "1             5,000.00             5,000.00                74.51   \n",
       "2             5,000.00             5,000.00                 7.47   \n",
       "3             5,000.00             5,000.00                 7.47   \n",
       "4             5,000.00             5,000.00                71.18   \n",
       "\n",
       "        currentBalance  merchantCategoryCode_0  merchantCategoryCode_1  \\\n",
       "0                 0.00                    0                       0      \n",
       "1                 0.00                    0                       0      \n",
       "2                 0.00                    0                       0      \n",
       "3                 0.00                    0                       0      \n",
       "4                 0.00                    0                       0      \n",
       "\n",
       "   merchantCategoryCode_2  merchantCategoryCode_3  merchantCategoryCode_4  \\\n",
       "0                    0                       0                       0      \n",
       "1                    0                       1                       0      \n",
       "2                    0                       0                       0      \n",
       "3                    0                       0                       0      \n",
       "4                    0                       0                       1      \n",
       "\n",
       "   merchantCategoryCode_5  merchantCategoryCode_6  merchantCategoryCode_7  \\\n",
       "0                    0                       0                       0      \n",
       "1                    0                       0                       0      \n",
       "2                    0                       0                       0      \n",
       "3                    0                       0                       0      \n",
       "4                    0                       0                       0      \n",
       "\n",
       "   merchantCategoryCode_8  merchantCategoryCode_9  merchantCategoryCode_10  \\\n",
       "0                    0                       0                       0       \n",
       "1                    0                       0                       0       \n",
       "2                    0                       0                       0       \n",
       "3                    0                       0                       0       \n",
       "4                    0                       0                       0       \n",
       "\n",
       "   merchantCategoryCode_11  merchantCategoryCode_12  merchantCategoryCode_13  \\\n",
       "0                    0                        0                        0       \n",
       "1                    0                        0                        0       \n",
       "2                    0                        1                        0       \n",
       "3                    0                        1                        0       \n",
       "4                    0                        0                        0       \n",
       "\n",
       "   merchantCategoryCode_14  merchantCategoryCode_15  merchantCategoryCode_16  \\\n",
       "0                    0                        0                        0       \n",
       "1                    0                        0                        0       \n",
       "2                    0                        0                        0       \n",
       "3                    0                        0                        0       \n",
       "4                    0                        0                        0       \n",
       "\n",
       "   merchantCategoryCode_17  merchantCategoryCode_18  transactionType_0  \\\n",
       "0                    1                        0                      0   \n",
       "1                    0                        0                      0   \n",
       "2                    0                        0                      0   \n",
       "3                    0                        0                      0   \n",
       "4                    0                        0                      0   \n",
       "\n",
       "   transactionType_1  transactionType_2  cardPresent_0  cardPresent_1  \\\n",
       "0                  1                  0              1              0   \n",
       "1                  1                  0              0              1   \n",
       "2                  1                  0              1              0   \n",
       "3                  1                  0              1              0   \n",
       "4                  1                  0              0              1   \n",
       "\n",
       "   expirationDateKeyInMatch_0  expirationDateKeyInMatch_1  \n",
       "0                    1                           0         \n",
       "1                    1                           0         \n",
       "2                    1                           0         \n",
       "3                    1                           0         \n",
       "4                    1                           0         "
      ]
     },
     "execution_count": 31,
     "metadata": {},
     "output_type": "execute_result"
    }
   ],
   "source": [
    "X_new.head()"
   ]
  },
  {
   "cell_type": "markdown",
   "metadata": {},
   "source": [
    "### Train-Test Split"
   ]
  },
  {
   "cell_type": "code",
   "execution_count": 36,
   "metadata": {
    "ExecuteTime": {
     "end_time": "2020-11-09T04:14:54.112246Z",
     "start_time": "2020-11-09T04:14:52.864156Z"
    }
   },
   "outputs": [],
   "source": [
    " X_train, X_test, y_train, y_test = train_test_split(X_new.values, y_new.values, test_size = 0.25, random_state = 0)"
   ]
  },
  {
   "cell_type": "code",
   "execution_count": 37,
   "metadata": {
    "ExecuteTime": {
     "end_time": "2020-11-09T04:14:54.872569Z",
     "start_time": "2020-11-09T04:14:54.861303Z"
    }
   },
   "outputs": [],
   "source": [
    "#  X_train, X_test, y_train, y_test = train_test_split(X_data, y_new.values, test_size = 0.25, random_state = 0)"
   ]
  },
  {
   "cell_type": "markdown",
   "metadata": {
    "ExecuteTime": {
     "end_time": "2020-11-08T00:35:33.892619Z",
     "start_time": "2020-11-08T00:35:33.571705Z"
    }
   },
   "source": [
    "### Applying `StandardScalar`"
   ]
  },
  {
   "cell_type": "code",
   "execution_count": 38,
   "metadata": {
    "ExecuteTime": {
     "end_time": "2020-11-09T04:14:56.896133Z",
     "start_time": "2020-11-09T04:14:55.709307Z"
    }
   },
   "outputs": [],
   "source": [
    "sc = StandardScaler()\n",
    "X_train = sc.fit_transform(X_train)\n",
    "X_test = sc.transform(X_test)"
   ]
  },
  {
   "cell_type": "markdown",
   "metadata": {},
   "source": [
    "### Train Logistic Regression Model"
   ]
  },
  {
   "cell_type": "code",
   "execution_count": 39,
   "metadata": {
    "ExecuteTime": {
     "end_time": "2020-11-09T04:14:59.210698Z",
     "start_time": "2020-11-09T04:14:58.841673Z"
    }
   },
   "outputs": [],
   "source": [
    "from sklearn.linear_model import LogisticRegression"
   ]
  },
  {
   "cell_type": "code",
   "execution_count": 40,
   "metadata": {
    "ExecuteTime": {
     "end_time": "2020-11-09T04:14:59.959291Z",
     "start_time": "2020-11-09T04:14:59.947338Z"
    }
   },
   "outputs": [],
   "source": [
    "log_reg = LogisticRegression(class_weight='balanced', random_state=0,\n",
    "                             solver='liblinear', penalty='l1')"
   ]
  },
  {
   "cell_type": "code",
   "execution_count": null,
   "metadata": {
    "ExecuteTime": {
     "start_time": "2020-11-09T04:15:01.760Z"
    }
   },
   "outputs": [],
   "source": [
    "log_reg.fit(X_train, y_train.ravel())"
   ]
  },
  {
   "cell_type": "code",
   "execution_count": null,
   "metadata": {
    "ExecuteTime": {
     "start_time": "2020-11-09T04:15:02.104Z"
    }
   },
   "outputs": [],
   "source": [
    "# coeff_df = pd.DataFrame(X_new.columns, log_reg.coef_, columns=['Coefficient'])\n",
    "coeff_df = pd.DataFrame(log_reg.coef_[0], X_new.columns, columns=['Coefficient'])\n",
    "coeff_df"
   ]
  },
  {
   "cell_type": "code",
   "execution_count": null,
   "metadata": {
    "ExecuteTime": {
     "end_time": "2020-11-09T04:13:37.090782Z",
     "start_time": "2020-11-09T04:10:53.918Z"
    }
   },
   "outputs": [],
   "source": [
    "y_pred = log_reg.predict(X_test)\n",
    "y_pred"
   ]
  },
  {
   "cell_type": "code",
   "execution_count": null,
   "metadata": {
    "ExecuteTime": {
     "end_time": "2020-11-09T04:13:37.093335Z",
     "start_time": "2020-11-09T04:10:53.922Z"
    }
   },
   "outputs": [],
   "source": [
    "from sklearn.metrics import confusion_matrix, accuracy_score, precision_score, recall_score, roc_curve, auc\n",
    "cm = confusion_matrix(y_test, y_pred, labels=[0, 1])\n",
    "print(\"CONFUSION MATRIX \\n\", cm)\n",
    "acc = accuracy_score(y_test, y_pred)\n",
    "print(\"ACCURACY :\", round(acc, 2))\n",
    "precision = precision_score(y_test, y_pred)\n",
    "print(\"PRECISION :\", round(precision, 2))\n",
    "recall = recall_score(y_test, y_pred)\n",
    "print(\"RECALL :\", round(recall, 2))\n",
    "fpr, tpr, thresh = roc_curve(y_test, y_pred)\n",
    "auc_score = auc(fpr, tpr)\n",
    "print(\"AUC : \", round(auc_score, 2))"
   ]
  },
  {
   "cell_type": "code",
   "execution_count": null,
   "metadata": {
    "ExecuteTime": {
     "end_time": "2020-11-09T04:13:37.095645Z",
     "start_time": "2020-11-09T04:10:53.926Z"
    }
   },
   "outputs": [],
   "source": [
    "from sklearn.metrics import classification_report\n",
    "\n",
    "print(classification_report(y_test, y_pred))"
   ]
  },
  {
   "cell_type": "code",
   "execution_count": null,
   "metadata": {
    "ExecuteTime": {
     "end_time": "2020-11-08T19:13:43.845791Z",
     "start_time": "2020-11-08T19:13:43.832313Z"
    }
   },
   "outputs": [],
   "source": []
  },
  {
   "cell_type": "code",
   "execution_count": null,
   "metadata": {},
   "outputs": [],
   "source": []
  }
 ],
 "metadata": {
  "kernelspec": {
   "display_name": "Python 3",
   "language": "python",
   "name": "python3"
  },
  "language_info": {
   "codemirror_mode": {
    "name": "ipython",
    "version": 3
   },
   "file_extension": ".py",
   "mimetype": "text/x-python",
   "name": "python",
   "nbconvert_exporter": "python",
   "pygments_lexer": "ipython3",
   "version": "3.7.4"
  },
  "toc": {
   "base_numbering": 1,
   "nav_menu": {},
   "number_sections": false,
   "sideBar": true,
   "skip_h1_title": false,
   "title_cell": "Table of Contents",
   "title_sidebar": "Contents",
   "toc_cell": false,
   "toc_position": {},
   "toc_section_display": true,
   "toc_window_display": false
  },
  "varInspector": {
   "cols": {
    "lenName": 16,
    "lenType": 16,
    "lenVar": 40
   },
   "kernels_config": {
    "python": {
     "delete_cmd_postfix": "",
     "delete_cmd_prefix": "del ",
     "library": "var_list.py",
     "varRefreshCmd": "print(var_dic_list())"
    },
    "r": {
     "delete_cmd_postfix": ") ",
     "delete_cmd_prefix": "rm(",
     "library": "var_list.r",
     "varRefreshCmd": "cat(var_dic_list()) "
    }
   },
   "types_to_exclude": [
    "module",
    "function",
    "builtin_function_or_method",
    "instance",
    "_Feature"
   ],
   "window_display": false
  }
 },
 "nbformat": 4,
 "nbformat_minor": 2
}
