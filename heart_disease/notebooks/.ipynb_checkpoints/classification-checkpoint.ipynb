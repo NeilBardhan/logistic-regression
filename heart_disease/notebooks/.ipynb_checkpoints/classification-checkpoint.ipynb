{
 "cells": [
  {
   "cell_type": "markdown",
   "metadata": {
    "colab_type": "text",
    "id": "4tSv3ZryMuqt"
   },
   "source": [
    "# Heart Disease Diagnosis - A Classification Task"
   ]
  },
  {
   "cell_type": "markdown",
   "metadata": {},
   "source": [
    "## The Problem"
   ]
  },
  {
   "cell_type": "markdown",
   "metadata": {
    "colab_type": "text",
    "id": "e35csCPWPbzb"
   },
   "source": [
    "Identifying the presence of a condition in patients can be viewed as a classification task. A certain condition (heart disease, diabetes or cancer) is either **present (1)** in a patient or **absent (0)** from that patient. Since these are diagnostic tools, it is critically important to focus on **minimizing False Negatives**. We cannot build diagnostic tools that predict the **absence** of a condition when the ground truth is otherwise, an undiagnosed condition could delay treatment and be fatal to the patient. Since **False Negatives** are inversely proportional to **Recall**, our goal is to maximize the recall of our model."
   ]
  },
  {
   "cell_type": "markdown",
   "metadata": {
    "colab_type": "text",
    "id": "WgEz-5Y8M2-T"
   },
   "source": [
    "## Importing the libraries"
   ]
  },
  {
   "cell_type": "code",
   "execution_count": 2,
   "metadata": {
    "ExecuteTime": {
     "end_time": "2020-07-27T01:49:41.970418Z",
     "start_time": "2020-07-27T01:49:41.961422Z"
    },
    "colab": {},
    "colab_type": "code",
    "id": "UhCns4RsLytz"
   },
   "outputs": [],
   "source": [
    "import os\n",
    "import shap\n",
    "import numpy as np\n",
    "import pandas as pd\n",
    "import seaborn as sns\n",
    "import matplotlib.pyplot as plt\n",
    "from sklearn.preprocessing import StandardScaler\n",
    "from sklearn.model_selection import train_test_split\n",
    "from sklearn.model_selection import RepeatedStratifiedKFold\n",
    "from sklearn.model_selection import GridSearchCV\n",
    "%matplotlib inline\n",
    "\n",
    "plt.rcParams.update({'figure.figsize':(16, 9), 'figure.dpi':60})"
   ]
  },
  {
   "cell_type": "markdown",
   "metadata": {
    "colab_type": "text",
    "id": "W4om1rgZPq6R"
   },
   "source": [
    "## Importing the Data"
   ]
  },
  {
   "cell_type": "code",
   "execution_count": 3,
   "metadata": {
    "ExecuteTime": {
     "end_time": "2020-07-27T01:49:42.035415Z",
     "start_time": "2020-07-27T01:49:42.031389Z"
    }
   },
   "outputs": [],
   "source": [
    "os.chdir('..')"
   ]
  },
  {
   "cell_type": "code",
   "execution_count": 4,
   "metadata": {
    "ExecuteTime": {
     "end_time": "2020-07-27T01:49:42.044418Z",
     "start_time": "2020-07-27T01:49:42.039389Z"
    },
    "colab": {},
    "colab_type": "code",
    "id": "M4yCpwVWNf5s"
   },
   "outputs": [],
   "source": [
    "DATA_PATH = os.getcwd() + '//'\n",
    "fname = 'heart.csv'"
   ]
  },
  {
   "cell_type": "code",
   "execution_count": 5,
   "metadata": {
    "ExecuteTime": {
     "end_time": "2020-07-27T01:49:42.074417Z",
     "start_time": "2020-07-27T01:49:42.047409Z"
    },
    "colab": {
     "base_uri": "https://localhost:8080/",
     "height": 362
    },
    "colab_type": "code",
    "id": "khDLox0JN4SH",
    "outputId": "76fe0cf3-eab6-47ec-a1e3-bcf529d39b39"
   },
   "outputs": [
    {
     "data": {
      "text/html": [
       "<div>\n",
       "<style scoped>\n",
       "    .dataframe tbody tr th:only-of-type {\n",
       "        vertical-align: middle;\n",
       "    }\n",
       "\n",
       "    .dataframe tbody tr th {\n",
       "        vertical-align: top;\n",
       "    }\n",
       "\n",
       "    .dataframe thead th {\n",
       "        text-align: right;\n",
       "    }\n",
       "</style>\n",
       "<table border=\"1\" class=\"dataframe\">\n",
       "  <thead>\n",
       "    <tr style=\"text-align: right;\">\n",
       "      <th></th>\n",
       "      <th>age</th>\n",
       "      <th>sex</th>\n",
       "      <th>cp</th>\n",
       "      <th>trestbps</th>\n",
       "      <th>chol</th>\n",
       "      <th>fbs</th>\n",
       "      <th>restecg</th>\n",
       "      <th>thalach</th>\n",
       "      <th>exang</th>\n",
       "      <th>oldpeak</th>\n",
       "      <th>slope</th>\n",
       "      <th>ca</th>\n",
       "      <th>thal</th>\n",
       "      <th>target</th>\n",
       "    </tr>\n",
       "  </thead>\n",
       "  <tbody>\n",
       "    <tr>\n",
       "      <th>0</th>\n",
       "      <td>63</td>\n",
       "      <td>1</td>\n",
       "      <td>3</td>\n",
       "      <td>145</td>\n",
       "      <td>233</td>\n",
       "      <td>1</td>\n",
       "      <td>0</td>\n",
       "      <td>150</td>\n",
       "      <td>0</td>\n",
       "      <td>2.3</td>\n",
       "      <td>0</td>\n",
       "      <td>0</td>\n",
       "      <td>1</td>\n",
       "      <td>1</td>\n",
       "    </tr>\n",
       "    <tr>\n",
       "      <th>1</th>\n",
       "      <td>37</td>\n",
       "      <td>1</td>\n",
       "      <td>2</td>\n",
       "      <td>130</td>\n",
       "      <td>250</td>\n",
       "      <td>0</td>\n",
       "      <td>1</td>\n",
       "      <td>187</td>\n",
       "      <td>0</td>\n",
       "      <td>3.5</td>\n",
       "      <td>0</td>\n",
       "      <td>0</td>\n",
       "      <td>2</td>\n",
       "      <td>1</td>\n",
       "    </tr>\n",
       "    <tr>\n",
       "      <th>2</th>\n",
       "      <td>41</td>\n",
       "      <td>0</td>\n",
       "      <td>1</td>\n",
       "      <td>130</td>\n",
       "      <td>204</td>\n",
       "      <td>0</td>\n",
       "      <td>0</td>\n",
       "      <td>172</td>\n",
       "      <td>0</td>\n",
       "      <td>1.4</td>\n",
       "      <td>2</td>\n",
       "      <td>0</td>\n",
       "      <td>2</td>\n",
       "      <td>1</td>\n",
       "    </tr>\n",
       "    <tr>\n",
       "      <th>3</th>\n",
       "      <td>56</td>\n",
       "      <td>1</td>\n",
       "      <td>1</td>\n",
       "      <td>120</td>\n",
       "      <td>236</td>\n",
       "      <td>0</td>\n",
       "      <td>1</td>\n",
       "      <td>178</td>\n",
       "      <td>0</td>\n",
       "      <td>0.8</td>\n",
       "      <td>2</td>\n",
       "      <td>0</td>\n",
       "      <td>2</td>\n",
       "      <td>1</td>\n",
       "    </tr>\n",
       "    <tr>\n",
       "      <th>4</th>\n",
       "      <td>57</td>\n",
       "      <td>0</td>\n",
       "      <td>0</td>\n",
       "      <td>120</td>\n",
       "      <td>354</td>\n",
       "      <td>0</td>\n",
       "      <td>1</td>\n",
       "      <td>163</td>\n",
       "      <td>1</td>\n",
       "      <td>0.6</td>\n",
       "      <td>2</td>\n",
       "      <td>0</td>\n",
       "      <td>2</td>\n",
       "      <td>1</td>\n",
       "    </tr>\n",
       "    <tr>\n",
       "      <th>5</th>\n",
       "      <td>57</td>\n",
       "      <td>1</td>\n",
       "      <td>0</td>\n",
       "      <td>140</td>\n",
       "      <td>192</td>\n",
       "      <td>0</td>\n",
       "      <td>1</td>\n",
       "      <td>148</td>\n",
       "      <td>0</td>\n",
       "      <td>0.4</td>\n",
       "      <td>1</td>\n",
       "      <td>0</td>\n",
       "      <td>1</td>\n",
       "      <td>1</td>\n",
       "    </tr>\n",
       "    <tr>\n",
       "      <th>6</th>\n",
       "      <td>56</td>\n",
       "      <td>0</td>\n",
       "      <td>1</td>\n",
       "      <td>140</td>\n",
       "      <td>294</td>\n",
       "      <td>0</td>\n",
       "      <td>0</td>\n",
       "      <td>153</td>\n",
       "      <td>0</td>\n",
       "      <td>1.3</td>\n",
       "      <td>1</td>\n",
       "      <td>0</td>\n",
       "      <td>2</td>\n",
       "      <td>1</td>\n",
       "    </tr>\n",
       "    <tr>\n",
       "      <th>7</th>\n",
       "      <td>44</td>\n",
       "      <td>1</td>\n",
       "      <td>1</td>\n",
       "      <td>120</td>\n",
       "      <td>263</td>\n",
       "      <td>0</td>\n",
       "      <td>1</td>\n",
       "      <td>173</td>\n",
       "      <td>0</td>\n",
       "      <td>0.0</td>\n",
       "      <td>2</td>\n",
       "      <td>0</td>\n",
       "      <td>3</td>\n",
       "      <td>1</td>\n",
       "    </tr>\n",
       "    <tr>\n",
       "      <th>8</th>\n",
       "      <td>52</td>\n",
       "      <td>1</td>\n",
       "      <td>2</td>\n",
       "      <td>172</td>\n",
       "      <td>199</td>\n",
       "      <td>1</td>\n",
       "      <td>1</td>\n",
       "      <td>162</td>\n",
       "      <td>0</td>\n",
       "      <td>0.5</td>\n",
       "      <td>2</td>\n",
       "      <td>0</td>\n",
       "      <td>3</td>\n",
       "      <td>1</td>\n",
       "    </tr>\n",
       "    <tr>\n",
       "      <th>9</th>\n",
       "      <td>57</td>\n",
       "      <td>1</td>\n",
       "      <td>2</td>\n",
       "      <td>150</td>\n",
       "      <td>168</td>\n",
       "      <td>0</td>\n",
       "      <td>1</td>\n",
       "      <td>174</td>\n",
       "      <td>0</td>\n",
       "      <td>1.6</td>\n",
       "      <td>2</td>\n",
       "      <td>0</td>\n",
       "      <td>2</td>\n",
       "      <td>1</td>\n",
       "    </tr>\n",
       "  </tbody>\n",
       "</table>\n",
       "</div>"
      ],
      "text/plain": [
       "   age  sex  cp  trestbps  chol  fbs  restecg  thalach  exang  oldpeak  slope  \\\n",
       "0   63    1   3       145   233    1        0      150      0      2.3      0   \n",
       "1   37    1   2       130   250    0        1      187      0      3.5      0   \n",
       "2   41    0   1       130   204    0        0      172      0      1.4      2   \n",
       "3   56    1   1       120   236    0        1      178      0      0.8      2   \n",
       "4   57    0   0       120   354    0        1      163      1      0.6      2   \n",
       "5   57    1   0       140   192    0        1      148      0      0.4      1   \n",
       "6   56    0   1       140   294    0        0      153      0      1.3      1   \n",
       "7   44    1   1       120   263    0        1      173      0      0.0      2   \n",
       "8   52    1   2       172   199    1        1      162      0      0.5      2   \n",
       "9   57    1   2       150   168    0        1      174      0      1.6      2   \n",
       "\n",
       "   ca  thal  target  \n",
       "0   0     1       1  \n",
       "1   0     2       1  \n",
       "2   0     2       1  \n",
       "3   0     2       1  \n",
       "4   0     2       1  \n",
       "5   0     1       1  \n",
       "6   0     2       1  \n",
       "7   0     3       1  \n",
       "8   0     3       1  \n",
       "9   0     2       1  "
      ]
     },
     "execution_count": 5,
     "metadata": {},
     "output_type": "execute_result"
    }
   ],
   "source": [
    "heart_df = pd.read_csv(DATA_PATH + fname, header = 'infer')\n",
    "heart_df.head(10)"
   ]
  },
  {
   "cell_type": "markdown",
   "metadata": {},
   "source": [
    "## The Data"
   ]
  },
  {
   "cell_type": "markdown",
   "metadata": {},
   "source": [
    "The date is a modified version of the [UCI Heart Disease dataset](http://archive.ics.uci.edu/ml/datasets/heart+disease), also known as the Cleveland Dataset.\n",
    "\n",
    "The `num` field refers to the presence of heart disease in the patient and is our **target** variable. It is derived from the `goal` variable in the original dataset, an integer valued from 0 (no presence) to 4. Experiments with the Cleveland database have concentrated on simply attempting to distinguish **presence** (values 1,2,3,4) from **absence** (value 0).\n",
    "\n",
    "**Attribute Information:**\n",
    "\n",
    "The 14 attributes used that make up this dataset: \n",
    "1. `age` : age in years \n",
    "2. `sex` : sex \n",
    "    * `1` : male\n",
    "    * `0` : female \n",
    "3. `cp` : chest pain type \n",
    "    * `0` : typical angina \n",
    "    * `1` : atypical angina \n",
    "    * `2` : non-anginal pain \n",
    "    * `3` : asymptomatic\n",
    "4. `trestbps` : resting blood pressure (in mm Hg on admission to the hospital) \n",
    "5. `chol` : serum cholestoral in mg/dl \n",
    "6. `fbs` : (fasting blood sugar > 120 mg/dl) \n",
    "    * `1` : true\n",
    "    * `0` : false\n",
    "7. `restecg` : resting electrocardiographic results \n",
    "    * `0` : normal \n",
    "    * `1` : having ST-T wave abnormality (T wave inversions and/or ST elevation or depression of > 0.05 mV) \n",
    "    * `2` : showing probable or definite left ventricular hypertrophy by Estes' criteria \n",
    "8. `thalach` : maximum heart rate achieved \n",
    "9. `exang` : exercise induced angina\n",
    "    * `1` : yes\n",
    "    * `0` : no\n",
    "10. `oldpeak` : ST depression induced by exercise relative to rest \n",
    "11. `slope` : the slope of the peak exercise ST segment \n",
    "    * `1` : upsloping \n",
    "    * `2` : flat \n",
    "    * `3` : downsloping\n",
    "12. `ca` : number of major vessels (0-3) colored by flourosopy \n",
    "13. `thal` : \n",
    "    * `3` : normal\n",
    "    * `6` : fixed defect\n",
    "    * `7` : reversable defect\n",
    "14. `target` (**target**) : diagnosis of heart disease (angiographic disease status) \n",
    "    * `0` : < 50% diameter narrowing \n",
    "    * `1` : > 50% diameter narrowing"
   ]
  },
  {
   "cell_type": "markdown",
   "metadata": {
    "colab_type": "text",
    "id": "j_BHbgXoP-DA"
   },
   "source": [
    "## Exploratory Data Analysis"
   ]
  },
  {
   "cell_type": "code",
   "execution_count": 6,
   "metadata": {
    "ExecuteTime": {
     "end_time": "2020-07-27T01:49:42.236387Z",
     "start_time": "2020-07-27T01:49:42.228386Z"
    },
    "colab": {
     "base_uri": "https://localhost:8080/",
     "height": 277
    },
    "colab_type": "code",
    "id": "fnFWZRo_OGSm",
    "outputId": "7b8a72a1-b79b-4f69-e13c-7b120643faf0"
   },
   "outputs": [
    {
     "data": {
      "text/plain": [
       "age           int64\n",
       "sex           int64\n",
       "cp            int64\n",
       "trestbps      int64\n",
       "chol          int64\n",
       "fbs           int64\n",
       "restecg       int64\n",
       "thalach       int64\n",
       "exang         int64\n",
       "oldpeak     float64\n",
       "slope         int64\n",
       "ca            int64\n",
       "thal          int64\n",
       "target        int64\n",
       "dtype: object"
      ]
     },
     "execution_count": 6,
     "metadata": {},
     "output_type": "execute_result"
    }
   ],
   "source": [
    "heart_df.dtypes"
   ]
  },
  {
   "cell_type": "markdown",
   "metadata": {},
   "source": [
    "While all of the 14 variables are encoded as numeric data, the following variables are categorical in nature : \n",
    " *  `sex`\n",
    " *  `cp`\n",
    " *  `fbs`\n",
    " *  `restecg`\n",
    " *  `exang`\n",
    " *  `slope`\n",
    " *  `thal`\n",
    " *  `target`"
   ]
  },
  {
   "cell_type": "code",
   "execution_count": 7,
   "metadata": {
    "ExecuteTime": {
     "end_time": "2020-07-27T01:49:42.293422Z",
     "start_time": "2020-07-27T01:49:42.284477Z"
    }
   },
   "outputs": [
    {
     "data": {
      "text/plain": [
       "1    165\n",
       "0    138\n",
       "Name: target, dtype: int64"
      ]
     },
     "execution_count": 7,
     "metadata": {},
     "output_type": "execute_result"
    }
   ],
   "source": [
    "heart_df['target'].value_counts()"
   ]
  },
  {
   "cell_type": "markdown",
   "metadata": {},
   "source": [
    "In our dataset, we have 303 examples, 165 (54%) show **presence** of heart disease. The dataset does show some slight imbalance in the class distribution (54/46) and we will take that into account when building our classification model."
   ]
  },
  {
   "cell_type": "markdown",
   "metadata": {},
   "source": [
    "Let us look at some plots to explore the visual relationships between the predictive features and the response. One way to get a better understanding of the data is to look at `age` and `sex` and ask the question, *What role do `age` and `sex` play in the prevalence of heart disease?*"
   ]
  },
  {
   "cell_type": "code",
   "execution_count": 8,
   "metadata": {
    "ExecuteTime": {
     "end_time": "2020-07-27T01:49:42.632420Z",
     "start_time": "2020-07-27T01:49:42.370418Z"
    }
   },
   "outputs": [
    {
     "data": {
      "text/plain": [
       "<seaborn.axisgrid.FacetGrid at 0x1caab6fc988>"
      ]
     },
     "execution_count": 8,
     "metadata": {},
     "output_type": "execute_result"
    },
    {
     "data": {
      "image/png": "[encoded data removed]",
      "text/plain": [
       "<Figure size 335.25x300 with 1 Axes>"
      ]
     },
     "metadata": {
      "needs_background": "light"
     },
     "output_type": "display_data"
    }
   ],
   "source": [
    "sns.catplot(x=\"target\", y=\"age\", hue=\"sex\", kind=\"swarm\", data=heart_df, palette=\"pastel\")"
   ]
  },
  {
   "cell_type": "markdown",
   "metadata": {},
   "source": [
    "The above graph is a categorical scatterplot which plots the `target` against `age` and `sex`. Since, this is a dataset where the majority class does have the disease, we can see that people who do have heart disease are well spread out across the `age` spectrum. `sex` on the other hand is a more interesting dimension. The minority class of people who do not have heart disease is dominated by men and has very few women (mostly women in their 50s or 60s), whereas the majority class has a more even spread. This may indicate that women may be more likely to have heart disease. We can explore that as follows : "
   ]
  },
  {
   "cell_type": "code",
   "execution_count": 9,
   "metadata": {
    "ExecuteTime": {
     "end_time": "2020-07-27T01:49:42.760421Z",
     "start_time": "2020-07-27T01:49:42.634405Z"
    }
   },
   "outputs": [
    {
     "data": {
      "text/plain": [
       "<matplotlib.axes._subplots.AxesSubplot at 0x1caabe99fc8>"
      ]
     },
     "execution_count": 9,
     "metadata": {},
     "output_type": "execute_result"
    },
    {
     "data": {
      "image/png": "[encoded data removed]",
      "text/plain": [
       "<Figure size 960x540 with 1 Axes>"
      ]
     },
     "metadata": {
      "needs_background": "light"
     },
     "output_type": "display_data"
    }
   ],
   "source": [
    "sns.countplot(x=\"sex\", data=heart_df, palette=\"pastel\")"
   ]
  },
  {
   "cell_type": "markdown",
   "metadata": {},
   "source": [
    "Our dataset is skewed from a gender perspective. Men outnumber women by a ratio of 2:1. Because there is such a high number of men, it is no surprise that on first glance, they dominate the sub-population of people who do not have the disease. Let's explore further."
   ]
  },
  {
   "cell_type": "code",
   "execution_count": 10,
   "metadata": {
    "ExecuteTime": {
     "end_time": "2020-07-27T01:49:42.938419Z",
     "start_time": "2020-07-27T01:49:42.762402Z"
    }
   },
   "outputs": [
    {
     "data": {
      "text/plain": [
       "<seaborn.axisgrid.FacetGrid at 0x1caabe724c8>"
      ]
     },
     "execution_count": 10,
     "metadata": {},
     "output_type": "execute_result"
    },
    {
     "data": {
      "image/png": "[encoded data removed]",
      "text/plain": [
       "<Figure size 300x300 with 1 Axes>"
      ]
     },
     "metadata": {
      "needs_background": "light"
     },
     "output_type": "display_data"
    }
   ],
   "source": [
    "sns.catplot(x=\"sex\", y=\"target\", kind=\"bar\", data=heart_df, palette=\"pastel\")"
   ]
  },
  {
   "cell_type": "markdown",
   "metadata": {},
   "source": [
    "As we can clearly see here, having `sex == 1` seems to imply a lower chance of having heart disease."
   ]
  },
  {
   "cell_type": "code",
   "execution_count": 11,
   "metadata": {
    "ExecuteTime": {
     "end_time": "2020-07-27T01:49:43.134422Z",
     "start_time": "2020-07-27T01:49:42.940418Z"
    },
    "scrolled": false
   },
   "outputs": [
    {
     "data": {
      "text/plain": [
       "<seaborn.axisgrid.FacetGrid at 0x1ca903cb2c8>"
      ]
     },
     "execution_count": 11,
     "metadata": {},
     "output_type": "execute_result"
    },
    {
     "data": {
      "image/png": "[encoded data removed]",
      "text/plain": [
       "<Figure size 335.25x300 with 1 Axes>"
      ]
     },
     "metadata": {
      "needs_background": "light"
     },
     "output_type": "display_data"
    }
   ],
   "source": [
    "sns.catplot(y=\"target\", hue=\"sex\", kind=\"count\",\n",
    "            palette=\"pastel\", edgecolor=\".6\",\n",
    "            data=heart_df)"
   ]
  },
  {
   "cell_type": "code",
   "execution_count": 12,
   "metadata": {
    "ExecuteTime": {
     "end_time": "2020-07-27T01:49:43.369386Z",
     "start_time": "2020-07-27T01:49:43.136419Z"
    }
   },
   "outputs": [
    {
     "data": {
      "text/plain": [
       "<seaborn.axisgrid.FacetGrid at 0x1caabfbc808>"
      ]
     },
     "execution_count": 12,
     "metadata": {},
     "output_type": "execute_result"
    },
    {
     "data": {
      "image/png": "[encoded data removed]",
      "text/plain": [
       "<Figure size 300x300 with 1 Axes>"
      ]
     },
     "metadata": {
      "needs_background": "light"
     },
     "output_type": "display_data"
    }
   ],
   "source": [
    "sns.catplot(x=\"sex\", y=\"target\", kind=\"point\", data=heart_df)"
   ]
  },
  {
   "cell_type": "markdown",
   "metadata": {},
   "source": [
    "The sub-population of people who do not have the disease (`target == 0`) is dominated by men. Interestingly, the sub-population of people who do have the disease is also dominated by men. As we have seen before, men outnumber women by 2:1 in this dataset. To have a fair comparison between the two sub-populations we must look at incidence rates of the disease in the 2 sub-populations."
   ]
  },
  {
   "cell_type": "code",
   "execution_count": 13,
   "metadata": {
    "ExecuteTime": {
     "end_time": "2020-07-27T01:49:43.386398Z",
     "start_time": "2020-07-27T01:49:43.371389Z"
    }
   },
   "outputs": [
    {
     "name": "stdout",
     "output_type": "stream",
     "text": [
      "Incidence :: Men -> 0.4492753623188406\n",
      "Incidence :: Women -> 0.75\n"
     ]
    }
   ],
   "source": [
    "df_men = heart_df[heart_df['sex'] == 1]\n",
    "print(\"Incidence :: Men ->\", df_men[df_men['target'] == 1].shape[0]/df_men.shape[0]) ## number of men with the disease/number of men\n",
    "df_women = heart_df[heart_df['sex'] == 0]\n",
    "print(\"Incidence :: Women ->\", df_women[df_women['target'] == 1].shape[0]/df_women.shape[0]) ## number of women with the disease/number of women"
   ]
  },
  {
   "cell_type": "markdown",
   "metadata": {},
   "source": [
    "The above snippet quite clearly shows that the Incidence of heart disease for women in our sample is higher than that for men. This may be because of **Bias** as women are under-represented in our data. The only solution to this problem is to have a more gender balanced dataset. Otherwise our machine will end up learning that 75% of women have heart disease, which is inherently incorrect. Such biases can reduce trust in critical diagnostic tools and must be rectified."
   ]
  },
  {
   "cell_type": "markdown",
   "metadata": {},
   "source": [
    "Let us explore the important features of **blood pressure** (`trestbps`), **cholesterol** (`chol`) and **blood sugar** (`fbs`) and see what impact they have on the absence or presence of heart disease. "
   ]
  },
  {
   "cell_type": "code",
   "execution_count": 14,
   "metadata": {
    "ExecuteTime": {
     "end_time": "2020-07-27T01:49:43.609421Z",
     "start_time": "2020-07-27T01:49:43.388389Z"
    }
   },
   "outputs": [
    {
     "data": {
      "text/plain": [
       "<matplotlib.axes._subplots.AxesSubplot at 0x1caac046308>"
      ]
     },
     "execution_count": 14,
     "metadata": {},
     "output_type": "execute_result"
    },
    {
     "data": {
      "image/png": "[encoded data removed]",
      "text/plain": [
       "<Figure size 960x540 with 1 Axes>"
      ]
     },
     "metadata": {
      "needs_background": "light"
     },
     "output_type": "display_data"
    }
   ],
   "source": [
    "sns.distplot(heart_df['trestbps'])"
   ]
  },
  {
   "cell_type": "markdown",
   "metadata": {},
   "source": [
    "At first glance, the blood pressure seems to be normally distributed, let us separate this out by `target`"
   ]
  },
  {
   "cell_type": "code",
   "execution_count": 15,
   "metadata": {
    "ExecuteTime": {
     "end_time": "2020-07-27T01:49:43.810420Z",
     "start_time": "2020-07-27T01:49:43.612410Z"
    }
   },
   "outputs": [
    {
     "data": {
      "text/plain": [
       "Text(0, 0.5, 'Density')"
      ]
     },
     "execution_count": 15,
     "metadata": {},
     "output_type": "execute_result"
    },
    {
     "data": {
      "image/png": "[encoded data removed]",
      "text/plain": [
       "<Figure size 960x540 with 1 Axes>"
      ]
     },
     "metadata": {
      "needs_background": "light"
     },
     "output_type": "display_data"
    }
   ],
   "source": [
    "## Without heart disease\n",
    "df_hd0 = heart_df[heart_df['target'] == 0]\n",
    "## With heart disease\n",
    "df_hd1 = heart_df[heart_df['target'] == 1]\n",
    "sns.distplot(df_hd0['trestbps'], hist=False, label = 'Without Heart Disease')\n",
    "sns.distplot(df_hd1['trestbps'], hist=False, label = 'With Heart Disease')\n",
    "plt.title('Blood Pressure vs Target')\n",
    "plt.xlabel('Blood Pressure (mm Hg)')\n",
    "plt.ylabel('Density')"
   ]
  },
  {
   "cell_type": "markdown",
   "metadata": {},
   "source": [
    "The blood pressure is not able to separate our target classes, in fact, people with higher levels of blood pressure, don't seem to have heart disease at all. Let us explore `chol` in a similar manner."
   ]
  },
  {
   "cell_type": "code",
   "execution_count": 16,
   "metadata": {
    "ExecuteTime": {
     "end_time": "2020-07-27T01:49:43.999419Z",
     "start_time": "2020-07-27T01:49:43.812389Z"
    }
   },
   "outputs": [
    {
     "data": {
      "text/plain": [
       "Text(0, 0.5, 'Density')"
      ]
     },
     "execution_count": 16,
     "metadata": {},
     "output_type": "execute_result"
    },
    {
     "data": {
      "image/png": "[encoded data removed]",
      "text/plain": [
       "<Figure size 960x540 with 1 Axes>"
      ]
     },
     "metadata": {
      "needs_background": "light"
     },
     "output_type": "display_data"
    }
   ],
   "source": [
    "sns.distplot(df_hd0['chol'], hist=False, label = 'Without Heart Disease')\n",
    "sns.distplot(df_hd1['chol'], hist=False, label = 'With Heart Disease')\n",
    "plt.title('Cholesterol vs Target')\n",
    "plt.xlabel('Cholesterol (mg/dl)')\n",
    "plt.ylabel('Density')"
   ]
  },
  {
   "cell_type": "markdown",
   "metadata": {},
   "source": [
    "For people with heart disease, the right hand side tail is much longer and even has a small peak, implying that higher cholesterol levels do play a role in heart disease."
   ]
  },
  {
   "cell_type": "markdown",
   "metadata": {},
   "source": [
    "Let us now explore the impact of blood sugar (`fbs`) on heart disease. Unlike `chol` and `trestbps`, `fbs` is categorical, with `< 120 mg/dl == 0` and `> 120 mg/dl == 1`. **120 mg/dl** is a well known cutoff, consistently having blood sugar higher than this cutoff implies a person is [diabetic](https://en.wikipedia.org/wiki/Type_2_diabetes#Diagnosis)."
   ]
  },
  {
   "cell_type": "code",
   "execution_count": 17,
   "metadata": {
    "ExecuteTime": {
     "end_time": "2020-07-27T01:49:44.225419Z",
     "start_time": "2020-07-27T01:49:44.000388Z"
    }
   },
   "outputs": [
    {
     "data": {
      "text/plain": [
       "<seaborn.axisgrid.FacetGrid at 0x1caac33ba88>"
      ]
     },
     "execution_count": 17,
     "metadata": {},
     "output_type": "execute_result"
    },
    {
     "data": {
      "image/png": "[encoded data removed]",
      "text/plain": [
       "<Figure size 335.25x300 with 1 Axes>"
      ]
     },
     "metadata": {
      "needs_background": "light"
     },
     "output_type": "display_data"
    }
   ],
   "source": [
    "sns.catplot(y=\"target\", hue=\"fbs\", kind=\"count\",\n",
    "            palette=\"pastel\", edgecolor=\".6\",\n",
    "            data=heart_df)"
   ]
  },
  {
   "cell_type": "markdown",
   "metadata": {},
   "source": [
    "Unfortunately, this plot doesn't help us differentiate whether being diabetic has any impact on the presence of heart disease, we will once again have to consider the incidence rates of both classes with respect to the presence of heart disease."
   ]
  },
  {
   "cell_type": "code",
   "execution_count": 18,
   "metadata": {
    "ExecuteTime": {
     "end_time": "2020-07-27T01:49:44.241419Z",
     "start_time": "2020-07-27T01:49:44.226385Z"
    }
   },
   "outputs": [
    {
     "name": "stdout",
     "output_type": "stream",
     "text": [
      "Incidence :: FBS 0 -> 0.5503875968992248\n",
      "Incidence :: FBS 1 -> 0.5111111111111111\n"
     ]
    }
   ],
   "source": [
    "df_fbs0 = heart_df[heart_df['fbs'] == 0]\n",
    "## number of people with fbs0 with the disease/number of people with fbs0\n",
    "print(\"Incidence :: FBS 0 ->\", df_fbs0[df_fbs0['target'] == 1].shape[0]/df_fbs0.shape[0])\n",
    "df_fbs1 = heart_df[heart_df['fbs'] == 1]\n",
    "## number of people with fbs1 with the disease/number of people with fbs1\n",
    "print(\"Incidence :: FBS 1 ->\", df_fbs1[df_fbs1['target'] == 1].shape[0]/df_fbs1.shape[0])"
   ]
  },
  {
   "cell_type": "markdown",
   "metadata": {},
   "source": [
    "The incidence rates for people with both classes of blood sugar is similar and around 50%, implying that `fbs` is not a large contributor to the presence of heart disease."
   ]
  },
  {
   "cell_type": "markdown",
   "metadata": {},
   "source": [
    "Let us similarly look at chest pain (`cp`) and `exang`, 2 more categorical variables related to angina (chest pain due to lack of blood flow to the heart)."
   ]
  },
  {
   "cell_type": "code",
   "execution_count": 19,
   "metadata": {
    "ExecuteTime": {
     "end_time": "2020-07-27T01:49:44.501422Z",
     "start_time": "2020-07-27T01:49:44.242390Z"
    }
   },
   "outputs": [
    {
     "data": {
      "text/plain": [
       "<seaborn.axisgrid.FacetGrid at 0x1caac6f3408>"
      ]
     },
     "execution_count": 19,
     "metadata": {},
     "output_type": "execute_result"
    },
    {
     "data": {
      "image/png": "[encoded data removed]",
      "text/plain": [
       "<Figure size 335.25x300 with 1 Axes>"
      ]
     },
     "metadata": {
      "needs_background": "light"
     },
     "output_type": "display_data"
    }
   ],
   "source": [
    "sns.catplot(y=\"target\", hue=\"cp\", kind=\"count\",\n",
    "            palette=\"pastel\", edgecolor=\".6\",\n",
    "            data=heart_df)"
   ]
  },
  {
   "cell_type": "markdown",
   "metadata": {},
   "source": [
    "Quite clearly, people who have chest pain of the types $1$, $2$ and $3$ have a greater likelihood of having heart disease than people who have chest pain of type $0$."
   ]
  },
  {
   "cell_type": "code",
   "execution_count": 20,
   "metadata": {
    "ExecuteTime": {
     "end_time": "2020-07-27T01:49:44.764405Z",
     "start_time": "2020-07-27T01:49:44.502386Z"
    }
   },
   "outputs": [
    {
     "data": {
      "text/plain": [
       "<seaborn.axisgrid.FacetGrid at 0x1caac76e308>"
      ]
     },
     "execution_count": 20,
     "metadata": {},
     "output_type": "execute_result"
    },
    {
     "data": {
      "image/png": "[encoded data removed]",
      "text/plain": [
       "<Figure size 300x300 with 1 Axes>"
      ]
     },
     "metadata": {
      "needs_background": "light"
     },
     "output_type": "display_data"
    }
   ],
   "source": [
    "sns.catplot(x=\"cp\", y=\"target\", kind=\"point\", data=heart_df)"
   ]
  },
  {
   "cell_type": "markdown",
   "metadata": {},
   "source": [
    "`cp` of type $3$ has a much wider 95% confidence interval than types $1$ and $2$, implying that chest pain of type $3$ is common in both target classes. Let us also explore the incidence rates."
   ]
  },
  {
   "cell_type": "code",
   "execution_count": 21,
   "metadata": {
    "ExecuteTime": {
     "end_time": "2020-07-27T01:49:44.809388Z",
     "start_time": "2020-07-27T01:49:44.765391Z"
    }
   },
   "outputs": [
    {
     "name": "stdout",
     "output_type": "stream",
     "text": [
      "Incidence :: Pain Type 3 -> 0.6956521739130435\n",
      "Incidence :: Pain Type 2 -> 0.7931034482758621\n",
      "Incidence :: Pain Type 1 -> 0.82\n",
      "Incidence :: Pain Type 0 -> 0.2727272727272727\n"
     ]
    }
   ],
   "source": [
    "pain_types = heart_df['cp'].unique()\n",
    "for pain in pain_types:\n",
    "    subset = heart_df[heart_df['cp'] == pain]\n",
    "    incidence = subset[subset['target'] == 1].shape[0]/subset.shape[0]\n",
    "    print(\"Incidence :: Pain Type\", pain, \"->\", incidence)"
   ]
  },
  {
   "cell_type": "markdown",
   "metadata": {},
   "source": [
    "Quite clearly, the majority of people who report chest pain of types $1$, $2$ and $3$ have heart disease. This is an important feature in diagnosing the presence of heart disease."
   ]
  },
  {
   "cell_type": "code",
   "execution_count": 22,
   "metadata": {
    "ExecuteTime": {
     "end_time": "2020-07-27T01:49:45.034419Z",
     "start_time": "2020-07-27T01:49:44.811386Z"
    }
   },
   "outputs": [
    {
     "data": {
      "text/plain": [
       "<seaborn.axisgrid.FacetGrid at 0x1caac7c99c8>"
      ]
     },
     "execution_count": 22,
     "metadata": {},
     "output_type": "execute_result"
    },
    {
     "data": {
      "image/png": "[encoded data removed]",
      "text/plain": [
       "<Figure size 335.25x300 with 1 Axes>"
      ]
     },
     "metadata": {
      "needs_background": "light"
     },
     "output_type": "display_data"
    }
   ],
   "source": [
    "sns.catplot(y=\"target\", hue=\"exang\", kind=\"count\",\n",
    "            palette=\"pastel\", edgecolor=\".6\",\n",
    "            data=heart_df)"
   ]
  },
  {
   "cell_type": "markdown",
   "metadata": {},
   "source": [
    "People who report `exang` of type $1$ are much more likely to have heart disease than people who report `exang` of type $0$. In fact, let us look at the incidence rates to see which `exang` has a greater proportion of heart disease."
   ]
  },
  {
   "cell_type": "code",
   "execution_count": 23,
   "metadata": {
    "ExecuteTime": {
     "end_time": "2020-07-27T01:49:45.057392Z",
     "start_time": "2020-07-27T01:49:45.035389Z"
    }
   },
   "outputs": [
    {
     "name": "stdout",
     "output_type": "stream",
     "text": [
      "Incidence :: Exang Type 0 -> 0.696078431372549\n",
      "Incidence :: Exang Type 1 -> 0.23232323232323232\n"
     ]
    }
   ],
   "source": [
    "exang_types = heart_df['exang'].unique()\n",
    "for exang in exang_types:\n",
    "    subset = heart_df[heart_df['exang'] == exang]\n",
    "    incidence = subset[subset['target'] == 1].shape[0]/subset.shape[0]\n",
    "    print(\"Incidence :: Exang Type\", exang, \"->\", incidence)"
   ]
  },
  {
   "cell_type": "markdown",
   "metadata": {},
   "source": [
    "Almost $70$% of people reporting `exang == 1` have heart disease in contrast to `exang == 0` where $23$% of people have heart disease."
   ]
  },
  {
   "cell_type": "markdown",
   "metadata": {},
   "source": [
    "Let's now explore ECG results (`restecg`) and heart rate (`thalach`)"
   ]
  },
  {
   "cell_type": "code",
   "execution_count": 24,
   "metadata": {
    "ExecuteTime": {
     "end_time": "2020-07-27T01:49:45.266420Z",
     "start_time": "2020-07-27T01:49:45.060393Z"
    }
   },
   "outputs": [
    {
     "data": {
      "text/plain": [
       "Text(0, 0.5, 'Density')"
      ]
     },
     "execution_count": 24,
     "metadata": {},
     "output_type": "execute_result"
    },
    {
     "data": {
      "image/png": "[encoded data removed]",
      "text/plain": [
       "<Figure size 960x540 with 1 Axes>"
      ]
     },
     "metadata": {
      "needs_background": "light"
     },
     "output_type": "display_data"
    }
   ],
   "source": [
    "sns.distplot(df_hd0['thalach'], hist=False, label = 'Without Heart Disease')\n",
    "sns.distplot(df_hd1['thalach'], hist=False, label = 'With Heart Disease')\n",
    "plt.title('Heart Rate vs Target')\n",
    "plt.xlabel('Heart Rate')\n",
    "plt.ylabel('Density')"
   ]
  },
  {
   "cell_type": "markdown",
   "metadata": {},
   "source": [
    "It is quite obvious from the plot here that having a higher heart rate indicates a higher likelihood of having heart disease. At lower heart rates, the likelihood of not having heart disease is higher, whereas at higher heart rates, the likelihood of having heart disease is higher. This is an important feature in diagnosing the presence of heart disease."
   ]
  },
  {
   "cell_type": "code",
   "execution_count": 25,
   "metadata": {
    "ExecuteTime": {
     "end_time": "2020-07-27T01:49:45.502413Z",
     "start_time": "2020-07-27T01:49:45.269410Z"
    }
   },
   "outputs": [
    {
     "data": {
      "text/plain": [
       "<seaborn.axisgrid.FacetGrid at 0x1caada00bc8>"
      ]
     },
     "execution_count": 25,
     "metadata": {},
     "output_type": "execute_result"
    },
    {
     "data": {
      "image/png": "[encoded data removed]",
      "text/plain": [
       "<Figure size 338.167x300 with 1 Axes>"
      ]
     },
     "metadata": {
      "needs_background": "light"
     },
     "output_type": "display_data"
    }
   ],
   "source": [
    "sns.catplot(y=\"target\", hue=\"restecg\", kind=\"count\",\n",
    "            palette=\"pastel\", edgecolor=\".6\",\n",
    "            data=heart_df)"
   ]
  },
  {
   "cell_type": "markdown",
   "metadata": {},
   "source": [
    "The incidence of heart disease amongst people who report `restecg == 1` seems to be higher than those subpopulations reporting other ecg types. Let's confirm this - "
   ]
  },
  {
   "cell_type": "code",
   "execution_count": 26,
   "metadata": {
    "ExecuteTime": {
     "end_time": "2020-07-27T01:49:45.538389Z",
     "start_time": "2020-07-27T01:49:45.504389Z"
    }
   },
   "outputs": [
    {
     "name": "stdout",
     "output_type": "stream",
     "text": [
      "Incidence :: ECG Type 0 -> 0.46258503401360546\n",
      "Incidence :: ECG Type 1 -> 0.631578947368421\n",
      "Incidence :: ECG Type 2 -> 0.25\n"
     ]
    }
   ],
   "source": [
    "ecg_types = heart_df['restecg'].unique()\n",
    "for ecg in ecg_types:\n",
    "    subset = heart_df[heart_df['restecg'] == ecg]\n",
    "    incidence = subset[subset['target'] == 1].shape[0]/subset.shape[0]\n",
    "    print(\"Incidence :: ECG Type\", ecg, \"->\", incidence)"
   ]
  },
  {
   "cell_type": "markdown",
   "metadata": {},
   "source": [
    "Let's look at `slope` and `thal`, the other categorical variables."
   ]
  },
  {
   "cell_type": "code",
   "execution_count": 27,
   "metadata": {
    "ExecuteTime": {
     "end_time": "2020-07-27T01:49:45.752426Z",
     "start_time": "2020-07-27T01:49:45.542392Z"
    }
   },
   "outputs": [
    {
     "data": {
      "text/plain": [
       "<seaborn.axisgrid.FacetGrid at 0x1caadc841c8>"
      ]
     },
     "execution_count": 27,
     "metadata": {},
     "output_type": "execute_result"
    },
    {
     "data": {
      "image/png": "[encoded data removed]",
      "text/plain": [
       "<Figure size 335.25x300 with 1 Axes>"
      ]
     },
     "metadata": {
      "needs_background": "light"
     },
     "output_type": "display_data"
    }
   ],
   "source": [
    "sns.catplot(y=\"target\", hue=\"slope\", kind=\"count\",\n",
    "            palette=\"pastel\", edgecolor=\".6\",\n",
    "            data=heart_df)"
   ]
  },
  {
   "cell_type": "markdown",
   "metadata": {},
   "source": [
    "Quite clearly, `slope` of type $2$, is more prevalent among the sub-population of people who do have heart disease. Similarly, `slope` of type $1$ is more prevalent among the sub-population of people who do not have heart disease."
   ]
  },
  {
   "cell_type": "code",
   "execution_count": 28,
   "metadata": {
    "ExecuteTime": {
     "end_time": "2020-07-27T01:49:45.784421Z",
     "start_time": "2020-07-27T01:49:45.754393Z"
    }
   },
   "outputs": [
    {
     "name": "stdout",
     "output_type": "stream",
     "text": [
      "Incidence :: Slope Type 0 -> 0.42857142857142855\n",
      "Incidence :: Slope Type 2 -> 0.7535211267605634\n",
      "Incidence :: Slope Type 1 -> 0.35\n"
     ]
    }
   ],
   "source": [
    "slope_types = heart_df['slope'].unique()\n",
    "for slope in slope_types:\n",
    "    subset = heart_df[heart_df['slope'] == slope]\n",
    "    incidence = subset[subset['target'] == 1].shape[0]/subset.shape[0]\n",
    "    print(\"Incidence :: Slope Type\", slope, \"->\", incidence)"
   ]
  },
  {
   "cell_type": "code",
   "execution_count": 29,
   "metadata": {
    "ExecuteTime": {
     "end_time": "2020-07-27T01:49:46.037390Z",
     "start_time": "2020-07-27T01:49:45.786396Z"
    }
   },
   "outputs": [
    {
     "data": {
      "text/plain": [
       "<seaborn.axisgrid.FacetGrid at 0x1caada69708>"
      ]
     },
     "execution_count": 29,
     "metadata": {},
     "output_type": "execute_result"
    },
    {
     "data": {
      "image/png": "[encoded data removed]",
      "text/plain": [
       "<Figure size 335.25x300 with 1 Axes>"
      ]
     },
     "metadata": {
      "needs_background": "light"
     },
     "output_type": "display_data"
    }
   ],
   "source": [
    "sns.catplot(y=\"target\", hue=\"thal\", kind=\"count\",\n",
    "            palette=\"pastel\", edgecolor=\".6\",\n",
    "            data=heart_df)"
   ]
  },
  {
   "cell_type": "markdown",
   "metadata": {},
   "source": [
    "Quite clearly, `thal` of type $2$, is more prevalent among the sub-population of people who do have heart disease. Similarly, `thal` of type $3$ is more prevalent among the sub-population of people who do not have heart disease."
   ]
  },
  {
   "cell_type": "code",
   "execution_count": 30,
   "metadata": {
    "ExecuteTime": {
     "end_time": "2020-07-27T01:49:46.084393Z",
     "start_time": "2020-07-27T01:49:46.043386Z"
    }
   },
   "outputs": [
    {
     "name": "stdout",
     "output_type": "stream",
     "text": [
      "Incidence :: Thal Type 1 -> 0.3333333333333333\n",
      "Incidence :: Thal Type 2 -> 0.7831325301204819\n",
      "Incidence :: Thal Type 3 -> 0.23931623931623933\n",
      "Incidence :: Thal Type 0 -> 0.5\n"
     ]
    }
   ],
   "source": [
    "thal_types = heart_df['thal'].unique()\n",
    "for thal in thal_types:\n",
    "    subset = heart_df[heart_df['thal'] == thal]\n",
    "    incidence = subset[subset['target'] == 1].shape[0]/subset.shape[0]\n",
    "    print(\"Incidence :: Thal Type\", thal, \"->\", incidence)"
   ]
  },
  {
   "cell_type": "markdown",
   "metadata": {},
   "source": [
    "Lastly, let's examine `oldpeak` and `ca`, 2 continuous variables."
   ]
  },
  {
   "cell_type": "code",
   "execution_count": 31,
   "metadata": {
    "ExecuteTime": {
     "end_time": "2020-07-27T01:49:46.346431Z",
     "start_time": "2020-07-27T01:49:46.088392Z"
    }
   },
   "outputs": [
    {
     "data": {
      "text/plain": [
       "Text(0, 0.5, 'Density')"
      ]
     },
     "execution_count": 31,
     "metadata": {},
     "output_type": "execute_result"
    },
    {
     "data": {
      "image/png": "[encoded data removed]",
      "text/plain": [
       "<Figure size 960x540 with 1 Axes>"
      ]
     },
     "metadata": {
      "needs_background": "light"
     },
     "output_type": "display_data"
    }
   ],
   "source": [
    "sns.distplot(df_hd0['oldpeak'], hist=False, label = 'Without Heart Disease')\n",
    "sns.distplot(df_hd1['oldpeak'], hist=False, label = 'With Heart Disease')\n",
    "plt.title('oldpeak vs Target')\n",
    "plt.xlabel('oldpeak')\n",
    "plt.ylabel('Density')"
   ]
  },
  {
   "cell_type": "code",
   "execution_count": 32,
   "metadata": {
    "ExecuteTime": {
     "end_time": "2020-07-27T01:49:46.604391Z",
     "start_time": "2020-07-27T01:49:46.348389Z"
    }
   },
   "outputs": [
    {
     "data": {
      "text/plain": [
       "<seaborn.axisgrid.FacetGrid at 0x1caabfbcec8>"
      ]
     },
     "execution_count": 32,
     "metadata": {},
     "output_type": "execute_result"
    },
    {
     "data": {
      "image/png": "[encoded data removed]",
      "text/plain": [
       "<Figure size 335.25x300 with 1 Axes>"
      ]
     },
     "metadata": {
      "needs_background": "light"
     },
     "output_type": "display_data"
    }
   ],
   "source": [
    "sns.catplot(y=\"target\", hue=\"ca\", kind=\"count\",\n",
    "            palette=\"pastel\", edgecolor=\".6\",\n",
    "            data=heart_df)"
   ]
  },
  {
   "cell_type": "code",
   "execution_count": 33,
   "metadata": {
    "ExecuteTime": {
     "end_time": "2020-07-27T01:49:46.650393Z",
     "start_time": "2020-07-27T01:49:46.606393Z"
    }
   },
   "outputs": [
    {
     "name": "stdout",
     "output_type": "stream",
     "text": [
      "Incidence :: Number of Colored Arteries 0 -> 0.7428571428571429\n",
      "Incidence :: Number of Colored Arteries 2 -> 0.18421052631578946\n",
      "Incidence :: Number of Colored Arteries 1 -> 0.3230769230769231\n",
      "Incidence :: Number of Colored Arteries 3 -> 0.15\n",
      "Incidence :: Number of Colored Arteries 4 -> 0.8\n"
     ]
    }
   ],
   "source": [
    "ca_types = heart_df['ca'].unique()\n",
    "for ca in ca_types:\n",
    "    subset = heart_df[heart_df['ca'] == ca]\n",
    "    incidence = subset[subset['target'] == 1].shape[0]/subset.shape[0]\n",
    "    print(\"Incidence :: Number of Colored Arteries\", ca, \"->\", incidence)"
   ]
  },
  {
   "cell_type": "markdown",
   "metadata": {},
   "source": [
    "## Data Pre-Processing"
   ]
  },
  {
   "cell_type": "markdown",
   "metadata": {},
   "source": [
    "### Handling Missing Data"
   ]
  },
  {
   "cell_type": "code",
   "execution_count": 34,
   "metadata": {
    "ExecuteTime": {
     "end_time": "2020-07-27T01:49:47.061386Z",
     "start_time": "2020-07-27T01:49:46.653389Z"
    }
   },
   "outputs": [
    {
     "data": {
      "text/plain": [
       "<matplotlib.axes._subplots.AxesSubplot at 0x1caade6bc48>"
      ]
     },
     "execution_count": 34,
     "metadata": {},
     "output_type": "execute_result"
    },
    {
     "data": {
      "image/png": "[encoded data removed]",
      "text/plain": [
       "<Figure size 1500x600 with 2 Axes>"
      ]
     },
     "metadata": {
      "needs_background": "light"
     },
     "output_type": "display_data"
    }
   ],
   "source": [
    "import missingno as msno\n",
    "msno.matrix(heart_df)"
   ]
  },
  {
   "cell_type": "markdown",
   "metadata": {
    "colab_type": "text",
    "id": "s09LqoNXZHEn"
   },
   "source": [
    "Our dataset does not have any missing values, we do not have to handle missing data. We have some categorical variables, but since they are already encoded as numeric, we simply need to create dummy variables from them. Specifically dummy variables for these categorical variables - \n",
    " *  `sex`\n",
    " *  `cp`\n",
    " *  `fbs`\n",
    " *  `restecg`\n",
    " *  `exang`\n",
    " *  `slope`\n",
    " *  `thal`\n",
    " *  `target`\n",
    " \n",
    " `ca` is not a categorical variable since it contains number of colored arteries, it simply has a small range (0-3)"
   ]
  },
  {
   "cell_type": "markdown",
   "metadata": {},
   "source": [
    "### X and y split"
   ]
  },
  {
   "cell_type": "code",
   "execution_count": 35,
   "metadata": {
    "ExecuteTime": {
     "end_time": "2020-07-27T01:49:47.069388Z",
     "start_time": "2020-07-27T01:49:47.063386Z"
    },
    "colab": {},
    "colab_type": "code",
    "id": "l1Oq9fPkVJdt"
   },
   "outputs": [],
   "source": [
    "X = heart_df.iloc[:, :-1]\n",
    "y = heart_df.iloc[:, -1].values"
   ]
  },
  {
   "cell_type": "markdown",
   "metadata": {},
   "source": [
    "### Creating Dummy Variables"
   ]
  },
  {
   "cell_type": "code",
   "execution_count": 36,
   "metadata": {
    "ExecuteTime": {
     "end_time": "2020-07-27T01:49:47.092389Z",
     "start_time": "2020-07-27T01:49:47.071387Z"
    }
   },
   "outputs": [
    {
     "data": {
      "text/plain": [
       "Index(['age', 'trestbps', 'chol', 'thalach', 'oldpeak', 'ca', 'sex_0', 'sex_1',\n",
       "       'cp_0', 'cp_1', 'cp_2', 'cp_3', 'fbs_0', 'fbs_1', 'restecg_0',\n",
       "       'restecg_1', 'restecg_2', 'exang_0', 'exang_1', 'slope_0', 'slope_1',\n",
       "       'slope_2', 'thal_0', 'thal_1', 'thal_2', 'thal_3'],\n",
       "      dtype='object')"
      ]
     },
     "execution_count": 36,
     "metadata": {},
     "output_type": "execute_result"
    }
   ],
   "source": [
    "categorical = ['sex', 'cp', 'fbs', 'restecg', 'exang', 'slope', 'thal']\n",
    "X_new = pd.get_dummies(data=X,columns=categorical)\n",
    "X_new.columns"
   ]
  },
  {
   "cell_type": "markdown",
   "metadata": {},
   "source": [
    "### Train-Test split"
   ]
  },
  {
   "cell_type": "code",
   "execution_count": 37,
   "metadata": {
    "ExecuteTime": {
     "end_time": "2020-07-27T01:49:47.102388Z",
     "start_time": "2020-07-27T01:49:47.095388Z"
    },
    "colab": {},
    "colab_type": "code",
    "id": "k_5Ju1WvX8FD"
   },
   "outputs": [],
   "source": [
    "X_train, X_test, y_train, y_test = train_test_split(X_new.values, y, \n",
    "                                                    test_size = 0.25, random_state = 0)"
   ]
  },
  {
   "cell_type": "code",
   "execution_count": 38,
   "metadata": {
    "ExecuteTime": {
     "end_time": "2020-07-27T01:49:47.110389Z",
     "start_time": "2020-07-27T01:49:47.104388Z"
    },
    "colab": {
     "base_uri": "https://localhost:8080/",
     "height": 34
    },
    "colab_type": "code",
    "id": "rpSS6Y0JaUBB",
    "outputId": "c9f8c48a-2d5b-4f5a-9b01-683ff50d5193"
   },
   "outputs": [
    {
     "name": "stdout",
     "output_type": "stream",
     "text": [
      "(227, 26)\n"
     ]
    }
   ],
   "source": [
    "print(X_train.shape)"
   ]
  },
  {
   "cell_type": "code",
   "execution_count": 39,
   "metadata": {
    "ExecuteTime": {
     "end_time": "2020-07-27T01:49:47.117403Z",
     "start_time": "2020-07-27T01:49:47.112387Z"
    },
    "colab": {
     "base_uri": "https://localhost:8080/",
     "height": 34
    },
    "colab_type": "code",
    "id": "PgG02yPUaWfx",
    "outputId": "141a8222-82ab-4042-8a32-bc9160dc6626"
   },
   "outputs": [
    {
     "name": "stdout",
     "output_type": "stream",
     "text": [
      "(227,)\n"
     ]
    }
   ],
   "source": [
    "print(y_train.shape)"
   ]
  },
  {
   "cell_type": "markdown",
   "metadata": {},
   "source": [
    "### Feature Scaling"
   ]
  },
  {
   "cell_type": "code",
   "execution_count": 40,
   "metadata": {
    "ExecuteTime": {
     "end_time": "2020-07-27T01:49:47.127389Z",
     "start_time": "2020-07-27T01:49:47.120389Z"
    },
    "colab": {},
    "colab_type": "code",
    "id": "owrQHVe0YRgg"
   },
   "outputs": [],
   "source": [
    "sc = StandardScaler()\n",
    "X_train = sc.fit_transform(X_train)\n",
    "X_test = sc.transform(X_test)"
   ]
  },
  {
   "cell_type": "code",
   "execution_count": 41,
   "metadata": {
    "ExecuteTime": {
     "end_time": "2020-07-27T01:49:47.136389Z",
     "start_time": "2020-07-27T01:49:47.130389Z"
    },
    "colab": {
     "base_uri": "https://localhost:8080/",
     "height": 34
    },
    "colab_type": "code",
    "id": "wKd06KVoaCqI",
    "outputId": "1e93eccc-1a45-4f92-eb8e-9638d4209c2b"
   },
   "outputs": [
    {
     "name": "stdout",
     "output_type": "stream",
     "text": [
      "(227, 26)\n"
     ]
    }
   ],
   "source": [
    "print(X_train.shape)"
   ]
  },
  {
   "cell_type": "code",
   "execution_count": 42,
   "metadata": {
    "ExecuteTime": {
     "end_time": "2020-07-27T01:49:47.146387Z",
     "start_time": "2020-07-27T01:49:47.138387Z"
    },
    "colab": {
     "base_uri": "https://localhost:8080/",
     "height": 34
    },
    "colab_type": "code",
    "id": "i7AokPx9aa3h",
    "outputId": "8a67bc10-e6cb-4b06-a35a-e48670a9abf4"
   },
   "outputs": [
    {
     "name": "stdout",
     "output_type": "stream",
     "text": [
      "(76, 26)\n"
     ]
    }
   ],
   "source": [
    "print(X_test.shape)"
   ]
  },
  {
   "cell_type": "markdown",
   "metadata": {
    "colab_type": "text",
    "id": "BMbhrT7IbHgg"
   },
   "source": [
    "## Fitting the Logistic Regression Model"
   ]
  },
  {
   "cell_type": "code",
   "execution_count": 43,
   "metadata": {
    "ExecuteTime": {
     "end_time": "2020-07-27T01:49:47.152388Z",
     "start_time": "2020-07-27T01:49:47.148387Z"
    },
    "colab": {},
    "colab_type": "code",
    "id": "FKd6I6lVbGs0"
   },
   "outputs": [],
   "source": [
    "from sklearn.linear_model import LogisticRegression"
   ]
  },
  {
   "cell_type": "code",
   "execution_count": 44,
   "metadata": {
    "ExecuteTime": {
     "end_time": "2020-07-27T01:49:47.172388Z",
     "start_time": "2020-07-27T01:49:47.154389Z"
    },
    "colab": {
     "base_uri": "https://localhost:8080/",
     "height": 103
    },
    "colab_type": "code",
    "id": "AYFee7SFb13j",
    "outputId": "7c9fdeb2-0714-4539-928a-b952e2993ae4"
   },
   "outputs": [
    {
     "data": {
      "text/plain": [
       "LogisticRegression(C=1.0, class_weight=None, dual=False, fit_intercept=True,\n",
       "                   intercept_scaling=1, l1_ratio=None, max_iter=100,\n",
       "                   multi_class='auto', n_jobs=None, penalty='l2',\n",
       "                   random_state=0, solver='lbfgs', tol=0.0001, verbose=0,\n",
       "                   warm_start=False)"
      ]
     },
     "execution_count": 44,
     "metadata": {},
     "output_type": "execute_result"
    }
   ],
   "source": [
    "# log_reg = LogisticRegression(random_state=0, class_weight = {0:.45, 1:.55}) ## With class_weights\n",
    "log_reg = LogisticRegression(random_state=0) ## Without class_weights\n",
    "log_reg.fit(X_train, y_train)"
   ]
  },
  {
   "cell_type": "code",
   "execution_count": 45,
   "metadata": {
    "ExecuteTime": {
     "end_time": "2020-07-27T01:49:47.182390Z",
     "start_time": "2020-07-27T01:49:47.174385Z"
    },
    "colab": {
     "base_uri": "https://localhost:8080/",
     "height": 86
    },
    "colab_type": "code",
    "id": "hoFgpKa0cz2A",
    "outputId": "5af0e391-6827-499f-c4b3-d7c11047084a"
   },
   "outputs": [
    {
     "data": {
      "text/plain": [
       "array([0, 1, 1, 0, 0, 0, 0, 0, 0, 0, 1, 1, 0, 1, 1, 1, 0, 1, 0, 1, 1, 0,\n",
       "       0, 0, 1, 1, 0, 0, 1, 1, 1, 0, 1, 1, 1, 1, 0, 1, 0, 0, 1, 1, 1, 0,\n",
       "       1, 1, 1, 1, 0, 1, 1, 1, 1, 1, 1, 0, 1, 1, 1, 1, 1, 1, 1, 1, 1, 1,\n",
       "       1, 0, 1, 1, 0, 1, 1, 0, 0, 1], dtype=int64)"
      ]
     },
     "execution_count": 45,
     "metadata": {},
     "output_type": "execute_result"
    }
   ],
   "source": [
    "y_pred = log_reg.predict(X_test)\n",
    "y_pred"
   ]
  },
  {
   "cell_type": "code",
   "execution_count": 46,
   "metadata": {
    "ExecuteTime": {
     "end_time": "2020-07-27T01:49:47.190392Z",
     "start_time": "2020-07-27T01:49:47.184387Z"
    },
    "colab": {
     "base_uri": "https://localhost:8080/",
     "height": 86
    },
    "colab_type": "code",
    "id": "-5PHjX9XdQTa",
    "outputId": "b1fd527c-14d2-4e92-f7e0-c342e8a3fda7"
   },
   "outputs": [
    {
     "data": {
      "text/plain": [
       "array([0, 1, 0, 0, 1, 0, 0, 0, 0, 0, 1, 1, 0, 1, 1, 1, 1, 1, 0, 1, 1, 0,\n",
       "       0, 0, 1, 0, 0, 0, 1, 1, 0, 0, 1, 1, 1, 0, 0, 1, 0, 0, 1, 1, 1, 0,\n",
       "       1, 1, 1, 0, 0, 1, 1, 1, 1, 1, 1, 0, 1, 0, 1, 1, 1, 1, 1, 1, 0, 0,\n",
       "       0, 0, 1, 1, 1, 1, 1, 0, 0, 1], dtype=int64)"
      ]
     },
     "execution_count": 46,
     "metadata": {},
     "output_type": "execute_result"
    }
   ],
   "source": [
    "y_test"
   ]
  },
  {
   "cell_type": "code",
   "execution_count": 47,
   "metadata": {
    "ExecuteTime": {
     "end_time": "2020-07-27T01:49:47.200387Z",
     "start_time": "2020-07-27T01:49:47.193385Z"
    },
    "colab": {
     "base_uri": "https://localhost:8080/",
     "height": 1000
    },
    "colab_type": "code",
    "id": "Z6ItWFomdhBI",
    "outputId": "32ce4b40-b889-4867-942d-e02fb21616db"
   },
   "outputs": [
    {
     "data": {
      "text/plain": [
       "array([0.88419576, 0.38680723, 0.42243141, 0.98276932, 0.90736915,\n",
       "       0.78968658, 0.93476485, 0.93931401, 0.98682999, 0.99668466,\n",
       "       0.24471001, 0.04742966, 0.97655119, 0.09644065, 0.01937427,\n",
       "       0.16644748, 0.95524485, 0.21075453, 0.99189327, 0.15615478,\n",
       "       0.17612554, 0.80312312, 0.9103221 , 0.80202424, 0.0711203 ,\n",
       "       0.3765025 , 0.87364685, 0.74248521, 0.0130135 , 0.18525083,\n",
       "       0.23598468, 0.99243598, 0.01832016, 0.27489053, 0.04601329,\n",
       "       0.22067615, 0.93946693, 0.12450654, 0.89675846, 0.62740972,\n",
       "       0.47539358, 0.15975275, 0.48893356, 0.89443583, 0.32958441,\n",
       "       0.15055949, 0.15717813, 0.49125228, 0.97096481, 0.23881528,\n",
       "       0.10164885, 0.12800336, 0.01339463, 0.24190022, 0.00279708,\n",
       "       0.90397005, 0.03255321, 0.05103797, 0.11640487, 0.01906236,\n",
       "       0.18436822, 0.00940385, 0.05306107, 0.0639139 , 0.12349836,\n",
       "       0.21631871, 0.16508628, 0.90375805, 0.2045391 , 0.35165595,\n",
       "       0.71791563, 0.04206392, 0.05274941, 0.97398104, 0.94848017,\n",
       "       0.05161078])"
      ]
     },
     "execution_count": 47,
     "metadata": {},
     "output_type": "execute_result"
    }
   ],
   "source": [
    "predicted_probabilities = log_reg.predict_proba(X_test)\n",
    "predicted_probabilities[:, 0] ## Probability of having target == 1"
   ]
  },
  {
   "cell_type": "code",
   "execution_count": 48,
   "metadata": {
    "ExecuteTime": {
     "end_time": "2020-07-27T01:49:47.231391Z",
     "start_time": "2020-07-27T01:49:47.202389Z"
    },
    "colab": {
     "base_uri": "https://localhost:8080/",
     "height": 138
    },
    "colab_type": "code",
    "id": "121wwscAdrOt",
    "outputId": "3f3ac019-96e6-4621-ee67-bd638080439a"
   },
   "outputs": [
    {
     "name": "stdout",
     "output_type": "stream",
     "text": [
      "CONFUSION MATRIX \n",
      " [[24  9]\n",
      " [ 3 40]]\n",
      "ACCURACY : 0.84\n",
      "PRECISION : 0.82\n",
      "RECALL : 0.93\n",
      "AUC :  0.83\n"
     ]
    }
   ],
   "source": [
    "from sklearn.metrics import confusion_matrix, accuracy_score, precision_score, recall_score, roc_curve, auc\n",
    "cm = confusion_matrix(y_test, y_pred, labels=[0, 1])\n",
    "print(\"CONFUSION MATRIX \\n\", cm)\n",
    "acc = accuracy_score(y_test, y_pred)\n",
    "print(\"ACCURACY :\", round(acc, 2))\n",
    "precision = precision_score(y_test, y_pred)\n",
    "print(\"PRECISION :\", round(precision, 2))\n",
    "recall = recall_score(y_test, y_pred)\n",
    "print(\"RECALL :\", round(recall, 2))\n",
    "fpr, tpr, thresh = roc_curve(y_test, y_pred)\n",
    "auc_score = auc(fpr, tpr)\n",
    "print(\"AUC : \", round(auc_score, 2))"
   ]
  },
  {
   "cell_type": "markdown",
   "metadata": {
    "colab_type": "text",
    "id": "8CLTSuJigHUS"
   },
   "source": [
    "Our logistic regression model, performs quite well on this test dataset. As we are diagnosing heart disease, it is critically important to reduce False Negatives (i.e. Predicting an absence of the disease when in reality there is heart disease) => we must **maximize** recall."
   ]
  },
  {
   "cell_type": "code",
   "execution_count": 49,
   "metadata": {
    "ExecuteTime": {
     "end_time": "2020-07-27T01:49:47.454420Z",
     "start_time": "2020-07-27T01:49:47.232389Z"
    },
    "colab": {
     "base_uri": "https://localhost:8080/",
     "height": 570
    },
    "colab_type": "code",
    "id": "5_6D8ZHJgbKP",
    "outputId": "d9f6c18d-3d82-4574-d7d6-abd014e849b9"
   },
   "outputs": [
    {
     "data": {
      "text/plain": [
       "Text(0.5, 1.0, 'ROC-CURVE & AREA UNDER CURVE')"
      ]
     },
     "execution_count": 49,
     "metadata": {},
     "output_type": "execute_result"
    },
    {
     "data": {
      "image/png": "[encoded data removed]",
      "text/plain": [
       "<Figure size 960x540 with 1 Axes>"
      ]
     },
     "metadata": {
      "needs_background": "light"
     },
     "output_type": "display_data"
    }
   ],
   "source": [
    "fig = plt.figure(figsize=(16, 9))\n",
    "ax  = fig.add_subplot(111)\n",
    "ax.plot(fpr, tpr, label = [\" Area under curve : \", round(auc_score, 3)], linewidth = 4, linestyle = \"dotted\")\n",
    "ax.plot([0,1],[0,1],linewidth = 4, linestyle = \"dashed\")\n",
    "plt.legend(loc = \"best\")\n",
    "plt.title(\"ROC-CURVE & AREA UNDER CURVE\")"
   ]
  },
  {
   "cell_type": "code",
   "execution_count": 56,
   "metadata": {
    "ExecuteTime": {
     "end_time": "2020-07-27T01:53:10.670593Z",
     "start_time": "2020-07-27T01:53:08.832649Z"
    }
   },
   "outputs": [
    {
     "name": "stdout",
     "output_type": "stream",
     "text": [
      "Best: 0.903554 using {'C': 0.1, 'penalty': 'l2', 'solver': 'liblinear'}\n",
      "0.877574 (0.087173) with: {'C': 100, 'penalty': 'l2', 'solver': 'newton-cg'}\n",
      "0.867402 (0.087466) with: {'C': 100, 'penalty': 'l2', 'solver': 'lbfgs'}\n",
      "0.881495 (0.088611) with: {'C': 100, 'penalty': 'l2', 'solver': 'liblinear'}\n",
      "0.881495 (0.088611) with: {'C': 10, 'penalty': 'l2', 'solver': 'newton-cg'}\n",
      "0.873529 (0.087118) with: {'C': 10, 'penalty': 'l2', 'solver': 'lbfgs'}\n",
      "0.881495 (0.088611) with: {'C': 10, 'penalty': 'l2', 'solver': 'liblinear'}\n",
      "0.881618 (0.086868) with: {'C': 1.0, 'penalty': 'l2', 'solver': 'newton-cg'}\n",
      "0.879657 (0.087831) with: {'C': 1.0, 'penalty': 'l2', 'solver': 'lbfgs'}\n",
      "0.879412 (0.090913) with: {'C': 1.0, 'penalty': 'l2', 'solver': 'liblinear'}\n",
      "0.901593 (0.077878) with: {'C': 0.1, 'penalty': 'l2', 'solver': 'newton-cg'}\n",
      "0.901593 (0.077878) with: {'C': 0.1, 'penalty': 'l2', 'solver': 'lbfgs'}\n",
      "0.903554 (0.078109) with: {'C': 0.1, 'penalty': 'l2', 'solver': 'liblinear'}\n",
      "0.840686 (0.093247) with: {'C': 0.01, 'penalty': 'l2', 'solver': 'newton-cg'}\n",
      "0.854534 (0.082207) with: {'C': 0.01, 'penalty': 'l2', 'solver': 'lbfgs'}\n",
      "0.860662 (0.081572) with: {'C': 0.01, 'penalty': 'l2', 'solver': 'liblinear'}\n"
     ]
    }
   ],
   "source": [
    "solvers = ['newton-cg', 'lbfgs', 'liblinear']\n",
    "penalty = ['l2']\n",
    "c_values = [100, 10, 1.0, 0.1, 0.01]\n",
    "\n",
    "# define grid search\n",
    "grid = dict(solver=solvers,penalty=penalty,C=c_values)\n",
    "cv = RepeatedStratifiedKFold(n_splits=10, n_repeats=3, random_state=1)\n",
    "grid_search = GridSearchCV(estimator=log_reg, param_grid=grid, n_jobs=-1, cv=cv, scoring='recall',error_score=0)\n",
    "grid_result = grid_search.fit(X_new, y)\n",
    "# summarize results\n",
    "print(\"Best: %f using %s\" % (grid_result.best_score_, grid_result.best_params_))\n",
    "means = grid_result.cv_results_['mean_test_score']\n",
    "stds = grid_result.cv_results_['std_test_score']\n",
    "params = grid_result.cv_results_['params']\n",
    "for mean, stdev, param in zip(means, stds, params):\n",
    "    print(\"%f (%f) with: %r\" % (mean, stdev, param))"
   ]
  },
  {
   "cell_type": "markdown",
   "metadata": {},
   "source": [
    "## Fitting a Decision Tree Model"
   ]
  },
  {
   "cell_type": "code",
   "execution_count": 58,
   "metadata": {
    "ExecuteTime": {
     "end_time": "2020-07-27T01:55:13.026469Z",
     "start_time": "2020-07-27T01:55:13.019492Z"
    }
   },
   "outputs": [],
   "source": [
    "from sklearn.tree import DecisionTreeClassifier"
   ]
  },
  {
   "cell_type": "code",
   "execution_count": 59,
   "metadata": {
    "ExecuteTime": {
     "end_time": "2020-07-27T01:55:13.517256Z",
     "start_time": "2020-07-27T01:55:13.506259Z"
    }
   },
   "outputs": [
    {
     "data": {
      "text/plain": [
       "DecisionTreeClassifier(ccp_alpha=0.0, class_weight=None, criterion='gini',\n",
       "                       max_depth=None, max_features=None, max_leaf_nodes=None,\n",
       "                       min_impurity_decrease=0.0, min_impurity_split=None,\n",
       "                       min_samples_leaf=1, min_samples_split=2,\n",
       "                       min_weight_fraction_leaf=0.0, presort='deprecated',\n",
       "                       random_state=0, splitter='best')"
      ]
     },
     "execution_count": 59,
     "metadata": {},
     "output_type": "execute_result"
    }
   ],
   "source": [
    "# dtree = DecisionTreeClassifier(random_state=0, class_weight = {0:.45, 1:.55}) ## With class_weights\n",
    "dtree = DecisionTreeClassifier(random_state=0) ## Without class_weights\n",
    "dtree.fit(X_train, y_train)"
   ]
  },
  {
   "cell_type": "code",
   "execution_count": 60,
   "metadata": {
    "ExecuteTime": {
     "end_time": "2020-07-27T01:55:14.264347Z",
     "start_time": "2020-07-27T01:55:14.251352Z"
    }
   },
   "outputs": [
    {
     "data": {
      "text/plain": [
       "array([0, 0, 1, 0, 0, 0, 0, 0, 0, 0, 0, 1, 0, 1, 1, 0, 0, 1, 0, 1, 1, 0,\n",
       "       1, 0, 1, 0, 0, 0, 1, 1, 0, 0, 1, 1, 1, 1, 0, 1, 0, 0, 1, 0, 1, 0,\n",
       "       0, 1, 1, 0, 0, 1, 1, 1, 1, 1, 1, 0, 1, 1, 0, 1, 1, 1, 1, 1, 1, 1,\n",
       "       1, 0, 1, 1, 0, 1, 1, 0, 0, 0], dtype=int64)"
      ]
     },
     "execution_count": 60,
     "metadata": {},
     "output_type": "execute_result"
    }
   ],
   "source": [
    "y_pred = dtree.predict(X_test)\n",
    "y_pred"
   ]
  },
  {
   "cell_type": "code",
   "execution_count": 61,
   "metadata": {
    "ExecuteTime": {
     "end_time": "2020-07-27T01:55:14.836179Z",
     "start_time": "2020-07-27T01:55:14.826231Z"
    }
   },
   "outputs": [
    {
     "data": {
      "text/plain": [
       "array([1., 1., 0., 1., 1., 1., 1., 1., 1., 1., 1., 0., 1., 0., 0., 1., 1.,\n",
       "       0., 1., 0., 0., 1., 0., 1., 0., 1., 1., 1., 0., 0., 1., 1., 0., 0.,\n",
       "       0., 0., 1., 0., 1., 1., 0., 1., 0., 1., 1., 0., 0., 1., 1., 0., 0.,\n",
       "       0., 0., 0., 0., 1., 0., 0., 1., 0., 0., 0., 0., 0., 0., 0., 0., 1.,\n",
       "       0., 0., 1., 0., 0., 1., 1., 1.])"
      ]
     },
     "execution_count": 61,
     "metadata": {},
     "output_type": "execute_result"
    }
   ],
   "source": [
    "predicted_probabilities = dtree.predict_proba(X_test)\n",
    "predicted_probabilities[:, 0] ## Probability of having target == 1"
   ]
  },
  {
   "cell_type": "code",
   "execution_count": 62,
   "metadata": {
    "ExecuteTime": {
     "end_time": "2020-07-27T01:55:17.010808Z",
     "start_time": "2020-07-27T01:55:16.970859Z"
    }
   },
   "outputs": [
    {
     "name": "stdout",
     "output_type": "stream",
     "text": [
      "CONFUSION MATRIX \n",
      " [[26  7]\n",
      " [10 33]]\n",
      "ACCURACY : 0.78\n",
      "PRECISION : 0.82\n",
      "RECALL : 0.77\n",
      "AUC :  0.78\n"
     ]
    }
   ],
   "source": [
    "cm = confusion_matrix(y_test, y_pred, labels=[0, 1])\n",
    "print(\"CONFUSION MATRIX \\n\", cm)\n",
    "acc = accuracy_score(y_test, y_pred)\n",
    "print(\"ACCURACY :\", round(acc, 2))\n",
    "precision = precision_score(y_test, y_pred)\n",
    "print(\"PRECISION :\", round(precision, 2))\n",
    "recall = recall_score(y_test, y_pred)\n",
    "print(\"RECALL :\", round(recall, 2))\n",
    "fpr, tpr, thresh = roc_curve(y_test, y_pred)\n",
    "auc_score = auc(fpr, tpr)\n",
    "print(\"AUC : \", round(auc_score, 2))"
   ]
  },
  {
   "cell_type": "code",
   "execution_count": 63,
   "metadata": {
    "ExecuteTime": {
     "end_time": "2020-07-27T01:55:19.665183Z",
     "start_time": "2020-07-27T01:55:19.479183Z"
    }
   },
   "outputs": [
    {
     "data": {
      "text/plain": [
       "Text(0.5, 1.0, 'ROC-CURVE & AREA UNDER CURVE')"
      ]
     },
     "execution_count": 63,
     "metadata": {},
     "output_type": "execute_result"
    },
    {
     "data": {
      "image/png": "[encoded data removed]",
      "text/plain": [
       "<Figure size 960x540 with 1 Axes>"
      ]
     },
     "metadata": {
      "needs_background": "light"
     },
     "output_type": "display_data"
    }
   ],
   "source": [
    "fig = plt.figure(figsize=(16, 9))\n",
    "ax  = fig.add_subplot(111)\n",
    "ax.plot(fpr, tpr, label = [\" Area under curve : \", round(auc_score, 3)], linewidth = 4, linestyle = \"dotted\")\n",
    "ax.plot([0,1],[0,1],linewidth = 4, linestyle = \"dashed\")\n",
    "plt.legend(loc = \"best\")\n",
    "plt.title(\"ROC-CURVE & AREA UNDER CURVE\")"
   ]
  },
  {
   "cell_type": "code",
   "execution_count": 67,
   "metadata": {
    "ExecuteTime": {
     "end_time": "2020-07-27T01:57:29.304554Z",
     "start_time": "2020-07-27T01:57:29.106553Z"
    }
   },
   "outputs": [
    {
     "name": "stdout",
     "output_type": "stream",
     "text": [
      "Best: 0.744730 using {'max_depth': 10}\n",
      "0.744730 (0.110814) with: {'max_depth': 10}\n",
      "0.740686 (0.109168) with: {'max_depth': 20}\n",
      "0.740686 (0.109168) with: {'max_depth': 50}\n"
     ]
    }
   ],
   "source": [
    "max_depth = [10, 20, 50]\n",
    "\n",
    "# define grid search\n",
    "grid = dict(max_depth=max_depth)\n",
    "cv = RepeatedStratifiedKFold(n_splits=10, n_repeats=3, random_state=1)\n",
    "grid_search = GridSearchCV(estimator=dtree, param_grid=grid, n_jobs=-1, cv=cv, scoring='recall',error_score=0)\n",
    "grid_result = grid_search.fit(X_new, y)\n",
    "\n",
    "# summarize results\n",
    "print(\"Best: %f using %s\" % (grid_result.best_score_, grid_result.best_params_))\n",
    "means = grid_result.cv_results_['mean_test_score']\n",
    "stds = grid_result.cv_results_['std_test_score']\n",
    "params = grid_result.cv_results_['params']\n",
    "for mean, stdev, param in zip(means, stds, params):\n",
    "    print(\"%f (%f) with: %r\" % (mean, stdev, param))"
   ]
  },
  {
   "cell_type": "markdown",
   "metadata": {},
   "source": [
    "## Fitting a Random Forest Model"
   ]
  },
  {
   "cell_type": "code",
   "execution_count": 68,
   "metadata": {
    "ExecuteTime": {
     "end_time": "2020-07-27T01:58:33.667460Z",
     "start_time": "2020-07-27T01:58:33.661461Z"
    }
   },
   "outputs": [],
   "source": [
    "from sklearn.ensemble import RandomForestClassifier"
   ]
  },
  {
   "cell_type": "code",
   "execution_count": 69,
   "metadata": {
    "ExecuteTime": {
     "end_time": "2020-07-27T01:58:34.375601Z",
     "start_time": "2020-07-27T01:58:34.267584Z"
    }
   },
   "outputs": [
    {
     "data": {
      "text/plain": [
       "RandomForestClassifier(bootstrap=True, ccp_alpha=0.0, class_weight=None,\n",
       "                       criterion='gini', max_depth=None, max_features='auto',\n",
       "                       max_leaf_nodes=None, max_samples=None,\n",
       "                       min_impurity_decrease=0.0, min_impurity_split=None,\n",
       "                       min_samples_leaf=1, min_samples_split=2,\n",
       "                       min_weight_fraction_leaf=0.0, n_estimators=100,\n",
       "                       n_jobs=None, oob_score=False, random_state=0, verbose=0,\n",
       "                       warm_start=False)"
      ]
     },
     "execution_count": 69,
     "metadata": {},
     "output_type": "execute_result"
    }
   ],
   "source": [
    "# forest = RandomForestClassifier(random_state=0, class_weight = {0:.45, 1:.55}) ## With class_weights\n",
    "forest = RandomForestClassifier(random_state=0) ## Without class_weights\n",
    "forest.fit(X_train, y_train)"
   ]
  },
  {
   "cell_type": "code",
   "execution_count": 70,
   "metadata": {
    "ExecuteTime": {
     "end_time": "2020-07-27T01:58:36.755882Z",
     "start_time": "2020-07-27T01:58:36.731930Z"
    }
   },
   "outputs": [
    {
     "data": {
      "text/plain": [
       "array([0, 1, 1, 0, 0, 0, 0, 0, 0, 0, 1, 1, 0, 1, 1, 1, 0, 1, 0, 1, 1, 0,\n",
       "       0, 0, 1, 0, 0, 0, 1, 1, 1, 0, 1, 1, 1, 1, 0, 1, 0, 0, 1, 1, 1, 0,\n",
       "       1, 1, 1, 0, 0, 1, 1, 1, 1, 1, 1, 0, 1, 1, 1, 1, 1, 1, 1, 1, 1, 1,\n",
       "       1, 0, 1, 1, 0, 1, 1, 0, 0, 1], dtype=int64)"
      ]
     },
     "execution_count": 70,
     "metadata": {},
     "output_type": "execute_result"
    }
   ],
   "source": [
    "y_pred = forest.predict(X_test)\n",
    "y_pred"
   ]
  },
  {
   "cell_type": "code",
   "execution_count": 71,
   "metadata": {
    "ExecuteTime": {
     "end_time": "2020-07-27T01:58:37.104595Z",
     "start_time": "2020-07-27T01:58:37.084600Z"
    }
   },
   "outputs": [
    {
     "data": {
      "text/plain": [
       "array([0.83, 0.47, 0.44, 1.  , 0.87, 0.57, 0.79, 0.96, 0.98, 1.  , 0.49,\n",
       "       0.06, 0.97, 0.01, 0.04, 0.27, 0.8 , 0.1 , 0.95, 0.48, 0.12, 0.78,\n",
       "       0.65, 0.65, 0.3 , 0.55, 0.81, 0.64, 0.07, 0.11, 0.31, 0.83, 0.01,\n",
       "       0.2 , 0.  , 0.42, 0.86, 0.09, 0.73, 0.53, 0.49, 0.46, 0.06, 0.75,\n",
       "       0.48, 0.21, 0.11, 0.56, 0.87, 0.26, 0.06, 0.35, 0.05, 0.35, 0.03,\n",
       "       0.86, 0.18, 0.17, 0.17, 0.02, 0.17, 0.01, 0.19, 0.06, 0.35, 0.16,\n",
       "       0.22, 0.86, 0.36, 0.21, 0.62, 0.03, 0.07, 0.98, 0.85, 0.39])"
      ]
     },
     "execution_count": 71,
     "metadata": {},
     "output_type": "execute_result"
    }
   ],
   "source": [
    "predicted_probabilities = forest.predict_proba(X_test)\n",
    "predicted_probabilities[:, 0] ## Probability of having target == 1"
   ]
  },
  {
   "cell_type": "code",
   "execution_count": 72,
   "metadata": {
    "ExecuteTime": {
     "end_time": "2020-07-27T01:58:39.197546Z",
     "start_time": "2020-07-27T01:58:39.161580Z"
    }
   },
   "outputs": [
    {
     "name": "stdout",
     "output_type": "stream",
     "text": [
      "CONFUSION MATRIX \n",
      " [[26  7]\n",
      " [ 3 40]]\n",
      "ACCURACY : 0.87\n",
      "PRECISION : 0.85\n",
      "RECALL : 0.93\n",
      "AUC :  0.86\n"
     ]
    }
   ],
   "source": [
    "cm = confusion_matrix(y_test, y_pred, labels=[0, 1])\n",
    "print(\"CONFUSION MATRIX \\n\", cm)\n",
    "acc = accuracy_score(y_test, y_pred)\n",
    "print(\"ACCURACY :\", round(acc, 2))\n",
    "precision = precision_score(y_test, y_pred)\n",
    "print(\"PRECISION :\", round(precision, 2))\n",
    "recall = recall_score(y_test, y_pred)\n",
    "print(\"RECALL :\", round(recall, 2))\n",
    "fpr, tpr, thresh = roc_curve(y_test, y_pred)\n",
    "auc_score = auc(fpr, tpr)\n",
    "print(\"AUC : \", round(auc_score, 2))"
   ]
  },
  {
   "cell_type": "code",
   "execution_count": 73,
   "metadata": {
    "ExecuteTime": {
     "end_time": "2020-07-27T01:58:40.561036Z",
     "start_time": "2020-07-27T01:58:40.339026Z"
    }
   },
   "outputs": [
    {
     "data": {
      "text/plain": [
       "Text(0.5, 1.0, 'ROC-CURVE & AREA UNDER CURVE')"
      ]
     },
     "execution_count": 73,
     "metadata": {},
     "output_type": "execute_result"
    },
    {
     "data": {
      "image/png": "[encoded data removed]",
      "text/plain": [
       "<Figure size 960x540 with 1 Axes>"
      ]
     },
     "metadata": {
      "needs_background": "light"
     },
     "output_type": "display_data"
    }
   ],
   "source": [
    "fig = plt.figure(figsize=(16, 9))\n",
    "ax  = fig.add_subplot(111)\n",
    "ax.plot(fpr, tpr, label = [\" Area under curve : \", round(auc_score, 3)], linewidth = 4, linestyle = \"dotted\")\n",
    "ax.plot([0,1],[0,1],linewidth = 4, linestyle = \"dashed\")\n",
    "plt.legend(loc = \"best\")\n",
    "plt.title(\"ROC-CURVE & AREA UNDER CURVE\")"
   ]
  },
  {
   "cell_type": "code",
   "execution_count": 75,
   "metadata": {
    "ExecuteTime": {
     "end_time": "2020-07-27T01:59:24.420208Z",
     "start_time": "2020-07-27T01:59:09.857224Z"
    }
   },
   "outputs": [
    {
     "name": "stdout",
     "output_type": "stream",
     "text": [
      "Best: 0.849877 using {'max_features': 'sqrt', 'n_estimators': 1000}\n",
      "0.789093 (0.104144) with: {'max_features': 'sqrt', 'n_estimators': 10}\n",
      "0.845833 (0.091228) with: {'max_features': 'sqrt', 'n_estimators': 100}\n",
      "0.849877 (0.101145) with: {'max_features': 'sqrt', 'n_estimators': 1000}\n",
      "0.803922 (0.129341) with: {'max_features': 'log2', 'n_estimators': 10}\n",
      "0.838235 (0.119399) with: {'max_features': 'log2', 'n_estimators': 100}\n",
      "0.848039 (0.105638) with: {'max_features': 'log2', 'n_estimators': 1000}\n"
     ]
    }
   ],
   "source": [
    "n_estimators = [10, 100, 1000]\n",
    "max_features = ['sqrt', 'log2']\n",
    "# define grid search\n",
    "grid = dict(n_estimators=n_estimators,max_features=max_features)\n",
    "cv = RepeatedStratifiedKFold(n_splits=10, n_repeats=3, random_state=1)\n",
    "grid_search = GridSearchCV(estimator=forest, param_grid=grid, n_jobs=-1, cv=cv, scoring='recall',error_score=0)\n",
    "grid_result = grid_search.fit(X_new, y)\n",
    "# summarize results\n",
    "print(\"Best: %f using %s\" % (grid_result.best_score_, grid_result.best_params_))\n",
    "means = grid_result.cv_results_['mean_test_score']\n",
    "stds = grid_result.cv_results_['std_test_score']\n",
    "params = grid_result.cv_results_['params']\n",
    "for mean, stdev, param in zip(means, stds, params):\n",
    "    print(\"%f (%f) with: %r\" % (mean, stdev, param))"
   ]
  }
 ],
 "metadata": {
  "colab": {
   "collapsed_sections": [],
   "name": "classification.ipynb",
   "provenance": []
  },
  "kernelspec": {
   "display_name": "Python 3",
   "language": "python",
   "name": "python3"
  },
  "language_info": {
   "codemirror_mode": {
    "name": "ipython",
    "version": 3
   },
   "file_extension": ".py",
   "mimetype": "text/x-python",
   "name": "python",
   "nbconvert_exporter": "python",
   "pygments_lexer": "ipython3",
   "version": "3.7.4"
  },
  "toc": {
   "base_numbering": 1,
   "nav_menu": {},
   "number_sections": false,
   "sideBar": true,
   "skip_h1_title": false,
   "title_cell": "Table of Contents",
   "title_sidebar": "Contents",
   "toc_cell": false,
   "toc_position": {},
   "toc_section_display": true,
   "toc_window_display": false
  },
  "varInspector": {
   "cols": {
    "lenName": 16,
    "lenType": 16,
    "lenVar": 40
   },
   "kernels_config": {
    "python": {
     "delete_cmd_postfix": "",
     "delete_cmd_prefix": "del ",
     "library": "var_list.py",
     "varRefreshCmd": "print(var_dic_list())"
    },
    "r": {
     "delete_cmd_postfix": ") ",
     "delete_cmd_prefix": "rm(",
     "library": "var_list.r",
     "varRefreshCmd": "cat(var_dic_list()) "
    }
   },
   "types_to_exclude": [
    "module",
    "function",
    "builtin_function_or_method",
    "instance",
    "_Feature"
   ],
   "window_display": false
  }
 },
 "nbformat": 4,
 "nbformat_minor": 1
}
