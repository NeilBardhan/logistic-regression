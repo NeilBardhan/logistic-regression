{
 "cells": [
  {
   "cell_type": "markdown",
   "metadata": {
    "colab_type": "text",
    "id": "4tSv3ZryMuqt"
   },
   "source": [
    "# Heart Disease Diagnosis - A Classification Task"
   ]
  },
  {
   "cell_type": "markdown",
   "metadata": {},
   "source": [
    "## The Problem"
   ]
  },
  {
   "cell_type": "markdown",
   "metadata": {
    "colab_type": "text",
    "id": "e35csCPWPbzb"
   },
   "source": [
    "Identifying the presence of a condition in patients can be viewed as a classification task. A certain condition (heart disease, diabetes or cancer) is either **present (1)** in a patient or **absent (0)** from that patient. Since these are diagnostic tools, it is critically important to focus on **minimizing False Negatives**. We cannot build diagnostic tools that predict the **absence** of a condition when the ground truth is otherwise, an undiagnosed condition could delay treatment and be fatal to the patient. Since **False Negatives** are inversely proportional to **Recall**, our goal is to maximize the recall of our model."
   ]
  },
  {
   "cell_type": "markdown",
   "metadata": {
    "colab_type": "text",
    "id": "WgEz-5Y8M2-T"
   },
   "source": [
    "## Importing the libraries"
   ]
  },
  {
   "cell_type": "code",
   "execution_count": 7,
   "metadata": {
    "ExecuteTime": {
     "end_time": "2020-07-19T01:11:06.203367Z",
     "start_time": "2020-07-19T01:11:06.186422Z"
    },
    "colab": {},
    "colab_type": "code",
    "id": "UhCns4RsLytz"
   },
   "outputs": [],
   "source": [
    "import os\n",
    "import shap\n",
    "import numpy as np\n",
    "import pandas as pd\n",
    "import seaborn as sns\n",
    "import matplotlib.pyplot as plt\n",
    "from sklearn.preprocessing import StandardScaler\n",
    "from sklearn.model_selection import train_test_split\n",
    "%matplotlib inline\n",
    "\n",
    "plt.rcParams.update({'figure.figsize':(16, 9), 'figure.dpi':60})"
   ]
  },
  {
   "cell_type": "markdown",
   "metadata": {
    "colab_type": "text",
    "id": "W4om1rgZPq6R"
   },
   "source": [
    "## Importing the Data"
   ]
  },
  {
   "cell_type": "code",
   "execution_count": 8,
   "metadata": {
    "ExecuteTime": {
     "end_time": "2020-07-19T01:11:08.515850Z",
     "start_time": "2020-07-19T01:11:08.508837Z"
    }
   },
   "outputs": [],
   "source": [
    "os.chdir('..')"
   ]
  },
  {
   "cell_type": "code",
   "execution_count": 9,
   "metadata": {
    "ExecuteTime": {
     "end_time": "2020-07-19T01:11:09.983720Z",
     "start_time": "2020-07-19T01:11:09.976708Z"
    },
    "colab": {},
    "colab_type": "code",
    "id": "M4yCpwVWNf5s"
   },
   "outputs": [],
   "source": [
    "DATA_PATH = os.getcwd() + '//'\n",
    "fname = 'heart.csv'"
   ]
  },
  {
   "cell_type": "code",
   "execution_count": 10,
   "metadata": {
    "ExecuteTime": {
     "end_time": "2020-07-19T01:11:10.398120Z",
     "start_time": "2020-07-19T01:11:10.347136Z"
    },
    "colab": {
     "base_uri": "https://localhost:8080/",
     "height": 362
    },
    "colab_type": "code",
    "id": "khDLox0JN4SH",
    "outputId": "76fe0cf3-eab6-47ec-a1e3-bcf529d39b39"
   },
   "outputs": [
    {
     "data": {
      "text/html": [
       "<div>\n",
       "<style scoped>\n",
       "    .dataframe tbody tr th:only-of-type {\n",
       "        vertical-align: middle;\n",
       "    }\n",
       "\n",
       "    .dataframe tbody tr th {\n",
       "        vertical-align: top;\n",
       "    }\n",
       "\n",
       "    .dataframe thead th {\n",
       "        text-align: right;\n",
       "    }\n",
       "</style>\n",
       "<table border=\"1\" class=\"dataframe\">\n",
       "  <thead>\n",
       "    <tr style=\"text-align: right;\">\n",
       "      <th></th>\n",
       "      <th>age</th>\n",
       "      <th>sex</th>\n",
       "      <th>cp</th>\n",
       "      <th>trestbps</th>\n",
       "      <th>chol</th>\n",
       "      <th>fbs</th>\n",
       "      <th>restecg</th>\n",
       "      <th>thalach</th>\n",
       "      <th>exang</th>\n",
       "      <th>oldpeak</th>\n",
       "      <th>slope</th>\n",
       "      <th>ca</th>\n",
       "      <th>thal</th>\n",
       "      <th>target</th>\n",
       "    </tr>\n",
       "  </thead>\n",
       "  <tbody>\n",
       "    <tr>\n",
       "      <th>0</th>\n",
       "      <td>63</td>\n",
       "      <td>1</td>\n",
       "      <td>3</td>\n",
       "      <td>145</td>\n",
       "      <td>233</td>\n",
       "      <td>1</td>\n",
       "      <td>0</td>\n",
       "      <td>150</td>\n",
       "      <td>0</td>\n",
       "      <td>2.3</td>\n",
       "      <td>0</td>\n",
       "      <td>0</td>\n",
       "      <td>1</td>\n",
       "      <td>1</td>\n",
       "    </tr>\n",
       "    <tr>\n",
       "      <th>1</th>\n",
       "      <td>37</td>\n",
       "      <td>1</td>\n",
       "      <td>2</td>\n",
       "      <td>130</td>\n",
       "      <td>250</td>\n",
       "      <td>0</td>\n",
       "      <td>1</td>\n",
       "      <td>187</td>\n",
       "      <td>0</td>\n",
       "      <td>3.5</td>\n",
       "      <td>0</td>\n",
       "      <td>0</td>\n",
       "      <td>2</td>\n",
       "      <td>1</td>\n",
       "    </tr>\n",
       "    <tr>\n",
       "      <th>2</th>\n",
       "      <td>41</td>\n",
       "      <td>0</td>\n",
       "      <td>1</td>\n",
       "      <td>130</td>\n",
       "      <td>204</td>\n",
       "      <td>0</td>\n",
       "      <td>0</td>\n",
       "      <td>172</td>\n",
       "      <td>0</td>\n",
       "      <td>1.4</td>\n",
       "      <td>2</td>\n",
       "      <td>0</td>\n",
       "      <td>2</td>\n",
       "      <td>1</td>\n",
       "    </tr>\n",
       "    <tr>\n",
       "      <th>3</th>\n",
       "      <td>56</td>\n",
       "      <td>1</td>\n",
       "      <td>1</td>\n",
       "      <td>120</td>\n",
       "      <td>236</td>\n",
       "      <td>0</td>\n",
       "      <td>1</td>\n",
       "      <td>178</td>\n",
       "      <td>0</td>\n",
       "      <td>0.8</td>\n",
       "      <td>2</td>\n",
       "      <td>0</td>\n",
       "      <td>2</td>\n",
       "      <td>1</td>\n",
       "    </tr>\n",
       "    <tr>\n",
       "      <th>4</th>\n",
       "      <td>57</td>\n",
       "      <td>0</td>\n",
       "      <td>0</td>\n",
       "      <td>120</td>\n",
       "      <td>354</td>\n",
       "      <td>0</td>\n",
       "      <td>1</td>\n",
       "      <td>163</td>\n",
       "      <td>1</td>\n",
       "      <td>0.6</td>\n",
       "      <td>2</td>\n",
       "      <td>0</td>\n",
       "      <td>2</td>\n",
       "      <td>1</td>\n",
       "    </tr>\n",
       "    <tr>\n",
       "      <th>5</th>\n",
       "      <td>57</td>\n",
       "      <td>1</td>\n",
       "      <td>0</td>\n",
       "      <td>140</td>\n",
       "      <td>192</td>\n",
       "      <td>0</td>\n",
       "      <td>1</td>\n",
       "      <td>148</td>\n",
       "      <td>0</td>\n",
       "      <td>0.4</td>\n",
       "      <td>1</td>\n",
       "      <td>0</td>\n",
       "      <td>1</td>\n",
       "      <td>1</td>\n",
       "    </tr>\n",
       "    <tr>\n",
       "      <th>6</th>\n",
       "      <td>56</td>\n",
       "      <td>0</td>\n",
       "      <td>1</td>\n",
       "      <td>140</td>\n",
       "      <td>294</td>\n",
       "      <td>0</td>\n",
       "      <td>0</td>\n",
       "      <td>153</td>\n",
       "      <td>0</td>\n",
       "      <td>1.3</td>\n",
       "      <td>1</td>\n",
       "      <td>0</td>\n",
       "      <td>2</td>\n",
       "      <td>1</td>\n",
       "    </tr>\n",
       "    <tr>\n",
       "      <th>7</th>\n",
       "      <td>44</td>\n",
       "      <td>1</td>\n",
       "      <td>1</td>\n",
       "      <td>120</td>\n",
       "      <td>263</td>\n",
       "      <td>0</td>\n",
       "      <td>1</td>\n",
       "      <td>173</td>\n",
       "      <td>0</td>\n",
       "      <td>0.0</td>\n",
       "      <td>2</td>\n",
       "      <td>0</td>\n",
       "      <td>3</td>\n",
       "      <td>1</td>\n",
       "    </tr>\n",
       "    <tr>\n",
       "      <th>8</th>\n",
       "      <td>52</td>\n",
       "      <td>1</td>\n",
       "      <td>2</td>\n",
       "      <td>172</td>\n",
       "      <td>199</td>\n",
       "      <td>1</td>\n",
       "      <td>1</td>\n",
       "      <td>162</td>\n",
       "      <td>0</td>\n",
       "      <td>0.5</td>\n",
       "      <td>2</td>\n",
       "      <td>0</td>\n",
       "      <td>3</td>\n",
       "      <td>1</td>\n",
       "    </tr>\n",
       "    <tr>\n",
       "      <th>9</th>\n",
       "      <td>57</td>\n",
       "      <td>1</td>\n",
       "      <td>2</td>\n",
       "      <td>150</td>\n",
       "      <td>168</td>\n",
       "      <td>0</td>\n",
       "      <td>1</td>\n",
       "      <td>174</td>\n",
       "      <td>0</td>\n",
       "      <td>1.6</td>\n",
       "      <td>2</td>\n",
       "      <td>0</td>\n",
       "      <td>2</td>\n",
       "      <td>1</td>\n",
       "    </tr>\n",
       "  </tbody>\n",
       "</table>\n",
       "</div>"
      ],
      "text/plain": [
       "   age  sex  cp  trestbps  chol  fbs  restecg  thalach  exang  oldpeak  slope  \\\n",
       "0   63    1   3       145   233    1        0      150      0      2.3      0   \n",
       "1   37    1   2       130   250    0        1      187      0      3.5      0   \n",
       "2   41    0   1       130   204    0        0      172      0      1.4      2   \n",
       "3   56    1   1       120   236    0        1      178      0      0.8      2   \n",
       "4   57    0   0       120   354    0        1      163      1      0.6      2   \n",
       "5   57    1   0       140   192    0        1      148      0      0.4      1   \n",
       "6   56    0   1       140   294    0        0      153      0      1.3      1   \n",
       "7   44    1   1       120   263    0        1      173      0      0.0      2   \n",
       "8   52    1   2       172   199    1        1      162      0      0.5      2   \n",
       "9   57    1   2       150   168    0        1      174      0      1.6      2   \n",
       "\n",
       "   ca  thal  target  \n",
       "0   0     1       1  \n",
       "1   0     2       1  \n",
       "2   0     2       1  \n",
       "3   0     2       1  \n",
       "4   0     2       1  \n",
       "5   0     1       1  \n",
       "6   0     2       1  \n",
       "7   0     3       1  \n",
       "8   0     3       1  \n",
       "9   0     2       1  "
      ]
     },
     "execution_count": 10,
     "metadata": {},
     "output_type": "execute_result"
    }
   ],
   "source": [
    "heart_df = pd.read_csv(DATA_PATH + fname, header = 'infer')\n",
    "heart_df.head(10)"
   ]
  },
  {
   "cell_type": "markdown",
   "metadata": {},
   "source": [
    "## The Data"
   ]
  },
  {
   "cell_type": "markdown",
   "metadata": {},
   "source": [
    "The date is a modified version of the [UCI Heart Disease dataset](http://archive.ics.uci.edu/ml/datasets/heart+disease), also known as the Cleveland Dataset.\n",
    "\n",
    "The `num` field refers to the presence of heart disease in the patient and is our **target** variable. It is derived from the `goal` variable in the original dataset, an integer valued from 0 (no presence) to 4. Experiments with the Cleveland database have concentrated on simply attempting to distinguish **presence** (values 1,2,3,4) from **absence** (value 0).\n",
    "\n",
    "**Attribute Information:**\n",
    "\n",
    "The 14 attributes used that make up this dataset: \n",
    "1. `age` : age in years \n",
    "2. `sex` : sex \n",
    "    * `1` : male\n",
    "    * `0` : female \n",
    "3. `cp` : chest pain type \n",
    "    * `1` : typical angina \n",
    "    * `2` : atypical angina \n",
    "    * `3` : non-anginal pain \n",
    "    * `4` : asymptomatic\n",
    "4. `trestbps` : resting blood pressure (in mm Hg on admission to the hospital) \n",
    "5. `chol` : serum cholestoral in mg/dl \n",
    "6. `fbs` : (fasting blood sugar > 120 mg/dl) \n",
    "    * `1` : true\n",
    "    * `0` : false\n",
    "7. `restecg` : resting electrocardiographic results \n",
    "    * `0` : normal \n",
    "    * `1` : having ST-T wave abnormality (T wave inversions and/or ST elevation or depression of > 0.05 mV) \n",
    "    * `2` : showing probable or definite left ventricular hypertrophy by Estes' criteria \n",
    "8. `thalach` : maximum heart rate achieved \n",
    "9. `exang` : exercise induced angina\n",
    "    * `1` : yes\n",
    "    * `0` : no\n",
    "10. `oldpeak` : ST depression induced by exercise relative to rest \n",
    "11. `slope` : the slope of the peak exercise ST segment \n",
    "    * `1` : upsloping \n",
    "    * `2` : flat \n",
    "    * `3` : downsloping\n",
    "12. `ca` : number of major vessels (0-3) colored by flourosopy \n",
    "13. `thal` : \n",
    "    * `3` : normal\n",
    "    * `6` : fixed defect\n",
    "    * `7` : reversable defect\n",
    "14. `target` (**target**) : diagnosis of heart disease (angiographic disease status) \n",
    "    * `0` : < 50% diameter narrowing \n",
    "    * `1` : > 50% diameter narrowing"
   ]
  },
  {
   "cell_type": "markdown",
   "metadata": {
    "colab_type": "text",
    "id": "j_BHbgXoP-DA"
   },
   "source": [
    "## Exploratory Data Analysis"
   ]
  },
  {
   "cell_type": "code",
   "execution_count": 11,
   "metadata": {
    "ExecuteTime": {
     "end_time": "2020-07-19T01:11:15.794937Z",
     "start_time": "2020-07-19T01:11:15.781944Z"
    },
    "colab": {
     "base_uri": "https://localhost:8080/",
     "height": 277
    },
    "colab_type": "code",
    "id": "fnFWZRo_OGSm",
    "outputId": "7b8a72a1-b79b-4f69-e13c-7b120643faf0"
   },
   "outputs": [
    {
     "data": {
      "text/plain": [
       "age           int64\n",
       "sex           int64\n",
       "cp            int64\n",
       "trestbps      int64\n",
       "chol          int64\n",
       "fbs           int64\n",
       "restecg       int64\n",
       "thalach       int64\n",
       "exang         int64\n",
       "oldpeak     float64\n",
       "slope         int64\n",
       "ca            int64\n",
       "thal          int64\n",
       "target        int64\n",
       "dtype: object"
      ]
     },
     "execution_count": 11,
     "metadata": {},
     "output_type": "execute_result"
    }
   ],
   "source": [
    "heart_df.dtypes"
   ]
  },
  {
   "cell_type": "markdown",
   "metadata": {},
   "source": [
    "While all of the 14 variables are encoded as numeric data, the following variables are categorical in nature : \n",
    " *  `sex`\n",
    " *  `cp`\n",
    " *  `fbs`\n",
    " *  `restecg`\n",
    " *  `exang`\n",
    " *  `slope`\n",
    " *  `thal`\n",
    " *  `target`"
   ]
  },
  {
   "cell_type": "code",
   "execution_count": 12,
   "metadata": {
    "ExecuteTime": {
     "end_time": "2020-07-19T01:11:19.186494Z",
     "start_time": "2020-07-19T01:11:19.174493Z"
    }
   },
   "outputs": [
    {
     "data": {
      "text/plain": [
       "1    165\n",
       "0    138\n",
       "Name: target, dtype: int64"
      ]
     },
     "execution_count": 12,
     "metadata": {},
     "output_type": "execute_result"
    }
   ],
   "source": [
    "heart_df['target'].value_counts()"
   ]
  },
  {
   "cell_type": "markdown",
   "metadata": {},
   "source": [
    "In our dataset, we have 303 examples, 165 (54%) show **presence** of heart disease. The dataset does show some slight imbalance in the class distribution (54/46) and we will take that into account when building our classification model."
   ]
  },
  {
   "cell_type": "markdown",
   "metadata": {},
   "source": [
    "Let us look at some plots to explore the visual relationships between the predictive features and the response. One way to get a better understanding of the data is to look at `age` and `sex` and ask the question, *What role do `age` and `sex` play in the prevalence of heart disease?*"
   ]
  },
  {
   "cell_type": "code",
   "execution_count": 13,
   "metadata": {
    "ExecuteTime": {
     "end_time": "2020-07-19T01:11:23.441243Z",
     "start_time": "2020-07-19T01:11:23.145399Z"
    }
   },
   "outputs": [
    {
     "data": {
      "text/plain": [
       "<seaborn.axisgrid.FacetGrid at 0x2c20d243b48>"
      ]
     },
     "execution_count": 13,
     "metadata": {},
     "output_type": "execute_result"
    },
    {
     "data": {
      "image/png": "[encoded data removed]",
      "text/plain": [
       "<Figure size 335.25x300 with 1 Axes>"
      ]
     },
     "metadata": {
      "needs_background": "light"
     },
     "output_type": "display_data"
    }
   ],
   "source": [
    "sns.catplot(x=\"target\", y=\"age\", hue=\"sex\", kind=\"swarm\", data=heart_df, palette=\"pastel\")"
   ]
  },
  {
   "cell_type": "markdown",
   "metadata": {},
   "source": [
    "The above graph is a categorical scatterplot which plots the `target` against `age` and `sex`. Since, this is a dataset where the majority class does have the disease, we can see that people who do have heart disease are well spread out across the `age` spectrum. `sex` on the other hand is a more interesting dimension. The minority class of people who do not have heart disease is dominated by men and has very few women (mostly women in their 50s or 60s), whereas the majority class has a more even spread. This may indicate that women may be more likely to have heart disease. We can explore that as follows : "
   ]
  },
  {
   "cell_type": "code",
   "execution_count": 22,
   "metadata": {
    "ExecuteTime": {
     "end_time": "2020-07-19T01:35:19.883360Z",
     "start_time": "2020-07-19T01:35:19.725391Z"
    }
   },
   "outputs": [
    {
     "data": {
      "text/plain": [
       "<matplotlib.axes._subplots.AxesSubplot at 0x2c20d86c2c8>"
      ]
     },
     "execution_count": 22,
     "metadata": {},
     "output_type": "execute_result"
    },
    {
     "data": {
      "image/png": "[encoded data removed]",
      "text/plain": [
       "<Figure size 960x540 with 1 Axes>"
      ]
     },
     "metadata": {
      "needs_background": "light"
     },
     "output_type": "display_data"
    }
   ],
   "source": [
    "sns.countplot(x=\"sex\", data=heart_df, palette=\"pastel\")"
   ]
  },
  {
   "cell_type": "markdown",
   "metadata": {},
   "source": [
    "Our dataset is skewed from a gender perspective. Men outnumber women by a ratio of 2:1. Because there is such a high number of men, it is no surprise that on first glance, they dominate the sub-population of people who do not have the disease. Let's explore further."
   ]
  },
  {
   "cell_type": "code",
   "execution_count": 23,
   "metadata": {
    "ExecuteTime": {
     "end_time": "2020-07-19T01:38:08.924707Z",
     "start_time": "2020-07-19T01:38:08.715761Z"
    }
   },
   "outputs": [
    {
     "data": {
      "text/plain": [
       "<seaborn.axisgrid.FacetGrid at 0x2c20d67fb48>"
      ]
     },
     "execution_count": 23,
     "metadata": {},
     "output_type": "execute_result"
    },
    {
     "data": {
      "image/png": "[encoded data removed]",
      "text/plain": [
       "<Figure size 300x300 with 1 Axes>"
      ]
     },
     "metadata": {
      "needs_background": "light"
     },
     "output_type": "display_data"
    }
   ],
   "source": [
    "sns.catplot(x=\"sex\", y=\"target\", kind=\"bar\", data=heart_df, palette=\"pastel\")"
   ]
  },
  {
   "cell_type": "markdown",
   "metadata": {},
   "source": [
    "As we can clearly see here, having `sex == 1` seems to imply a lower chance of having heart disease."
   ]
  },
  {
   "cell_type": "code",
   "execution_count": 24,
   "metadata": {
    "ExecuteTime": {
     "end_time": "2020-07-19T01:38:23.643544Z",
     "start_time": "2020-07-19T01:38:23.442548Z"
    }
   },
   "outputs": [
    {
     "data": {
      "text/plain": [
       "<seaborn.axisgrid.FacetGrid at 0x2c20da24f88>"
      ]
     },
     "execution_count": 24,
     "metadata": {},
     "output_type": "execute_result"
    },
    {
     "data": {
      "image/png": "[encoded data removed]",
      "text/plain": [
       "<Figure size 335.25x300 with 1 Axes>"
      ]
     },
     "metadata": {
      "needs_background": "light"
     },
     "output_type": "display_data"
    }
   ],
   "source": [
    "sns.catplot(y=\"target\", hue=\"sex\", kind=\"count\",\n",
    "            palette=\"pastel\", edgecolor=\".6\",\n",
    "            data=heart_df)"
   ]
  },
  {
   "cell_type": "markdown",
   "metadata": {},
   "source": [
    "The sub-population of people who do not have the disease (`target == 0`) is dominated by men. Interestingly, the sub-population of people who do have the disease is also dominated by men. As we have seen before, men outnumber women by 2:1 in this dataset. To have a fair comparison between the two sub-populations we must look at incidence rates of the disease in the 2 sub-populations."
   ]
  },
  {
   "cell_type": "code",
   "execution_count": 28,
   "metadata": {
    "ExecuteTime": {
     "end_time": "2020-07-19T01:58:36.148439Z",
     "start_time": "2020-07-19T01:58:36.125474Z"
    }
   },
   "outputs": [
    {
     "name": "stdout",
     "output_type": "stream",
     "text": [
      "Incidence :: Men -> 0.4492753623188406\n",
      "Incidence :: Women -> 0.75\n"
     ]
    }
   ],
   "source": [
    "df_men = heart_df[heart_df['sex'] == 1]\n",
    "print(\"Incidence :: Men ->\", df_men[df_men['target'] == 1].shape[0]/df_men.shape[0]) ## number of men with the disease/number of men\n",
    "df_women = heart_df[heart_df['sex'] == 0]\n",
    "print(\"Incidence :: Women ->\", df_women[df_women['target'] == 1].shape[0]/df_women.shape[0]) ## number of women with the disease/number of women"
   ]
  },
  {
   "cell_type": "markdown",
   "metadata": {},
   "source": [
    "The above snippet quite clearly shows that the Incidence of heart disease for women in our sample is higher than that for men. This may be because of **Bias** as women are under-represented in our data. The only solution to this problem is to have a more gender balanced dataset. Otherwise our machine will end up learning that 75% of women have heart disease, which is inherently incorrect. Such biases can reduce trust in critical diagnostic tools and must be rectified."
   ]
  },
  {
   "cell_type": "markdown",
   "metadata": {},
   "source": [
    "Let us explore the important features of **blood pressure** (`trestbps`), **cholesterol** (`chol`) and **blood sugar** (`fbs`) and see what impact they have on the absence or presence of heart disease. "
   ]
  },
  {
   "cell_type": "code",
   "execution_count": 31,
   "metadata": {
    "ExecuteTime": {
     "end_time": "2020-07-19T02:27:31.628271Z",
     "start_time": "2020-07-19T02:27:31.395291Z"
    }
   },
   "outputs": [
    {
     "data": {
      "text/plain": [
       "<matplotlib.axes._subplots.AxesSubplot at 0x2c20ed4dbc8>"
      ]
     },
     "execution_count": 31,
     "metadata": {},
     "output_type": "execute_result"
    },
    {
     "data": {
      "image/png": "[encoded data removed]",
      "text/plain": [
       "<Figure size 960x540 with 1 Axes>"
      ]
     },
     "metadata": {
      "needs_background": "light"
     },
     "output_type": "display_data"
    }
   ],
   "source": [
    "sns.distplot(heart_df['trestbps'])"
   ]
  },
  {
   "cell_type": "markdown",
   "metadata": {},
   "source": [
    "At first glance, the blood pressure seems to be normally distributed, let us separate this out by `target`"
   ]
  },
  {
   "cell_type": "code",
   "execution_count": 40,
   "metadata": {
    "ExecuteTime": {
     "end_time": "2020-07-19T02:39:16.040019Z",
     "start_time": "2020-07-19T02:39:15.835983Z"
    }
   },
   "outputs": [
    {
     "data": {
      "text/plain": [
       "Text(0.5, 0, 'Blood Pressure')"
      ]
     },
     "execution_count": 40,
     "metadata": {},
     "output_type": "execute_result"
    },
    {
     "data": {
      "image/png": "[encoded data removed]",
      "text/plain": [
       "<Figure size 960x540 with 1 Axes>"
      ]
     },
     "metadata": {
      "needs_background": "light"
     },
     "output_type": "display_data"
    }
   ],
   "source": [
    "## Without heart disease\n",
    "df_hd0 = heart_df[heart_df['target'] == 0]\n",
    "## With heart disease\n",
    "df_hd1 = heart_df[heart_df['target'] == 1]\n",
    "sns.distplot(df_hd0['trestbps'], hist=False, label = 'Without Heart Disease')\n",
    "sns.distplot(df_hd1['trestbps'], hist=False, label = 'With Heart Disease')\n",
    "plt.title('Blood Pressure vs Target')\n",
    "plt.xlabel('Blood Pressure')"
   ]
  },
  {
   "cell_type": "markdown",
   "metadata": {},
   "source": [
    "The blood pressure is not able to separate our target classes, in fact, people with higher levels of blood pressure, don't seem to have heart disease at all. Let us explore `chol` in a similar manner."
   ]
  },
  {
   "cell_type": "code",
   "execution_count": 41,
   "metadata": {
    "ExecuteTime": {
     "end_time": "2020-07-19T02:39:53.745633Z",
     "start_time": "2020-07-19T02:39:53.554616Z"
    }
   },
   "outputs": [
    {
     "data": {
      "text/plain": [
       "Text(0.5, 0, 'Cholesterol')"
      ]
     },
     "execution_count": 41,
     "metadata": {},
     "output_type": "execute_result"
    },
    {
     "data": {
      "image/png": "[encoded data removed]",
      "text/plain": [
       "<Figure size 960x540 with 1 Axes>"
      ]
     },
     "metadata": {
      "needs_background": "light"
     },
     "output_type": "display_data"
    }
   ],
   "source": [
    "sns.distplot(df_hd0['chol'], hist=False, label = 'Without Heart Disease')\n",
    "sns.distplot(df_hd1['chol'], hist=False, label = 'With Heart Disease')\n",
    "plt.title('Cholesterol vs Target')\n",
    "plt.xlabel('Cholesterol')"
   ]
  },
  {
   "cell_type": "code",
   "execution_count": 12,
   "metadata": {
    "ExecuteTime": {
     "end_time": "2020-07-18T18:32:34.228959Z",
     "start_time": "2020-07-18T18:32:34.049975Z"
    }
   },
   "outputs": [
    {
     "data": {
      "text/plain": [
       "<seaborn.axisgrid.FacetGrid at 0x2103b549548>"
      ]
     },
     "execution_count": 12,
     "metadata": {},
     "output_type": "execute_result"
    },
    {
     "data": {
      "image/png": "[encoded data removed]",
      "text/plain": [
       "<Figure size 360x360 with 1 Axes>"
      ]
     },
     "metadata": {
      "needs_background": "light"
     },
     "output_type": "display_data"
    }
   ],
   "source": [
    "sns.catplot(x=\"cp\", kind=\"count\", palette=\"ch:.25\", data=heart_df)"
   ]
  },
  {
   "cell_type": "code",
   "execution_count": 26,
   "metadata": {
    "ExecuteTime": {
     "end_time": "2020-07-18T18:15:31.822603Z",
     "start_time": "2020-07-18T18:15:31.620607Z"
    }
   },
   "outputs": [
    {
     "data": {
      "text/html": [
       "[Text(0, 0.5, 'Frequency'), Text(0.5, 1.0, 'Frequency Histogram')]"
      ],
      "text/plain": [
       "[Text(0, 0.5, 'Frequency'), Text(0.5, 1.0, 'Frequency Histogram')]"
      ]
     },
     "execution_count": 26,
     "metadata": {},
     "output_type": "execute_result"
    },
    {
     "data": {
      "image/png": "[encoded data removed]",
      "text/plain": [
       "<Figure size 960x540 with 1 Axes>"
      ]
     },
     "metadata": {
      "needs_background": "light"
     },
     "output_type": "display_data"
    }
   ],
   "source": [
    "plt.hist(heart_df['age'], bins=20)\n",
    "plt.gca().set(title='Age', ylabel='Frequency')"
   ]
  },
  {
   "cell_type": "code",
   "execution_count": 28,
   "metadata": {
    "ExecuteTime": {
     "end_time": "2020-07-18T18:17:57.737083Z",
     "start_time": "2020-07-18T18:17:57.533116Z"
    }
   },
   "outputs": [
    {
     "data": {
      "text/html": [
       "[Text(0, 0.5, 'Frequency'), Text(0.5, 1.0, 'Resting Blood Pressure')]"
      ],
      "text/plain": [
       "[Text(0, 0.5, 'Frequency'), Text(0.5, 1.0, 'Resting Blood Pressure')]"
      ]
     },
     "execution_count": 28,
     "metadata": {},
     "output_type": "execute_result"
    },
    {
     "data": {
      "image/png": "[encoded data removed]",
      "text/plain": [
       "<Figure size 960x540 with 1 Axes>"
      ]
     },
     "metadata": {
      "needs_background": "light"
     },
     "output_type": "display_data"
    }
   ],
   "source": [
    "plt.hist(heart_df['trestbps'], bins=20)\n",
    "plt.gca().set(title='Resting Blood Pressure', ylabel='Frequency')"
   ]
  },
  {
   "cell_type": "code",
   "execution_count": null,
   "metadata": {},
   "outputs": [],
   "source": [
    "trestbps"
   ]
  },
  {
   "cell_type": "markdown",
   "metadata": {},
   "source": [
    "## Data Pre-Processing"
   ]
  },
  {
   "cell_type": "markdown",
   "metadata": {
    "colab_type": "text",
    "id": "s09LqoNXZHEn"
   },
   "source": [
    "No need for one hot encoding as all features are numeric and there is no class imbalance in the dataset either."
   ]
  },
  {
   "cell_type": "code",
   "execution_count": 8,
   "metadata": {
    "ExecuteTime": {
     "end_time": "2020-07-18T03:29:59.309714Z",
     "start_time": "2020-07-18T03:29:59.296709Z"
    },
    "colab": {},
    "colab_type": "code",
    "id": "l1Oq9fPkVJdt"
   },
   "outputs": [],
   "source": [
    "X = heart_df.iloc[:, :-1].values\n",
    "y = heart_df.iloc[:, -1].values"
   ]
  },
  {
   "cell_type": "markdown",
   "metadata": {},
   "source": [
    "### Train-Test split"
   ]
  },
  {
   "cell_type": "code",
   "execution_count": 9,
   "metadata": {
    "ExecuteTime": {
     "end_time": "2020-07-18T03:29:59.331713Z",
     "start_time": "2020-07-18T03:29:59.312715Z"
    },
    "colab": {},
    "colab_type": "code",
    "id": "k_5Ju1WvX8FD"
   },
   "outputs": [],
   "source": [
    "X_train, X_test, y_train, y_test = train_test_split(X, y, \n",
    "                                                    test_size = 0.25, random_state = 0)"
   ]
  },
  {
   "cell_type": "code",
   "execution_count": 10,
   "metadata": {
    "ExecuteTime": {
     "end_time": "2020-07-18T03:29:59.342711Z",
     "start_time": "2020-07-18T03:29:59.333708Z"
    },
    "colab": {
     "base_uri": "https://localhost:8080/",
     "height": 34
    },
    "colab_type": "code",
    "id": "rpSS6Y0JaUBB",
    "outputId": "c9f8c48a-2d5b-4f5a-9b01-683ff50d5193"
   },
   "outputs": [
    {
     "name": "stdout",
     "output_type": "stream",
     "text": [
      "(227, 13)\n"
     ]
    }
   ],
   "source": [
    "print(X_train.shape)"
   ]
  },
  {
   "cell_type": "code",
   "execution_count": 11,
   "metadata": {
    "ExecuteTime": {
     "end_time": "2020-07-18T03:29:59.350715Z",
     "start_time": "2020-07-18T03:29:59.344713Z"
    },
    "colab": {
     "base_uri": "https://localhost:8080/",
     "height": 34
    },
    "colab_type": "code",
    "id": "PgG02yPUaWfx",
    "outputId": "141a8222-82ab-4042-8a32-bc9160dc6626"
   },
   "outputs": [
    {
     "name": "stdout",
     "output_type": "stream",
     "text": [
      "(227,)\n"
     ]
    }
   ],
   "source": [
    "print(y_train.shape)"
   ]
  },
  {
   "cell_type": "markdown",
   "metadata": {},
   "source": [
    "### Feature Scaling"
   ]
  },
  {
   "cell_type": "code",
   "execution_count": 12,
   "metadata": {
    "ExecuteTime": {
     "end_time": "2020-07-18T03:29:59.364712Z",
     "start_time": "2020-07-18T03:29:59.353709Z"
    },
    "colab": {},
    "colab_type": "code",
    "id": "owrQHVe0YRgg"
   },
   "outputs": [],
   "source": [
    "sc = StandardScaler()\n",
    "X_train = sc.fit_transform(X_train)\n",
    "X_test = sc.transform(X_test)"
   ]
  },
  {
   "cell_type": "code",
   "execution_count": 13,
   "metadata": {
    "ExecuteTime": {
     "end_time": "2020-07-18T03:29:59.373715Z",
     "start_time": "2020-07-18T03:29:59.367726Z"
    },
    "colab": {
     "base_uri": "https://localhost:8080/",
     "height": 34
    },
    "colab_type": "code",
    "id": "wKd06KVoaCqI",
    "outputId": "1e93eccc-1a45-4f92-eb8e-9638d4209c2b"
   },
   "outputs": [
    {
     "name": "stdout",
     "output_type": "stream",
     "text": [
      "(227, 13)\n"
     ]
    }
   ],
   "source": [
    "print(X_train.shape)"
   ]
  },
  {
   "cell_type": "code",
   "execution_count": 14,
   "metadata": {
    "ExecuteTime": {
     "end_time": "2020-07-18T03:29:59.381714Z",
     "start_time": "2020-07-18T03:29:59.376714Z"
    },
    "colab": {
     "base_uri": "https://localhost:8080/",
     "height": 34
    },
    "colab_type": "code",
    "id": "i7AokPx9aa3h",
    "outputId": "8a67bc10-e6cb-4b06-a35a-e48670a9abf4"
   },
   "outputs": [
    {
     "name": "stdout",
     "output_type": "stream",
     "text": [
      "(76, 13)\n"
     ]
    }
   ],
   "source": [
    "print(X_test.shape)"
   ]
  },
  {
   "cell_type": "markdown",
   "metadata": {
    "colab_type": "text",
    "id": "BMbhrT7IbHgg"
   },
   "source": [
    "## Fitting the Logistic Regression Model"
   ]
  },
  {
   "cell_type": "code",
   "execution_count": 15,
   "metadata": {
    "ExecuteTime": {
     "end_time": "2020-07-18T03:29:59.388736Z",
     "start_time": "2020-07-18T03:29:59.384713Z"
    },
    "colab": {},
    "colab_type": "code",
    "id": "FKd6I6lVbGs0"
   },
   "outputs": [],
   "source": [
    "from sklearn.linear_model import LogisticRegression"
   ]
  },
  {
   "cell_type": "code",
   "execution_count": 16,
   "metadata": {
    "ExecuteTime": {
     "end_time": "2020-07-18T03:29:59.450731Z",
     "start_time": "2020-07-18T03:29:59.391708Z"
    },
    "colab": {
     "base_uri": "https://localhost:8080/",
     "height": 103
    },
    "colab_type": "code",
    "id": "AYFee7SFb13j",
    "outputId": "7c9fdeb2-0714-4539-928a-b952e2993ae4"
   },
   "outputs": [
    {
     "data": {
      "text/plain": [
       "LogisticRegression(C=1.0, class_weight={0: 0.45, 1: 0.55}, dual=False,\n",
       "                   fit_intercept=True, intercept_scaling=1, l1_ratio=None,\n",
       "                   max_iter=100, multi_class='auto', n_jobs=None, penalty='l2',\n",
       "                   random_state=0, solver='lbfgs', tol=0.0001, verbose=0,\n",
       "                   warm_start=False)"
      ]
     },
     "execution_count": 16,
     "metadata": {},
     "output_type": "execute_result"
    }
   ],
   "source": [
    "# log_reg = LogisticRegression(random_state=0, class_weight = {0:.45, 1:.55}) ## With class_weights\n",
    "log_reg = LogisticRegression(random_state=0) ## Without class_weights\n",
    "log_reg.fit(X_train, y_train)"
   ]
  },
  {
   "cell_type": "code",
   "execution_count": 17,
   "metadata": {
    "ExecuteTime": {
     "end_time": "2020-07-18T03:29:59.459713Z",
     "start_time": "2020-07-18T03:29:59.452731Z"
    },
    "colab": {
     "base_uri": "https://localhost:8080/",
     "height": 86
    },
    "colab_type": "code",
    "id": "hoFgpKa0cz2A",
    "outputId": "5af0e391-6827-499f-c4b3-d7c11047084a"
   },
   "outputs": [
    {
     "data": {
      "text/plain": [
       "array([0, 1, 1, 0, 0, 0, 0, 0, 0, 0, 1, 1, 0, 1, 1, 1, 0, 1, 0, 1, 1, 0,\n",
       "       0, 0, 1, 1, 0, 0, 1, 1, 1, 0, 1, 1, 1, 1, 0, 1, 0, 0, 1, 1, 1, 0,\n",
       "       1, 1, 1, 1, 0, 1, 1, 1, 1, 1, 1, 0, 1, 1, 1, 1, 1, 1, 1, 1, 1, 1,\n",
       "       1, 0, 1, 1, 0, 1, 1, 0, 0, 1], dtype=int64)"
      ]
     },
     "execution_count": 17,
     "metadata": {},
     "output_type": "execute_result"
    }
   ],
   "source": [
    "y_pred = log_reg.predict(X_test)\n",
    "y_pred"
   ]
  },
  {
   "cell_type": "code",
   "execution_count": 18,
   "metadata": {
    "ExecuteTime": {
     "end_time": "2020-07-18T03:29:59.468714Z",
     "start_time": "2020-07-18T03:29:59.462713Z"
    },
    "colab": {
     "base_uri": "https://localhost:8080/",
     "height": 86
    },
    "colab_type": "code",
    "id": "-5PHjX9XdQTa",
    "outputId": "b1fd527c-14d2-4e92-f7e0-c342e8a3fda7"
   },
   "outputs": [
    {
     "data": {
      "text/plain": [
       "array([0, 1, 0, 0, 1, 0, 0, 0, 0, 0, 1, 1, 0, 1, 1, 1, 1, 1, 0, 1, 1, 0,\n",
       "       0, 0, 1, 0, 0, 0, 1, 1, 0, 0, 1, 1, 1, 0, 0, 1, 0, 0, 1, 1, 1, 0,\n",
       "       1, 1, 1, 0, 0, 1, 1, 1, 1, 1, 1, 0, 1, 0, 1, 1, 1, 1, 1, 1, 0, 0,\n",
       "       0, 0, 1, 1, 1, 1, 1, 0, 0, 1], dtype=int64)"
      ]
     },
     "execution_count": 18,
     "metadata": {},
     "output_type": "execute_result"
    }
   ],
   "source": [
    "y_test"
   ]
  },
  {
   "cell_type": "code",
   "execution_count": 19,
   "metadata": {
    "ExecuteTime": {
     "end_time": "2020-07-18T03:29:59.479709Z",
     "start_time": "2020-07-18T03:29:59.470712Z"
    },
    "colab": {
     "base_uri": "https://localhost:8080/",
     "height": 1000
    },
    "colab_type": "code",
    "id": "Z6ItWFomdhBI",
    "outputId": "32ce4b40-b889-4867-942d-e02fb21616db"
   },
   "outputs": [
    {
     "data": {
      "text/plain": [
       "array([0.95143139, 0.16484276, 0.16228557, 0.97272299, 0.84138009,\n",
       "       0.55419639, 0.90497211, 0.86110357, 0.993019  , 0.99520492,\n",
       "       0.21950174, 0.04996334, 0.95319187, 0.14461342, 0.0255242 ,\n",
       "       0.26534823, 0.91104505, 0.2514785 , 0.98801717, 0.20722862,\n",
       "       0.17402228, 0.63811624, 0.86866272, 0.82188465, 0.10575493,\n",
       "       0.29728492, 0.77219375, 0.58776365, 0.0140374 , 0.28018682,\n",
       "       0.31228939, 0.97780459, 0.02568585, 0.25093773, 0.06628511,\n",
       "       0.27036383, 0.94563409, 0.14763423, 0.91453859, 0.79978769,\n",
       "       0.20639728, 0.14282402, 0.49635783, 0.8984724 , 0.36886517,\n",
       "       0.23681745, 0.16686055, 0.32745922, 0.93381282, 0.17862303,\n",
       "       0.14001998, 0.26684971, 0.02112609, 0.10763345, 0.00379735,\n",
       "       0.85807681, 0.03343725, 0.052151  , 0.21807921, 0.03405738,\n",
       "       0.17487543, 0.01030199, 0.05281815, 0.09676405, 0.17042499,\n",
       "       0.27659131, 0.13809706, 0.77439522, 0.23154261, 0.39667479,\n",
       "       0.52739795, 0.04852317, 0.15345091, 0.9475188 , 0.87783147,\n",
       "       0.09211722])"
      ]
     },
     "execution_count": 19,
     "metadata": {},
     "output_type": "execute_result"
    }
   ],
   "source": [
    "predicted_probabilities = log_reg.predict_proba(X_test)\n",
    "predicted_probabilities[:, 0] ## Probability of having target == 1"
   ]
  },
  {
   "cell_type": "code",
   "execution_count": 20,
   "metadata": {
    "ExecuteTime": {
     "end_time": "2020-07-18T03:29:59.517715Z",
     "start_time": "2020-07-18T03:29:59.481709Z"
    },
    "colab": {
     "base_uri": "https://localhost:8080/",
     "height": 138
    },
    "colab_type": "code",
    "id": "121wwscAdrOt",
    "outputId": "3f3ac019-96e6-4621-ee67-bd638080439a"
   },
   "outputs": [
    {
     "name": "stdout",
     "output_type": "stream",
     "text": [
      "CONFUSION MATRIX \n",
      " [[24  9]\n",
      " [ 3 40]]\n",
      "ACCURACY : 0.84\n",
      "PRECISION : 0.82\n",
      "RECALL : 0.93\n",
      "AUC :  0.83\n"
     ]
    }
   ],
   "source": [
    "from sklearn.metrics import confusion_matrix, accuracy_score, precision_score, recall_score, roc_curve, auc\n",
    "cm = confusion_matrix(y_test, y_pred, labels=[0, 1])\n",
    "print(\"CONFUSION MATRIX \\n\", cm)\n",
    "acc = accuracy_score(y_test, y_pred)\n",
    "print(\"ACCURACY :\", round(acc, 2))\n",
    "precision = precision_score(y_test, y_pred)\n",
    "print(\"PRECISION :\", round(precision, 2))\n",
    "recall = recall_score(y_test, y_pred)\n",
    "print(\"RECALL :\", round(recall, 2))\n",
    "fpr, tpr, thresh = roc_curve(y_test, y_pred)\n",
    "auc_score = auc(fpr, tpr)\n",
    "print(\"AUC : \", round(auc_score, 2))"
   ]
  },
  {
   "cell_type": "markdown",
   "metadata": {
    "colab_type": "text",
    "id": "8CLTSuJigHUS"
   },
   "source": [
    "Our logistic regression model, performs quite well on this test dataset. As we are diagnosing heart disease, it is critically important to reduce False Negatives (i.e. Predicting an absence of the disease when in reality there is heart disease) => we must **maximize** recall."
   ]
  },
  {
   "cell_type": "code",
   "execution_count": 21,
   "metadata": {
    "ExecuteTime": {
     "end_time": "2020-07-18T03:29:59.846562Z",
     "start_time": "2020-07-18T03:29:59.519709Z"
    },
    "colab": {
     "base_uri": "https://localhost:8080/",
     "height": 570
    },
    "colab_type": "code",
    "id": "5_6D8ZHJgbKP",
    "outputId": "d9f6c18d-3d82-4574-d7d6-abd014e849b9"
   },
   "outputs": [
    {
     "data": {
      "text/plain": [
       "Text(0.5, 1.0, 'ROC-CURVE & AREA UNDER CURVE')"
      ]
     },
     "execution_count": 21,
     "metadata": {},
     "output_type": "execute_result"
    },
    {
     "data": {
      "image/png": "[encoded data removed]",
      "text/plain": [
       "<Figure size 1152x648 with 1 Axes>"
      ]
     },
     "metadata": {
      "needs_background": "light"
     },
     "output_type": "display_data"
    }
   ],
   "source": [
    "fig = plt.figure(figsize=(16, 9))\n",
    "ax  = fig.add_subplot(111)\n",
    "ax.plot(fpr, tpr, label = [\" Area under curve : \", round(auc_score, 3)], linewidth = 4, linestyle = \"dotted\")\n",
    "ax.plot([0,1],[0,1],linewidth = 4, linestyle = \"dashed\")\n",
    "plt.legend(loc = \"best\")\n",
    "plt.title(\"ROC-CURVE & AREA UNDER CURVE\")"
   ]
  }
 ],
 "metadata": {
  "colab": {
   "collapsed_sections": [],
   "name": "classification.ipynb",
   "provenance": []
  },
  "kernelspec": {
   "display_name": "Python 3",
   "language": "python",
   "name": "python3"
  },
  "language_info": {
   "codemirror_mode": {
    "name": "ipython",
    "version": 3
   },
   "file_extension": ".py",
   "mimetype": "text/x-python",
   "name": "python",
   "nbconvert_exporter": "python",
   "pygments_lexer": "ipython3",
   "version": "3.7.4"
  },
  "toc": {
   "base_numbering": 1,
   "nav_menu": {},
   "number_sections": false,
   "sideBar": true,
   "skip_h1_title": false,
   "title_cell": "Table of Contents",
   "title_sidebar": "Contents",
   "toc_cell": false,
   "toc_position": {},
   "toc_section_display": true,
   "toc_window_display": false
  },
  "varInspector": {
   "cols": {
    "lenName": 16,
    "lenType": 16,
    "lenVar": 40
   },
   "kernels_config": {
    "python": {
     "delete_cmd_postfix": "",
     "delete_cmd_prefix": "del ",
     "library": "var_list.py",
     "varRefreshCmd": "print(var_dic_list())"
    },
    "r": {
     "delete_cmd_postfix": ") ",
     "delete_cmd_prefix": "rm(",
     "library": "var_list.r",
     "varRefreshCmd": "cat(var_dic_list()) "
    }
   },
   "types_to_exclude": [
    "module",
    "function",
    "builtin_function_or_method",
    "instance",
    "_Feature"
   ],
   "window_display": false
  }
 },
 "nbformat": 4,
 "nbformat_minor": 1
}
